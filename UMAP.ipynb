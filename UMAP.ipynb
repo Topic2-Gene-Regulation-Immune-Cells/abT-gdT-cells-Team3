{
 "cells": [
  {
   "cell_type": "markdown",
   "id": "f0553079",
   "metadata": {},
   "source": [
    "# Creation of UMAP to identify batch effects"
   ]
  },
  {
   "cell_type": "markdown",
   "id": "233fffa1",
   "metadata": {},
   "source": [
    "This UMAP is part of the exploratory data analysis. It will help identify cell"
   ]
  },
  {
   "cell_type": "code",
   "execution_count": null,
   "id": "a70cbbfb",
   "metadata": {},
   "outputs": [],
   "source": []
  }
 ],
 "metadata": {
  "language_info": {
   "name": "python"
  }
 },
 "nbformat": 4,
 "nbformat_minor": 5
}
