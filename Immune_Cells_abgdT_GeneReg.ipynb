{
 "cells": [
  {
   "cell_type": "markdown",
   "metadata": {},
   "source": [
    "# Data Paths and Prep"
   ]
  },
  {
   "cell_type": "markdown",
   "metadata": {},
   "source": [
    "### Paths"
   ]
  },
  {
   "cell_type": "code",
   "execution_count": null,
   "metadata": {},
   "outputs": [],
   "source": [
    "# Kaja von Volkmann\n",
    "ATAC_seq_path = \"\"\n",
    "RNA_seq_path = \"\"\n",
    "Transcription_exons_path = \"\"\n",
    "Cell_population_qc_path = \"\"\n",
    "Voluntary_path = \"\""
   ]
  },
  {
   "cell_type": "code",
   "execution_count": null,
   "metadata": {},
   "outputs": [],
   "source": [
    "# Pia Kentschke\n",
    "ATAC_seq_path = \"/Users/piakentschke/Documents/Uni/Data Analysis/ImmGenATAC18_AllOCRsInfo.csv\"\n",
    "RNA_seq_path = \"/Users/piakentschke/Documents/Uni/Data Analysis/RNA-seq_data.csv\"\n",
    "Transcription_exons_path = \"/Users/piakentschke/Documents/Uni/Data Analysis/refFlat.txt\"\n",
    "Cell_population_qc_path = \"/Users/piakentschke/Documents/Uni/Data Analysis/mmc1.xlsx\"\n",
    "Voluntary_path = \"/Users/piakentschke/Documents/Uni/Data Analysis/ImmGenATAC18_AllTFmotifsInOCRs.txt\""
   ]
  },
  {
   "cell_type": "code",
   "execution_count": null,
   "metadata": {},
   "outputs": [],
   "source": [
    "# Helen Mennenoeh\n",
    "ATAC_seq_path = \"\"\n",
    "RNA_seq_path = \"\"\n",
    "Transcription_exons_path = \"\"\n",
    "Cell_population_qc_path = \"\"\n",
    "Voluntary_path = \"\""
   ]
  },
  {
   "cell_type": "code",
   "execution_count": 3,
   "metadata": {},
   "outputs": [],
   "source": [
    "# Laila Frisius\n",
    "ATAC_seq_path = \"/Users/laila/github/bioinfo25/Raw_data/ATAC-seq_called-peaks_ImmGenATAC18_AllOCRsInfo.csv\"\n",
    "RNA_seq_path = \"/Users/laila/github/bioinfo25/Raw_data/RNA-seq_mmc2.csv\"\n",
    "Transcription_exons_path = \"/Users/laila/github/bioinfo25/Raw_data/Transkrips-exon_refFlat.txt\"\n",
    "Cell_population_qc_path = \"/Users/laila/github/bioinfo25/Raw_data/cell-populations_qc-matrices_mmc1.xlsx\"\n",
    "Voluntary_path = \"/Users/laila/github/bioinfo25/Raw_data/voluntary_ImmGenATAC18_AllTFmotifsInOCRs.txt\""
   ]
  },
  {
   "cell_type": "markdown",
   "metadata": {},
   "source": [
    "### Packages"
   ]
  },
  {
   "cell_type": "code",
   "execution_count": 4,
   "metadata": {},
   "outputs": [],
   "source": [
    "# import of packages\n",
    "import pandas as pd\n",
    "import matplotlib.pyplot as plt\n",
    "import seaborn as sns\n",
    "import numpy as np\n",
    "import scipy.stats\n",
    "import sklearn.manifold as sklm\n",
    "import os"
   ]
  },
  {
   "cell_type": "markdown",
   "metadata": {},
   "source": [
    "### Data Sets"
   ]
  },
  {
   "cell_type": "code",
   "execution_count": 12,
   "metadata": {},
   "outputs": [],
   "source": [
    "# Load data sets\n",
    "ATAC_seq = pd.read_csv(ATAC_seq_path, keep_default_na=False)\n",
    "RNA_seq = pd.read_csv(RNA_seq_path)\n",
    "Cell_population_qc = pd.read_excel(Cell_population_qc_path)\n",
    "\n",
    "# Create data subsets\n",
    "col_ATAC_seq_ab_act_gd_T = ['LTHSC.34-.BM', 'LTHSC.34+.BM', 'STHSC.150-.BM', 'MPP4.135+.BM','preT.DN1.Th', 'preT.DN2a.Th', 'preT.DN2b.Th',\n",
    "    'preT.DN3.Th', 'T.DN4.Th', 'T.ISP.Th', 'T.DP.Th', 'T.4.Th', 'T.8.Th',\n",
    "    'T.4.Nve.Sp', 'T.4.Nve.Fem.Sp', 'T.8.Nve.Sp', 'T.4.Sp.aCD3+CD40.18hr',\n",
    "    'Treg.4.FP3+.Nrplo.Co', 'Treg.4.25hi.Sp', 'T8.TN.P14.Sp',\n",
    "    'T8.IEL.LCMV.d7.SI', 'T8.TE.LCMV.d7.Sp', 'T8.MP.LCMV.d7.Sp',\n",
    "    'T8.Tcm.LCMV.d180.Sp', 'T8.Tem.LCMV.d180.Sp', 'NKT.Sp',\n",
    "    'NKT.Sp.LPS.3hr', 'NKT.Sp.LPS.18hr', 'NKT.Sp.LPS.3d',\n",
    "    'Tgd.g2+d17.24a+.Th', 'Tgd.g2+d17.LN', 'Tgd.g2+d1.24a+.Th',\n",
    "    'Tgd.g2+d1.LN', 'Tgd.g1.1+d1.24a+.Th', 'Tgd.g1.1+d1.LN', 'Tgd.Sp']\n",
    "\n",
    "col_ATAC_seq_ab_act_T = ['LTHSC.34-.BM', 'LTHSC.34+.BM', 'STHSC.150-.BM', 'MPP4.135+.BM','preT.DN1.Th', 'preT.DN2a.Th', 'preT.DN2b.Th',\n",
    "    'preT.DN3.Th', 'T.DN4.Th', 'T.ISP.Th', 'T.DP.Th', 'T.4.Th', 'T.8.Th',\n",
    "    'T.4.Nve.Sp', 'T.4.Nve.Fem.Sp', 'T.8.Nve.Sp', 'T.4.Sp.aCD3+CD40.18hr',\n",
    "    'Treg.4.FP3+.Nrplo.Co', 'Treg.4.25hi.Sp', 'T8.TN.P14.Sp',\n",
    "    'T8.IEL.LCMV.d7.SI', 'T8.TE.LCMV.d7.Sp', 'T8.MP.LCMV.d7.Sp',\n",
    "    'T8.Tcm.LCMV.d180.Sp', 'T8.Tem.LCMV.d180.Sp', 'NKT.Sp',\n",
    "    'NKT.Sp.LPS.3hr', 'NKT.Sp.LPS.18hr', 'NKT.Sp.LPS.3d']\n",
    "\n",
    "col_ATAC_seq_gd_T = ['LTHSC.34-.BM', 'LTHSC.34+.BM', 'STHSC.150-.BM', 'MPP4.135+.BM','Tgd.g2+d17.24a+.Th', 'Tgd.g2+d17.LN', 'Tgd.g2+d1.24a+.Th',\n",
    "    'Tgd.g2+d1.LN', 'Tgd.g1.1+d1.24a+.Th', 'Tgd.g1.1+d1.LN', 'Tgd.Sp']\n",
    "\n",
    "col_ATAC_seq_ab_T = ['LTHSC.34-.BM', 'LTHSC.34+.BM', 'STHSC.150-.BM', 'MPP4.135+.BM','preT.DN1.Th', 'preT.DN2a.Th', 'preT.DN2b.Th',\n",
    "    'preT.DN3.Th', 'T.DN4.Th', 'T.ISP.Th', 'T.DP.Th', 'T.4.Th', 'T.8.Th',\n",
    "    'T.4.Nve.Sp', 'T.4.Nve.Fem.Sp', 'T.8.Nve.Sp', 'T.4.Sp.aCD3+CD40.18hr',\n",
    "    'Treg.4.FP3+.Nrplo.Co', 'Treg.4.25hi.Sp']\n",
    "\n",
    "ATAC_seq_ab_act_gd_T = ATAC_seq[col_ATAC_seq_ab_act_gd_T]\n",
    "ATAC_seq_gd_T = ATAC_seq[col_ATAC_seq_gd_T]\n",
    "ATAC_seq_ab_act_T = ATAC_seq[col_ATAC_seq_ab_act_T]\n",
    "ATAC_seq_ab_T = ATAC_seq[col_ATAC_seq_ab_T]"
   ]
  },
  {
   "cell_type": "markdown",
   "metadata": {},
   "source": [
    "# Data Clean up and Normalization\n",
    "---"
   ]
  },
  {
   "cell_type": "markdown",
   "metadata": {},
   "source": [
    "### Set Thresholds"
   ]
  },
  {
   "cell_type": "code",
   "execution_count": null,
   "metadata": {},
   "outputs": [],
   "source": [
    "# Setting thresholds qc metrics\n",
    "qc_thresholds = {\n",
    "\"%fragment.1Kb_TSS\": (\"min\", 6),\n",
    "\"Paired.read.after.removing.PCR.duplication\": (\"min\", 3000),\n",
    "\"%chrM.mapped\": (\"max\", 5),\n",
    "\"Replicate.cor\": (\"min\", 0),\n",
    "\"InputCellNumber\": (\"min\", 500)\n",
    "}\n",
    "\n",
    "# Setting threshold ATAC-seq (p = 0.05)\n",
    "threshold_pval = 1.3"
   ]
  },
  {
   "cell_type": "markdown",
   "metadata": {},
   "source": [
    "### Removal of N/A and interfering values"
   ]
  },
  {
   "cell_type": "code",
   "execution_count": null,
   "metadata": {},
   "outputs": [],
   "source": [
    "# QC metrics\n",
    "    # remove N/A \n",
    "qc_clean = Cell_population_qc.copy()\n",
    "qc_clean = qc_clean.dropna(subset=[\n",
    "    \"%fragment.1Kb_TSS\",\n",
    "    \"Paired.read.after.removing.PCR.duplication\",\n",
    "    \"%chrM.mapped\",\n",
    "    \"Replicate.cor\",\n",
    "    \"InputCellNumber\"\n",
    "])\n",
    "\n",
    "# ATAC-seq\n",
    "ATAC_seq_clean = ATAC_seq.copy()\n",
    "    # check for inf values\n",
    "ATAC_inf = ATAC_seq.isin([np.inf, -np.inf]).sum()\n",
    "print(\"Infinite values in ATAC_seq:\")\n",
    "print(ATAC_inf[ATAC_inf > 0])\n",
    "\n",
    "    # check for NaN values\n",
    "ATAC_missing = ATAC_seq.isna().sum()\n",
    "print(\"NaN in ATAC_seq:\")\n",
    "print(ATAC_missing[ATAC_missing > 0])\n",
    "\n",
    "    # show rows of infinite -log10 p values\n",
    "inf_rows = ATAC_seq[ATAC_seq['_-log10_bestPvalue'].isin([np.inf, -np.inf])]\n",
    "\n",
    "    #drop peaks with infinite -log10 p values\n",
    "ATAC_seq_clean = ATAC_seq_clean[ATAC_seq['_-log10_bestPvalue'] != np.inf]\n",
    "\n",
    "    # range of -log10 p-values\n",
    "pvalues = ATAC_seq_clean[\"_-log10_bestPvalue\"]\n",
    "\n",
    "min_pval = pvalues.min()\n",
    "max_pval = pvalues.max()\n",
    "print(f\"Minimum -log10 p-value: {min_pval}\")\n",
    "print(f\"Maximum -log10 p-value: {max_pval}\")\n",
    "\n",
    "# RNA-seq\n",
    "print(RNA_seq.isna().sum().sum())\n",
    "print((RNA_seq.iloc[:, 1:] < 1).sum().sum())\n",
    "numerical_data=RNA_seq.iloc[:, 1:]\n",
    "    #gesamtsumme berechnen\n",
    "sample_sums=numerical_data.sum(axis=0)\n",
    "low_sum_samples=sample_sums[sample_sums <= 100]\n",
    "print(low_sum_samples)\n",
    "    #varianz berechnen\n",
    "sample_variance=numerical_data.var(axis=0)\n",
    "low_variance_samples=sample_variance[sample_variance <= 0.5]\n",
    "print(low_variance_samples)"
   ]
  },
  {
   "cell_type": "markdown",
   "metadata": {},
   "source": [
    "### Code for Data Filtering"
   ]
  },
  {
   "cell_type": "code",
   "execution_count": null,
   "metadata": {},
   "outputs": [],
   "source": [
    "metrics = [\n",
    "    (\"%fragment.1Kb_TSS\", \"TSS enrichment\"),\n",
    "    (\"Paired.read.after.removing.PCR.duplication\", \"nFrags\"),\n",
    "    (\"%chrM.mapped\", \"chrM mapped (%)\"),\n",
    "    (\"Replicate.cor\", \"Replicate correlation\"),\n",
    "    (\"InputCellNumber\", \"Input cell number\")\n",
    "]\n",
    "fig, axes = plt.subplots(2, len(metrics), figsize=(5*len(metrics), 8))\n",
    "\n",
    "# Filtering with thresholds\n",
    "def apply_qc_thresholds (df, qc_thresholds):\n",
    "    import operator\n",
    "\n",
    "    mask = pd.Series(True, index = df.index)\n",
    "    for col, (bound, val) in qc_thresholds.items():\n",
    "        if bound == \"min\":\n",
    "            mask&= df[col] >= val\n",
    "        elif bound == \"max\":\n",
    "            mask&= df[col] <= val\n",
    "    return df[mask].copy()"
   ]
  },
  {
   "cell_type": "code",
   "execution_count": null,
   "metadata": {},
   "outputs": [],
   "source": [
    "# QC metrics\n",
    "qc_filtered = apply_qc_thresholds(qc_clean, qc_thresholds)\n",
    "\n",
    "# Filter ATAC-seq peaks based on logp value threshold \n",
    "ATAC_seq_filtered = ATAC_seq_clean[ATAC_seq_clean[\"_-log10_bestPvalue\"] >= threshold_pval]"
   ]
  },
  {
   "cell_type": "code",
   "execution_count": null,
   "metadata": {},
   "outputs": [],
   "source": [
    "# Extract the peakID column \n",
    "peak_id_col = ATAC_seq_filtered[[\"ImmGenATAC1219.peakID\"]]\n",
    "\n",
    "# Extract the accessibility score columns\n",
    "score_cols = ATAC_seq_filtered.loc[:, \"LTHSC.34-.BM\":]\n",
    "score_abgd = ATAC_seq_filtered[col_ATAC_seq_ab_act_gd_T]\n",
    "\n",
    "# Create data frame with only scores per peak\n",
    "ATAC_scores = pd.concat([peak_id_col, score_cols], axis=1)"
   ]
  },
  {
   "cell_type": "markdown",
   "metadata": {},
   "source": [
    "### Normalization"
   ]
  },
  {
   "cell_type": "code",
   "execution_count": null,
   "metadata": {},
   "outputs": [],
   "source": [
    "RNA_seq_log2=RNA_seq.copy()\n",
    "RNA_seq_log2.iloc[:, 1:]=np.log2(RNA_seq.iloc[:, 1:])"
   ]
  },
  {
   "cell_type": "code",
   "execution_count": null,
   "metadata": {},
   "outputs": [],
   "source": [
    "# log2-transformation\n",
    "peak_signal_log = np.log2(score_abgd+1)\n",
    "spaltenpositionen = [peak_signal_log.columns.get_loc(name) for name in col_ATAC_seq_ab_T]"
   ]
  },
  {
   "cell_type": "markdown",
   "metadata": {},
   "source": [
    "# Exploratory Data\n",
    "---"
   ]
  },
  {
   "cell_type": "code",
   "execution_count": null,
   "metadata": {},
   "outputs": [],
   "source": [
    "# Plotting of data qc\n",
    "for i, (col, label) in enumerate(metrics):\n",
    "    sns.violinplot(y=qc_clean[col], ax=axes[0, i], color='skyblue')\n",
    "    axes[0, i].set_title(f\"{label}\\n(raw data)\")\n",
    "    sns.violinplot(y=qc_filtered[col], ax=axes[1,i], color= 'lightgreen')\n",
    "    axes[1,i].set_title(f\"{label}\\n(filtered data)\")\n",
    "\n",
    "plt.tight_layout()\n",
    "plt.show()"
   ]
  },
  {
   "cell_type": "code",
   "execution_count": null,
   "metadata": {},
   "outputs": [],
   "source": [
    "# Extract the peakID column \n",
    "peak_id_col = ATAC_seq_filtered[[\"ImmGenATAC1219.peakID\"]]\n",
    "\n",
    "# Extract the accessibility score columns\n",
    "score_cols = ATAC_seq_filtered.loc[:, \"LTHSC.34-.BM\":]\n",
    "\n",
    "# Create data frame with only scores per peak\n",
    "ATAC_scores = pd.concat([peak_id_col, score_cols], axis=1)\n",
    "\n",
    "# calculate mean accessibility score for each peak\n",
    "mean_accessibility_per_peak = ATAC_scores.mean(axis=1, numeric_only=True)\n",
    "\n",
    "# calculate median accessibility score for each peak\n",
    "median_accessibility_per_peak = ATAC_scores.median(axis=1, numeric_only=True)\n",
    "\n",
    "# calculate standard deviation of accessibility scores for each peak\n",
    "sd_accessibility_per_peak = ATAC_scores.std(axis=1, numeric_only=True)\n",
    "\n",
    "# variance within cell type\n",
    "variance_within_cell = ATAC_scores.var(axis = 0, numeric_only = True)\n",
    "\n",
    "# variance across cell types (for each peak)\n",
    "variance_across_cells = ATAC_scores.var(axis = 1, numeric_only=True)\n",
    "\n",
    "# create summary data frame\n",
    "mean_med_sd_df = pd.DataFrame({\n",
    "    \"Mean Accessibility\": mean_accessibility_per_peak,\n",
    "    \"Median Accessibility\": median_accessibility_per_peak,\n",
    "    \"Standard Deviation\": sd_accessibility_per_peak,\n",
    "    \"Variance across cells\": variance_across_cells,\n",
    "})\n",
    "\n",
    "#print(ATAC_scores)\n",
    "#print(mean_accessibility_per_peak)\n",
    "#print(mean_med_sd_df)\n",
    "print(mean_med_sd_df)\n",
    "print(variance_within_cell)\n",
    "\n"
   ]
  },
  {
   "cell_type": "markdown",
   "metadata": {},
   "source": [
    "### PCA RNA-seq"
   ]
  },
  {
   "cell_type": "code",
   "execution_count": null,
   "metadata": {},
   "outputs": [],
   "source": [
    "#ohne gennamen\n",
    "data=RNA_seq_log2.iloc[:, 1:]\n",
    "#auswahl der 1000 variablesten gene\n",
    "variances=data.var(axis=1)\n",
    "top_genes=variances.nlargest(1000).index\n",
    "#transponieren\n",
    "data_T=data.T\n",
    "#mittelwertzentrierung?\n",
    "data_centered=data_T-data_T.mean(axis=0)\n",
    "# matrix mit Kovarianz\n",
    "cov_matrix=np.cov(data_centered, rowvar=False)\n",
    "# Eigenwerte und Eigenvektoren\n",
    "eig_vals, eig_vecs=np.linalg.eigh(cov_matrix)\n",
    "# ansteigend sortieren\n",
    "sorted_idx=np.argsort(eig_vals)[::-1]\n",
    "eig_vals=eig_vals[sorted_idx]\n",
    "eig_vecs=eig_vecs[:, sorted_idx]\n",
    "#ersten zwei PCs\n",
    "pc1=data_centered @ eig_vecs[:, 0]\n",
    "pc2=data_centered @ eig_vecs[:, 1]\n",
    "#plot\n",
    "plt.figure(figsize=(8, 6))\n",
    "plt.scatter(pc1, pc2)\n",
    "#achsen labeln\n",
    "for i, sample in enumerate(data_T.index):\n",
    "    plt.text(pc1[i] + 0.2, pc2[i], sample, fontsize=9)\n",
    "\n",
    "plt.xlabel(f\"PC1 ({eig_vals[0]/eig_vals.sum()*100:.1f}%)\")\n",
    "plt.ylabel(f\"PC2 ({eig_vals[1]/eig_vals.sum()*100:.1f}%)\")\n",
    "plt.title(\"PCA der RNA-Seq Samples\")\n",
    "plt.grid(True)\n",
    "plt.tight_layout()\n",
    "plt.show()"
   ]
  },
  {
   "cell_type": "code",
   "execution_count": null,
   "metadata": {},
   "outputs": [
    {
     "data": {
      "image/png": "[encoded data removed]",
      "text/plain": [
       "<Figure size 800x600 with 1 Axes>"
      ]
     },
     "metadata": {},
     "output_type": "display_data"
    }
   ],
   "source": [
    "# Matrix für t-SNE\n",
    "M_tSNE_peaks = np.array(peak_signal_log)\n",
    "M_tSNE_small = M_tSNE_peaks[:100,:4]\n",
    "M_tSNE_ab_T = M_tSNE_peaks[:, spaltenpositionen]\n",
    "\n",
    "# test t-SNE\n",
    "#tsne_peaks_small = sklm.TSNE(n_components = 2, perplexity=30, random_state=42)\n",
    "#M_tSNE_test = tsne_peaks_small.fit_transform(M_tSNE_small)\n",
    "\n",
    "# t-SNE ab\n",
    "tsne_peaks_ab_T = sklm.TSNE(n_components = 2, perplexity=30, random_state=42)\n",
    "M_tSNE_ab_T = tsne_peaks_ab_T.fit_transform(M_tSNE_ab_T)\n",
    "\n",
    "# t-SNE\n",
    "# tsne_peaks = sklm.TSNE(n_components=2, perplexity=30, random_state=42)\n",
    "# M_tSNE_peaks_embedded = tsne_peaks.fit_transform(M_tSNE_peaks)\n",
    "\n",
    "plt.figure(figsize=(8,6))\n",
    "plt.scatter(M_tSNE_ab_T[:,0], M_tSNE_ab_T[:,1], s=5, alpha=0.7)\n",
    "plt.title('t-SNE der Peaks (ATAC-seq)')\n",
    "plt.xlabel('t-SNE 1')\n",
    "plt.ylabel('t-SNE 2')\n",
    "plt.tight_layout()\n",
    "plt.show()"
   ]
  },
  {
   "cell_type": "markdown",
   "metadata": {},
   "source": [
    "# Discriptive and Comparative Analysis"
   ]
  },
  {
   "cell_type": "markdown",
   "metadata": {},
   "source": [
    "# Statistical Analysis and Regression Models"
   ]
  }
 ],
 "metadata": {
  "kernelspec": {
   "display_name": "bioinfo_base",
   "language": "python",
   "name": "python3"
  },
  "language_info": {
   "codemirror_mode": {
    "name": "ipython",
    "version": 3
   },
   "file_extension": ".py",
   "mimetype": "text/x-python",
   "name": "python",
   "nbconvert_exporter": "python",
   "pygments_lexer": "ipython3",
   "version": "3.13.2"
  }
 },
 "nbformat": 4,
 "nbformat_minor": 2
}
