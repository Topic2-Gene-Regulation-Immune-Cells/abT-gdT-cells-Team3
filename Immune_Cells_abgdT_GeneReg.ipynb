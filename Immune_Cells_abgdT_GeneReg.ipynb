{
 "cells": [
  {
   "cell_type": "markdown",
   "metadata": {},
   "source": [
    "# Data Paths and Prep"
   ]
  },
  {
   "cell_type": "markdown",
   "metadata": {},
   "source": [
    "### Paths"
   ]
  },
  {
   "cell_type": "code",
   "execution_count": null,
   "metadata": {},
   "outputs": [],
   "source": [
    "# Kaja von Volkmann\n",
    "ATAC_seq_path = \"\"\n",
    "RNA_seq_path = \"\"\n",
    "Transcription_exons_path = \"\"\n",
    "Cell_population_qc_path = \"\"\n",
    "Voluntary_path = \"\""
   ]
  },
  {
   "cell_type": "code",
   "execution_count": null,
   "metadata": {},
   "outputs": [],
   "source": [
    "# Pia Kentschke\n",
    "ATAC_seq_path = \"/Users/piakentschke/Documents/Uni/Data Analysis/ImmGenATAC18_AllOCRsInfo.csv\"\n",
    "RNA_seq_path = \"/Users/piakentschke/Documents/Uni/Data Analysis/RNA-seq_data.csv\"\n",
    "Transcription_exons_path = \"/Users/piakentschke/Documents/Uni/Data Analysis/refFlat.txt\"\n",
    "Cell_population_qc_path = \"/Users/piakentschke/Documents/Uni/Data Analysis/mmc1.xlsx\"\n",
    "Voluntary_path = \"/Users/piakentschke/Documents/Uni/Data Analysis/ImmGenATAC18_AllTFmotifsInOCRs.txt\""
   ]
  },
  {
   "cell_type": "code",
   "execution_count": null,
   "metadata": {},
   "outputs": [],
   "source": [
    "# Helen Mennenoeh\n",
    "ATAC_seq_path = \"\"\n",
    "RNA_seq_path = \"\"\n",
    "Transcription_exons_path = \"\"\n",
    "Cell_population_qc_path = \"\"\n",
    "Voluntary_path = \"\""
   ]
  },
  {
   "cell_type": "code",
   "execution_count": 2,
   "metadata": {},
   "outputs": [],
   "source": [
    "# Laila Frisius\n",
    "ATAC_seq_path = \"/Users/laila/github/bioinfo25/Raw_data/ATAC-seq_called-peaks_ImmGenATAC18_AllOCRsInfo.csv\"\n",
    "RNA_seq_path = \"/Users/laila/github/bioinfo25/Raw_data/RNA-seq_mmc2.csv\"\n",
    "Transcription_exons_path = \"/Users/laila/github/bioinfo25/Raw_data/Transkrips-exon_refFlat.txt\"\n",
    "Cell_population_qc_path = \"/Users/laila/github/bioinfo25/Raw_data/cell-populations_qc-matrices_mmc1.xlsx\"\n",
    "Voluntary_path = \"/Users/laila/github/bioinfo25/Raw_data/voluntary_ImmGenATAC18_AllTFmotifsInOCRs.txt\""
   ]
  },
  {
   "cell_type": "markdown",
   "metadata": {},
   "source": [
    "### Packages"
   ]
  },
  {
   "cell_type": "code",
   "execution_count": 3,
   "metadata": {},
   "outputs": [],
   "source": [
    "# import of packages\n",
    "import pandas as pd\n",
    "import matplotlib.pyplot as plt\n",
    "import seaborn as sns\n",
    "import numpy as np\n",
    "import scipy.stats\n",
    "import sklearn.manifold as sklm\n",
    "import os\n",
    "from sklearn.decomposition import PCA"
   ]
  },
  {
   "cell_type": "markdown",
   "metadata": {},
   "source": [
    "### Data Sets"
   ]
  },
  {
   "cell_type": "code",
   "execution_count": 4,
   "metadata": {},
   "outputs": [],
   "source": [
    "# Load data sets\n",
    "ATAC_seq = pd.read_csv(ATAC_seq_path, keep_default_na=False)\n",
    "RNA_seq = pd.read_csv(RNA_seq_path)\n",
    "Cell_population_qc = pd.read_excel(Cell_population_qc_path)\n",
    "exons=pd.read_csv(Transcription_exons_path, sep=\"\\t\")\n",
    "exons.columns = [\"Genname\", \"ID\", \"Chromosom\", \"Strand\", \"Transcription Start\", \"Transcription End\", \"CDS_Start\", \"CDS_End\", \n",
    "    \"ExonCount\", \"ExonStarts\", \"ExonEnds\"]\n",
    "\n",
    "# Create data subsets\n",
    "col_ATAC_seq_ab_act_gd_T = ['LTHSC.34-.BM', 'LTHSC.34+.BM', 'STHSC.150-.BM', 'MPP4.135+.BM','preT.DN1.Th', 'preT.DN2a.Th', 'preT.DN2b.Th',\n",
    "    'preT.DN3.Th', 'T.DN4.Th', 'T.ISP.Th', 'T.DP.Th', 'T.4.Th', 'T.8.Th',\n",
    "    'T.4.Nve.Sp', 'T.4.Nve.Fem.Sp', 'T.8.Nve.Sp', 'T.4.Sp.aCD3+CD40.18hr',\n",
    "    'Treg.4.FP3+.Nrplo.Co', 'Treg.4.25hi.Sp', 'T8.TN.P14.Sp',\n",
    "    'T8.IEL.LCMV.d7.SI', 'T8.TE.LCMV.d7.Sp', 'T8.MP.LCMV.d7.Sp',\n",
    "    'T8.Tcm.LCMV.d180.Sp', 'T8.Tem.LCMV.d180.Sp', 'NKT.Sp',\n",
    "    'NKT.Sp.LPS.3hr', 'NKT.Sp.LPS.18hr', 'NKT.Sp.LPS.3d',\n",
    "    'Tgd.g2+d17.24a+.Th', 'Tgd.g2+d17.LN', 'Tgd.g2+d1.24a+.Th',\n",
    "    'Tgd.g2+d1.LN', 'Tgd.g1.1+d1.24a+.Th', 'Tgd.g1.1+d1.LN', 'Tgd.Sp']\n",
    "\n",
    "col_ATAC_seq_ab_act_T = ['LTHSC.34-.BM', 'LTHSC.34+.BM', 'STHSC.150-.BM', 'MPP4.135+.BM','preT.DN1.Th', 'preT.DN2a.Th', 'preT.DN2b.Th',\n",
    "    'preT.DN3.Th', 'T.DN4.Th', 'T.ISP.Th', 'T.DP.Th', 'T.4.Th', 'T.8.Th',\n",
    "    'T.4.Nve.Sp', 'T.4.Nve.Fem.Sp', 'T.8.Nve.Sp', 'T.4.Sp.aCD3+CD40.18hr',\n",
    "    'Treg.4.FP3+.Nrplo.Co', 'Treg.4.25hi.Sp', 'T8.TN.P14.Sp',\n",
    "    'T8.IEL.LCMV.d7.SI', 'T8.TE.LCMV.d7.Sp', 'T8.MP.LCMV.d7.Sp',\n",
    "    'T8.Tcm.LCMV.d180.Sp', 'T8.Tem.LCMV.d180.Sp', 'NKT.Sp',\n",
    "    'NKT.Sp.LPS.3hr', 'NKT.Sp.LPS.18hr', 'NKT.Sp.LPS.3d']\n",
    "\n",
    "col_ATAC_seq_gd_T = ['LTHSC.34-.BM', 'LTHSC.34+.BM', 'STHSC.150-.BM', 'MPP4.135+.BM','Tgd.g2+d17.24a+.Th', 'Tgd.g2+d17.LN', 'Tgd.g2+d1.24a+.Th',\n",
    "    'Tgd.g2+d1.LN', 'Tgd.g1.1+d1.24a+.Th', 'Tgd.g1.1+d1.LN', 'Tgd.Sp']\n",
    "\n",
    "col_ATAC_seq_ab_T = ['LTHSC.34-.BM', 'LTHSC.34+.BM', 'STHSC.150-.BM', 'MPP4.135+.BM','preT.DN1.Th', 'preT.DN2a.Th', 'preT.DN2b.Th',\n",
    "    'preT.DN3.Th', 'T.DN4.Th', 'T.ISP.Th', 'T.DP.Th', 'T.4.Th', 'T.8.Th',\n",
    "    'T.4.Nve.Sp', 'T.4.Nve.Fem.Sp', 'T.8.Nve.Sp', 'T.4.Sp.aCD3+CD40.18hr',\n",
    "    'Treg.4.FP3+.Nrplo.Co', 'Treg.4.25hi.Sp']\n",
    "\n",
    "ATAC_seq_ab_act_gd_T = ATAC_seq[col_ATAC_seq_ab_act_gd_T]\n",
    "ATAC_seq_gd_T = ATAC_seq[col_ATAC_seq_gd_T]\n",
    "ATAC_seq_ab_act_T = ATAC_seq[col_ATAC_seq_ab_act_T]\n",
    "ATAC_seq_ab_T = ATAC_seq[col_ATAC_seq_ab_T]"
   ]
  },
  {
   "cell_type": "markdown",
   "metadata": {},
   "source": [
    "### Check Data Sets before cleaning"
   ]
  },
  {
   "cell_type": "code",
   "execution_count": 5,
   "metadata": {},
   "outputs": [
    {
     "name": "stdout",
     "output_type": "stream",
     "text": [
      "NaN in QC-metrics data set: 5\n",
      "Infinite values in ATAC_seq: 5\n",
      "NaN in ATAC_seq data set: 0\n",
      "181\n",
      "98\n"
     ]
    }
   ],
   "source": [
    "# qc metrics\n",
    "print(f\"NaN in QC-metrics data set: {Cell_population_qc.isna().sum().sum()}\")\n",
    "\n",
    "# ATAC-seq\n",
    "    # check for inf values\n",
    "ATAC_inf = ATAC_seq.isin([np.inf, -np.inf]).sum()\n",
    "print(f\"Infinite values in ATAC_seq: {ATAC_inf[ATAC_inf > 0].sum()}\")\n",
    "\n",
    "    # check for NaN values\n",
    "print(f\"NaN in ATAC_seq data set: {ATAC_seq.isna().sum().sum()}\")\n",
    "\n",
    "print(len(Cell_population_qc))\n",
    "print(len(ATAC_seq.columns))"
   ]
  },
  {
   "cell_type": "markdown",
   "metadata": {},
   "source": [
    "# Data Clean up and Normalization\n",
    "---"
   ]
  },
  {
   "cell_type": "markdown",
   "metadata": {},
   "source": [
    "### Set Thresholds"
   ]
  },
  {
   "cell_type": "code",
   "execution_count": 6,
   "metadata": {},
   "outputs": [],
   "source": [
    "# Setting thresholds qc metrics\n",
    "qc_thresholds = {\n",
    "\"%fragment.1Kb_TSS\": (\"min\", 6),\n",
    "\"Paired.read.after.removing.PCR.duplication\": (\"min\", 3000),\n",
    "\"%chrM.mapped\": (\"max\", 5),\n",
    "\"Replicate.cor\": (\"min\", 0),\n",
    "\"InputCellNumber\": (\"min\", 500)\n",
    "}\n",
    "\n",
    "# Setting threshold ATAC-seq (p = 0.05)\n",
    "threshold_pval = 1.3"
   ]
  },
  {
   "cell_type": "markdown",
   "metadata": {},
   "source": [
    "### Removal of N/A and interfering values"
   ]
  },
  {
   "cell_type": "code",
   "execution_count": 7,
   "metadata": {},
   "outputs": [
    {
     "name": "stdout",
     "output_type": "stream",
     "text": [
      "Minimum -log10 p-value: 0.0\n",
      "Maximum -log10 p-value: 260.12\n",
      "0\n",
      "587020\n",
      "Series([], dtype: float64)\n",
      "Series([], dtype: float64)\n"
     ]
    }
   ],
   "source": [
    "# QC metrics\n",
    "    # remove N/A \n",
    "qc_clean = Cell_population_qc.copy()\n",
    "qc_clean = qc_clean.dropna(subset=[\n",
    "    \"%fragment.1Kb_TSS\",\n",
    "    \"Paired.read.after.removing.PCR.duplication\",\n",
    "    \"%chrM.mapped\",\n",
    "    \"Replicate.cor\",\n",
    "    \"InputCellNumber\"\n",
    "])\n",
    "\n",
    "# ATAC-seq\n",
    "    # show rows of infinite -log10 p values\n",
    "inf_rows = ATAC_seq[ATAC_seq['_-log10_bestPvalue'].isin([np.inf, -np.inf])]\n",
    "\n",
    "    #drop peaks with infinite -log10 p values\n",
    "ATAC_seq_clean = ATAC_seq[ATAC_seq['_-log10_bestPvalue'] != np.inf]\n",
    "\n",
    "    # range of -log10 p-values\n",
    "pvalues = ATAC_seq_clean[\"_-log10_bestPvalue\"]\n",
    "\n",
    "min_pval = pvalues.min()\n",
    "max_pval = pvalues.max()\n",
    "print(f\"Minimum -log10 p-value: {min_pval}\")\n",
    "print(f\"Maximum -log10 p-value: {max_pval}\")\n",
    "\n",
    "# RNA-seq\n",
    "print(RNA_seq.isna().sum().sum())\n",
    "print((RNA_seq.iloc[:, 1:] < 5).sum().sum())\n",
    "numerical_data=RNA_seq.iloc[:, 1:]\n",
    "    #gesamtsumme berechnen\n",
    "sample_sums=numerical_data.sum(axis=0)\n",
    "low_sum_samples=sample_sums[sample_sums <= 100]\n",
    "print(low_sum_samples)\n",
    "    #varianz berechnen\n",
    "sample_variance=numerical_data.var(axis=0)\n",
    "low_variance_samples=sample_variance[sample_variance <= 0.5]\n",
    "print(low_variance_samples)"
   ]
  },
  {
   "cell_type": "markdown",
   "metadata": {},
   "source": [
    "### Code for Data Filtering"
   ]
  },
  {
   "cell_type": "code",
   "execution_count": 8,
   "metadata": {},
   "outputs": [
    {
     "data": {
      "image/png": "[encoded data removed]",
      "text/plain": [
       "<Figure size 2500x800 with 10 Axes>"
      ]
     },
     "metadata": {},
     "output_type": "display_data"
    }
   ],
   "source": [
    "metrics = [\n",
    "    (\"%fragment.1Kb_TSS\", \"TSS enrichment\"),\n",
    "    (\"Paired.read.after.removing.PCR.duplication\", \"nFrags\"),\n",
    "    (\"%chrM.mapped\", \"chrM mapped (%)\"),\n",
    "    (\"Replicate.cor\", \"Replicate correlation\"),\n",
    "    (\"InputCellNumber\", \"Input cell number\")\n",
    "]\n",
    "fig, axes = plt.subplots(2, len(metrics), figsize=(5*len(metrics), 8))\n",
    "\n",
    "# Filtering with thresholds\n",
    "def apply_qc_thresholds (df, qc_thresholds):\n",
    "    import operator\n",
    "\n",
    "    mask = pd.Series(True, index = df.index)\n",
    "    for col, (bound, val) in qc_thresholds.items():\n",
    "        if bound == \"min\":\n",
    "            mask&= df[col] >= val\n",
    "        elif bound == \"max\":\n",
    "            mask&= df[col] <= val\n",
    "    return df[mask].copy()"
   ]
  },
  {
   "cell_type": "code",
   "execution_count": 9,
   "metadata": {},
   "outputs": [
    {
     "name": "stdout",
     "output_type": "stream",
     "text": [
      "Behaltene Zelltypen: 96\n",
      "['proB.FrBC.BM', 'proB.FrBC.BM', 'preB.FrD.BM', 'preB.FrD.BM', 'B.FrE.BM', 'B.T1.Sp', 'B.T1.Sp', 'B.T2.Sp', 'B.T2.Sp', 'B.T3.Sp', 'B.T3.Sp', 'B.MZ.Sp', 'B.MZ.Sp', 'B.Fo.Sp', 'B.Fo.Sp', 'B.Fo.Sp', 'B.GC.CB.Sp', 'B.GC.CB.Sp', 'B.GC.CC.Sp', 'B.GC.CC.Sp', 'B.PB.Sp', 'B.PB.Sp', 'B.PC.Sp', 'B.mem.Sp', 'B.mem.Sp', 'B.Sp', 'B.Sp', 'B.Fem.Sp', 'preT.DN3.Th', 'T.DP.Th', 'T.4.Th', 'T.4.Nve.Sp', 'T.4.Nve.Sp', 'Treg.4.25hi.Sp', 'Treg.4.25hi.Sp', 'T.8.Nve.Sp', 'T8.TN.P14.Sp', 'T8.IEL.LCMV.d7.SI', 'T8.TE.LCMV.d7.Sp', 'T8.MP.LCMV.d7.Sp', 'T8.Tem.LCMV.d180.Sp', 'T8.Tem.LCMV.d180.Sp', 'NKT.Sp', 'NKT.Sp.LPS.3hr', 'NKT.Sp.LPS.3d', 'NKT.Sp.LPS.3d', 'Tgd.g2+d17.24a+.Th', 'Tgd.g2+d1.24a+.Th', 'Tgd.g2+d1.24a+.Th', 'Tgd.g1.1+d1.24a+.Th', 'Tgd.g1.1+d1.LN', 'Tgd.Sp', 'NK.27-11b+.BM', 'NK.27-11b+.BM', 'NK.27-11b+.Sp', 'ILC2.SI', 'ILC2.SI', 'ILC3.NKp46-CCR6-.SI', 'ILC3.NKp46-CCR6-.SI', 'ILC3.NKp46+.SI', 'ILC3.CCR6+.SI', 'GN.BM', 'GN.BM', 'GN.Sp', 'GN.Sp', 'GN.Thio.PC', 'GN.Thio.PC', 'GN.Thio.PC', 'Mo.6C+II-.Bl', 'Mo.6C+II-.Bl', 'Mo.6C+II-.Bl', 'Mo.6C-II-.Bl', 'Mo.6C-II-.Bl', 'Mo.6C-II-.Bl', 'MF.226+II+480lo.PC', 'MF.226+II+480lo.PC', 'MF.ICAM+480hi.PC', 'MF.ICAM+480hi.PC', 'MF.ICAM+480hi.PC', 'MF.ICAM+480hi.PC', 'MF.RP.Sp', 'MF.RP.Sp', 'MF.microglia.CNS', 'MF.PC', 'MF.PC', 'MF.Fem.PC', 'MF.Fem.PC', 'DC.4+.Sp', 'DC.8+.Sp', 'DC.8+.Sp', 'DC.pDC.Sp', 'DC.103+11b+.SI', 'DC.103+11b-.SI', 'IAP.SLN', 'IAP.SLN', 'BEC.SLN']\n"
     ]
    }
   ],
   "source": [
    "# QC metrics\n",
    "qc_filtered = apply_qc_thresholds(qc_clean, qc_thresholds)\n",
    "\n",
    "# Filter ATAC-seq peaks based on logp value threshold \n",
    "ATAC_seq_filtered = ATAC_seq_clean[ATAC_seq_clean[\"_-log10_bestPvalue\"] >= threshold_pval]\n",
    "\n",
    "# apply qc metrics on ATAC-seq\n",
    "ATAC_seq_meta_cols = list(ATAC_seq_clean.loc[:,:'genes.within.100Kb'].columns)\n",
    "qc_filtered_cols = list(qc_filtered['CellType'])\n",
    "ATAC_qc_cell_cols = [ col for col in ATAC_seq_clean.columns if col in qc_filtered_cols]\n",
    "ATAC_qc_all_cols = ATAC_seq_meta_cols + ATAC_qc_cell_cols\n",
    "print(f\"Behaltene Zelltypen: {len(qc_filtered_cols)}\")\n",
    "\n",
    "print(qc_filtered_cols)\n"
   ]
  },
  {
   "cell_type": "markdown",
   "metadata": {},
   "source": [
    "### Data Sets after Cleaning"
   ]
  },
  {
   "cell_type": "code",
   "execution_count": null,
   "metadata": {},
   "outputs": [],
   "source": []
  },
  {
   "cell_type": "markdown",
   "metadata": {},
   "source": [
    "### Call of specific columns etc."
   ]
  },
  {
   "cell_type": "code",
   "execution_count": 10,
   "metadata": {},
   "outputs": [],
   "source": [
    "# Extract the peakID column \n",
    "peak_id_col = ATAC_seq_filtered[[\"ImmGenATAC1219.peakID\"]]\n",
    "\n",
    "# Extract the accessibility score columns\n",
    "score_cols = ATAC_seq_filtered.loc[:, \"LTHSC.34-.BM\":]\n",
    "score_abgd = ATAC_seq_filtered[col_ATAC_seq_ab_act_gd_T]\n",
    "\n",
    "# Create data frame with only scores per peak\n",
    "ATAC_scores = pd.concat([peak_id_col, score_cols], axis=1)"
   ]
  },
  {
   "cell_type": "markdown",
   "metadata": {},
   "source": [
    "### Normalization"
   ]
  },
  {
   "cell_type": "code",
   "execution_count": 11,
   "metadata": {},
   "outputs": [],
   "source": [
    "RNA_seq_log2=RNA_seq.copy()\n",
    "RNA_seq_log2.iloc[:, 1:]=np.log2(RNA_seq.iloc[:, 1:])"
   ]
  },
  {
   "cell_type": "code",
   "execution_count": 12,
   "metadata": {},
   "outputs": [],
   "source": [
    "# log2-transformation\n",
    "peak_signal_log = np.log2(score_abgd+1)\n",
    "spaltenpositionen = [peak_signal_log.columns.get_loc(name) for name in col_ATAC_seq_ab_T]"
   ]
  },
  {
   "cell_type": "markdown",
   "metadata": {},
   "source": [
    "# Exploratory Data\n",
    "---"
   ]
  },
  {
   "cell_type": "code",
   "execution_count": 13,
   "metadata": {},
   "outputs": [
    {
     "data": {
      "text/plain": [
       "<Figure size 640x480 with 0 Axes>"
      ]
     },
     "metadata": {},
     "output_type": "display_data"
    }
   ],
   "source": [
    "# Plotting of data qc\n",
    "for i, (col, label) in enumerate(metrics):\n",
    "    sns.violinplot(y=qc_clean[col], ax=axes[0, i], color='skyblue')\n",
    "    axes[0, i].set_title(f\"{label}\\n(raw data)\")\n",
    "    sns.violinplot(y=qc_filtered[col], ax=axes[1,i], color= 'lightgreen')\n",
    "    axes[1,i].set_title(f\"{label}\\n(filtered data)\")\n",
    "\n",
    "plt.tight_layout()\n",
    "plt.show()"
   ]
  },
  {
   "cell_type": "markdown",
   "metadata": {},
   "source": [
    "### Variance of peak signal"
   ]
  },
  {
   "cell_type": "code",
   "execution_count": 14,
   "metadata": {},
   "outputs": [
    {
     "name": "stdout",
     "output_type": "stream",
     "text": [
      "        Mean Accessibility  Median Accessibility  Standard Deviation  \\\n",
      "2                 1.521000                 0.495            6.716484   \n",
      "3                 0.874556                 0.530            1.533709   \n",
      "4                 0.882111                 0.630            0.816587   \n",
      "5                 1.096556                 0.785            1.218798   \n",
      "6                 0.944556                 0.680            1.262417   \n",
      "...                    ...                   ...                 ...   \n",
      "512588            5.823889                 4.955            3.648828   \n",
      "512589            5.526444                 4.705            4.053177   \n",
      "512590            6.936111                 5.775            4.887909   \n",
      "512591            6.995111                 6.440            4.386282   \n",
      "512594            1.751778                 1.420            1.481127   \n",
      "\n",
      "        Variance across cells  \n",
      "2                   45.111153  \n",
      "3                    2.352263  \n",
      "4                    0.666815  \n",
      "5                    1.485468  \n",
      "6                    1.593697  \n",
      "...                       ...  \n",
      "512588              13.313945  \n",
      "512589              16.428241  \n",
      "512590              23.891655  \n",
      "512591              19.239468  \n",
      "512594               2.193738  \n",
      "\n",
      "[363046 rows x 4 columns]\n",
      "LTHSC.34-.BM     134.482201\n",
      "LTHSC.34+.BM     133.518971\n",
      "STHSC.150-.BM    133.401023\n",
      "MPP4.135+.BM     132.952861\n",
      "proB.CLP.BM      127.172448\n",
      "                    ...    \n",
      "FRC.SLN          129.320967\n",
      "IAP.SLN          123.418374\n",
      "BEC.SLN          126.991804\n",
      "LEC.SLN          126.154514\n",
      "Ep.MEChi.Th      129.344535\n",
      "Length: 90, dtype: float64\n"
     ]
    }
   ],
   "source": [
    "# Extract the peakID column \n",
    "peak_id_col = ATAC_seq_filtered[[\"ImmGenATAC1219.peakID\"]]\n",
    "\n",
    "# Extract the accessibility score columns\n",
    "score_cols = ATAC_seq_filtered.loc[:, \"LTHSC.34-.BM\":]\n",
    "\n",
    "# Create data frame with only scores per peak\n",
    "ATAC_scores = pd.concat([peak_id_col, score_cols], axis=1)\n",
    "\n",
    "# calculate mean accessibility score for each peak\n",
    "mean_accessibility_per_peak = ATAC_scores.mean(axis=1, numeric_only=True)\n",
    "\n",
    "# calculate median accessibility score for each peak\n",
    "median_accessibility_per_peak = ATAC_scores.median(axis=1, numeric_only=True)\n",
    "\n",
    "# calculate standard deviation of accessibility scores for each peak\n",
    "sd_accessibility_per_peak = ATAC_scores.std(axis=1, numeric_only=True)\n",
    "\n",
    "# variance within cell type\n",
    "variance_within_cell = ATAC_scores.var(axis = 0, numeric_only = True)\n",
    "\n",
    "# variance across cell types (for each peak)\n",
    "variance_across_cells = ATAC_scores.var(axis = 1, numeric_only=True)\n",
    "\n",
    "# create summary data frame\n",
    "mean_med_sd_df = pd.DataFrame({\n",
    "    \"Mean Accessibility\": mean_accessibility_per_peak,\n",
    "    \"Median Accessibility\": median_accessibility_per_peak,\n",
    "    \"Standard Deviation\": sd_accessibility_per_peak,\n",
    "    \"Variance across cells\": variance_across_cells,\n",
    "})\n",
    "\n",
    "#print(ATAC_scores)\n",
    "#print(mean_accessibility_per_peak)\n",
    "#print(mean_med_sd_df)\n",
    "print(mean_med_sd_df)\n",
    "print(variance_within_cell)\n",
    "\n"
   ]
  },
  {
   "cell_type": "markdown",
   "metadata": {},
   "source": [
    "### PCA RNA-seq"
   ]
  },
  {
   "cell_type": "code",
   "execution_count": null,
   "metadata": {},
   "outputs": [],
   "source": [
    "#ohne gennamen\n",
    "data=RNA_seq_log2.iloc[:, 1:]\n",
    "#auswahl der 1000 variablesten gene\n",
    "variances=data.var(axis=1)\n",
    "top_genes=variances.nlargest(1000).index\n",
    "#transponieren\n",
    "data_T=data.T\n",
    "#mittelwertzentrierung?\n",
    "data_centered=data_T-data_T.mean(axis=0)\n",
    "# matrix mit Kovarianz\n",
    "cov_matrix=np.cov(data_centered, rowvar=False)\n",
    "# Eigenwerte und Eigenvektoren\n",
    "eig_vals, eig_vecs=np.linalg.eigh(cov_matrix)\n",
    "# ansteigend sortieren\n",
    "sorted_idx=np.argsort(eig_vals)[::-1]\n",
    "eig_vals=eig_vals[sorted_idx]\n",
    "eig_vecs=eig_vecs[:, sorted_idx]\n",
    "#ersten zwei PCs\n",
    "pc1=data_centered @ eig_vecs[:, 0]\n",
    "pc2=data_centered @ eig_vecs[:, 1]\n",
    "#plot\n",
    "plt.figure(figsize=(8, 6))\n",
    "plt.scatter(pc1, pc2)\n",
    "#achsen labeln\n",
    "for i, sample in enumerate(data_T.index):\n",
    "    plt.text(pc1[i] + 0.2, pc2[i], sample, fontsize=9)\n",
    "\n",
    "plt.xlabel(f\"PC1 ({eig_vals[0]/eig_vals.sum()*100:.1f}%)\")\n",
    "plt.ylabel(f\"PC2 ({eig_vals[1]/eig_vals.sum()*100:.1f}%)\")\n",
    "plt.title(\"PCA der RNA-Seq Samples\")\n",
    "plt.grid(True)\n",
    "plt.tight_layout()\n",
    "plt.show()"
   ]
  },
  {
   "cell_type": "code",
   "execution_count": null,
   "metadata": {},
   "outputs": [
    {
     "ename": "NameError",
     "evalue": "name 'ATAC_seq' is not defined",
     "output_type": "error",
     "traceback": [
      "\u001b[31m---------------------------------------------------------------------------\u001b[39m",
      "\u001b[31mNameError\u001b[39m                                 Traceback (most recent call last)",
      "\u001b[36mCell\u001b[39m\u001b[36m \u001b[39m\u001b[32mIn[1]\u001b[39m\u001b[32m, line 1\u001b[39m\n\u001b[32m----> \u001b[39m\u001b[32m1\u001b[39m score_gd= ATAC_seq[col_ATAC_seq_gd_T]\n\u001b[32m      2\u001b[39m peak_signal_gd_log = np.log2(score_gd+\u001b[32m1\u001b[39m)\n\u001b[32m      3\u001b[39m \u001b[38;5;28mtype\u001b[39m(peak_signal_gd_log)\n",
      "\u001b[31mNameError\u001b[39m: name 'ATAC_seq' is not defined"
     ]
    }
   ],
   "source": [
    "score_gd= ATAC_seq[col_ATAC_seq_gd_T]\n",
    "peak_signal_gd_log = np.log2(score_gd+1)\n",
    "type(peak_signal_gd_log)\n"
   ]
  },
  {
   "cell_type": "code",
   "execution_count": null,
   "metadata": {},
   "outputs": [],
   "source": [
    "# def t-SNE\n",
    "def tSNE (df, cols, components, perplexity, rows=None, gini_coloring=None):\n",
    "    '''\n",
    "    df: normalized pandas.df [rows x cols];\n",
    "    cells: list of row names;\n",
    "    components: no. of PCAs < len(rows);\n",
    "    perplexity: perplexity < len(rows);\n",
    "    gini_coloring: feature that should be colored, automatically maximun, manually after e.g. specifig cell / TSS\n",
    "    '''\n",
    "    \n",
    "    # preparation of data\n",
    "    if rows is not None:\n",
    "        subset_df = df.loc[rows, cols]\n",
    "    else:\n",
    "        subset_df = df.loc[:,cols]\n",
    "    components = min(components, subset_df.shape[0], subset_df.shape[1])\n",
    "    perplexity = min(perplexity, subset_df.shape[0] - 1)\n",
    "\n",
    "    # PCA\n",
    "    pca = PCA(n_components= components)\n",
    "    pcs = pca.fit_transform(subset_df)\n",
    "\n",
    "    # t-SNE\n",
    "    tsne = sklm.TSNE(n_components=2, perplexity=perplexity, random_state=42)\n",
    "    tsne_results = tsne.fit_transform(pcs)\n",
    "    tsne_df = pd.DataFrame(tsne_results, columns=['tSNE1', 'tSNE2'], index=subset_df.index)\n",
    "\n",
    "    # gini index\n",
    "    def gini_index (x):\n",
    "        x = np.array(x)\n",
    "        x = np.sort(x)\n",
    "        n = len(x)\n",
    "        if np.mean(x) == 0:\n",
    "            return 0.0\n",
    "        diff_sum = np.abs(np.subtract.outer(x, x)).sum()\n",
    "        return diff_sum / (2 * n**2 * np.mean(x))\n",
    "    \n",
    "    gini_scores = subset_df.apply(gini_index, axis=0)\n",
    "    \n",
    "    # coloring\n",
    "    if gini_coloring is None:\n",
    "        name_gini_coloring = gini_scores.idxmax()\n",
    "    elif isinstance(gini_coloring, int):\n",
    "        name_gini_coloring = subset_df.columns[gini_coloring]\n",
    "    else:\n",
    "        name_gini_coloring = gini_coloring\n",
    "\n",
    "    color_values = subset_df[name_gini_coloring].values\n",
    "\n",
    "    # plot\n",
    "    plt.figure(figsize=(8,6))\n",
    "    sc = plt.scatter(tsne_df['tSNE1'], tsne_df['tSNE2'], c=color_values, cmap='viridis', alpha=0.7)\n",
    "    plt.colorbar(sc, label=f'activity of {name_gini_coloring}')\n",
    "    plt.xlabel('t-SNE 1')\n",
    "    plt.ylabel('t-SNE 2')\n",
    "    plt.title(f't-SNE, colored with gini index after peak: {name_gini_coloring}')\n",
    "    plt.tight_layout()\n",
    "    plt.show()\n",
    "\n",
    "    return tsne_df, gini_scores"
   ]
  },
  {
   "cell_type": "code",
   "execution_count": null,
   "metadata": {},
   "outputs": [],
   "source": [
    "tsne_df, gini_scores = tSNE(ATAC_seq, col_ATAC_seq_gd_T, 25, 30)"
   ]
  },
  {
   "cell_type": "markdown",
   "metadata": {},
   "source": [
    "# Discriptive and Comparative Analysis"
   ]
  },
  {
   "cell_type": "code",
   "execution_count": null,
   "metadata": {},
   "outputs": [],
   "source": [
    "test.kvv"
   ]
  },
  {
   "cell_type": "markdown",
   "metadata": {},
   "source": [
    "# Statistical Analysis and Regression Models"
   ]
  },
  {
   "cell_type": "code",
   "execution_count": null,
   "metadata": {},
   "outputs": [],
   "source": [
    "## Test lf "
   ]
  }
 ],
 "metadata": {
  "kernelspec": {
   "display_name": ".venv",
   "language": "python",
   "name": "python3"
  },
  "language_info": {
   "codemirror_mode": {
    "name": "ipython",
    "version": 3
   },
   "file_extension": ".py",
   "mimetype": "text/x-python",
   "name": "python",
   "nbconvert_exporter": "python",
   "pygments_lexer": "ipython3",
   "version": "3.13.3"
  }
 },
 "nbformat": 4,
 "nbformat_minor": 2
}
