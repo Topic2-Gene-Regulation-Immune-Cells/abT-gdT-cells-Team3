{
 "cells": [
  {
   "cell_type": "markdown",
   "id": "961e87c9",
   "metadata": {},
   "source": [
    "Differential expression analysis of RNA-seq data \n",
    "\n",
    "Addressing question: Can you determine a specific set of genes for your cell lineage?\n",
    "    \n",
    "    -> we're trying to find genes wihich are specifically or highly expressed in ab tcells or gd tcells\n"
   ]
  },
  {
   "cell_type": "code",
   "execution_count": 1,
   "id": "b272d584",
   "metadata": {},
   "outputs": [
    {
     "name": "stdout",
     "output_type": "stream",
     "text": [
      "AnnData object with n_obs × n_vars = 86 × 17535\n",
      "    obs: 'cell_type'\n",
      "    var: 'genes'\n"
     ]
    },
    {
     "name": "stderr",
     "output_type": "stream",
     "text": [
      "c:\\Users\\helen\\OneDrive\\Documents\\GitHub\\abT-gdT-cells-Team3\\henv\\Lib\\site-packages\\tqdm\\auto.py:21: TqdmWarning: IProgress not found. Please update jupyter and ipywidgets. See https://ipywidgets.readthedocs.io/en/stable/user_install.html\n",
      "  from .autonotebook import tqdm as notebook_tqdm\n",
      "c:\\Users\\helen\\OneDrive\\Documents\\GitHub\\abT-gdT-cells-Team3\\henv\\Lib\\site-packages\\sklearn\\utils\\deprecation.py:132: FutureWarning: 'force_all_finite' was renamed to 'ensure_all_finite' in 1.6 and will be removed in 1.8.\n",
      "  warnings.warn(\n",
      "c:\\Users\\helen\\OneDrive\\Documents\\GitHub\\abT-gdT-cells-Team3\\henv\\Lib\\site-packages\\umap\\umap_.py:1952: UserWarning: n_jobs value 1 overridden to 1 by setting random_state. Use no seed for parallelism.\n",
      "  warn(\n"
     ]
    },
    {
     "ename": "KeyError",
     "evalue": "'Could not find key cell_type_annotated in .var_names or .obs.columns.'",
     "output_type": "error",
     "traceback": [
      "\u001b[31m---------------------------------------------------------------------------\u001b[39m",
      "\u001b[31mKeyError\u001b[39m                                  Traceback (most recent call last)",
      "\u001b[36mCell\u001b[39m\u001b[36m \u001b[39m\u001b[32mIn[1]\u001b[39m\u001b[32m, line 35\u001b[39m\n\u001b[32m     32\u001b[39m adataRNA.obsm[\u001b[33m'\u001b[39m\u001b[33mX_umap\u001b[39m\u001b[33m'\u001b[39m] = umap_RNA\n\u001b[32m     34\u001b[39m adataRNA.obs[\u001b[33m'\u001b[39m\u001b[33mcell_type\u001b[39m\u001b[33m'\u001b[39m] = adataRNA.obs[\u001b[33m'\u001b[39m\u001b[33mcell_type\u001b[39m\u001b[33m'\u001b[39m].astype(\u001b[33m'\u001b[39m\u001b[33mcategory\u001b[39m\u001b[33m'\u001b[39m)\n\u001b[32m---> \u001b[39m\u001b[32m35\u001b[39m \u001b[43msc\u001b[49m\u001b[43m.\u001b[49m\u001b[43mpl\u001b[49m\u001b[43m.\u001b[49m\u001b[43mumap\u001b[49m\u001b[43m(\u001b[49m\u001b[43madataRNA\u001b[49m\u001b[43m,\u001b[49m\u001b[43m \u001b[49m\u001b[43mcolor\u001b[49m\u001b[43m=\u001b[49m\u001b[33;43m'\u001b[39;49m\u001b[33;43mcell_type_annotated\u001b[39;49m\u001b[33;43m'\u001b[39;49m\u001b[43m,\u001b[49m\u001b[43m \u001b[49m\u001b[43msize\u001b[49m\u001b[43m=\u001b[49m\u001b[32;43m20\u001b[39;49m\u001b[43m,\u001b[49m\u001b[43m \u001b[49m\u001b[43mlegend_loc\u001b[49m\u001b[43m=\u001b[49m\u001b[33;43m'\u001b[39;49m\u001b[33;43mon data\u001b[39;49m\u001b[33;43m'\u001b[39;49m\u001b[43m,\u001b[49m\u001b[43m \u001b[49m\u001b[43mtitle\u001b[49m\u001b[43m=\u001b[49m\u001b[33;43m'\u001b[39;49m\u001b[33;43mAnnotated Clusters\u001b[39;49m\u001b[33;43m'\u001b[39;49m\u001b[43m)\u001b[49m\n\u001b[32m     37\u001b[39m \u001b[38;5;66;03m#adding leiden clusters to adata\u001b[39;00m\n\u001b[32m     38\u001b[39m leiden_clusters = pd.read_csv(\u001b[33m\"\u001b[39m\u001b[33mleiden_clusters.csv\u001b[39m\u001b[33m\"\u001b[39m, index_col=\u001b[32m0\u001b[39m)\n",
      "\u001b[36mFile \u001b[39m\u001b[32mc:\\Users\\helen\\OneDrive\\Documents\\GitHub\\abT-gdT-cells-Team3\\henv\\Lib\\site-packages\\scanpy\\plotting\\_tools\\scatterplots.py:686\u001b[39m, in \u001b[36mumap\u001b[39m\u001b[34m(adata, **kwargs)\u001b[39m\n\u001b[32m    627\u001b[39m \u001b[38;5;129m@_wraps_plot_scatter\u001b[39m\n\u001b[32m    628\u001b[39m \u001b[38;5;129m@_doc_params\u001b[39m(\n\u001b[32m    629\u001b[39m     adata_color_etc=doc_adata_color_etc,\n\u001b[32m   (...)\u001b[39m\u001b[32m    633\u001b[39m )\n\u001b[32m    634\u001b[39m \u001b[38;5;28;01mdef\u001b[39;00m\u001b[38;5;250m \u001b[39m\u001b[34mumap\u001b[39m(adata: AnnData, **kwargs) -> Figure | Axes | \u001b[38;5;28mlist\u001b[39m[Axes] | \u001b[38;5;28;01mNone\u001b[39;00m:\n\u001b[32m    635\u001b[39m \u001b[38;5;250m    \u001b[39m\u001b[33;03m\"\"\"Scatter plot in UMAP basis.\u001b[39;00m\n\u001b[32m    636\u001b[39m \n\u001b[32m    637\u001b[39m \u001b[33;03m    Parameters\u001b[39;00m\n\u001b[32m   (...)\u001b[39m\u001b[32m    684\u001b[39m \n\u001b[32m    685\u001b[39m \u001b[33;03m    \"\"\"\u001b[39;00m\n\u001b[32m--> \u001b[39m\u001b[32m686\u001b[39m     \u001b[38;5;28;01mreturn\u001b[39;00m \u001b[43membedding\u001b[49m\u001b[43m(\u001b[49m\u001b[43madata\u001b[49m\u001b[43m,\u001b[49m\u001b[43m \u001b[49m\u001b[33;43m\"\u001b[39;49m\u001b[33;43mumap\u001b[39;49m\u001b[33;43m\"\u001b[39;49m\u001b[43m,\u001b[49m\u001b[43m \u001b[49m\u001b[43m*\u001b[49m\u001b[43m*\u001b[49m\u001b[43mkwargs\u001b[49m\u001b[43m)\u001b[49m\n",
      "\u001b[36mFile \u001b[39m\u001b[32mc:\\Users\\helen\\OneDrive\\Documents\\GitHub\\abT-gdT-cells-Team3\\henv\\Lib\\site-packages\\scanpy\\plotting\\_tools\\scatterplots.py:279\u001b[39m, in \u001b[36membedding\u001b[39m\u001b[34m(adata, basis, color, mask_obs, gene_symbols, use_raw, sort_order, edges, edges_width, edges_color, neighbors_key, arrows, arrows_kwds, groups, components, dimensions, layer, projection, scale_factor, color_map, cmap, palette, na_color, na_in_legend, size, frameon, legend_fontsize, legend_fontweight, legend_loc, legend_fontoutline, colorbar_loc, vmax, vmin, vcenter, norm, add_outline, outline_width, outline_color, ncols, hspace, wspace, title, show, save, ax, return_fig, marker, **kwargs)\u001b[39m\n\u001b[32m    277\u001b[39m \u001b[38;5;28;01mfor\u001b[39;00m count, (value_to_plot, dims) \u001b[38;5;129;01min\u001b[39;00m \u001b[38;5;28menumerate\u001b[39m(\u001b[38;5;28mzip\u001b[39m(color, dimensions, strict=\u001b[38;5;28;01mTrue\u001b[39;00m)):\n\u001b[32m    278\u001b[39m     kwargs_scatter = kwargs.copy()  \u001b[38;5;66;03m# is potentially mutated for each plot\u001b[39;00m\n\u001b[32m--> \u001b[39m\u001b[32m279\u001b[39m     color_source_vector = \u001b[43m_get_color_source_vector\u001b[49m\u001b[43m(\u001b[49m\n\u001b[32m    280\u001b[39m \u001b[43m        \u001b[49m\u001b[43madata\u001b[49m\u001b[43m,\u001b[49m\n\u001b[32m    281\u001b[39m \u001b[43m        \u001b[49m\u001b[43mvalue_to_plot\u001b[49m\u001b[43m,\u001b[49m\n\u001b[32m    282\u001b[39m \u001b[43m        \u001b[49m\u001b[43mlayer\u001b[49m\u001b[43m=\u001b[49m\u001b[43mlayer\u001b[49m\u001b[43m,\u001b[49m\n\u001b[32m    283\u001b[39m \u001b[43m        \u001b[49m\u001b[43mmask_obs\u001b[49m\u001b[43m=\u001b[49m\u001b[43mmask_obs\u001b[49m\u001b[43m,\u001b[49m\n\u001b[32m    284\u001b[39m \u001b[43m        \u001b[49m\u001b[43muse_raw\u001b[49m\u001b[43m=\u001b[49m\u001b[43muse_raw\u001b[49m\u001b[43m,\u001b[49m\n\u001b[32m    285\u001b[39m \u001b[43m        \u001b[49m\u001b[43mgene_symbols\u001b[49m\u001b[43m=\u001b[49m\u001b[43mgene_symbols\u001b[49m\u001b[43m,\u001b[49m\n\u001b[32m    286\u001b[39m \u001b[43m        \u001b[49m\u001b[43mgroups\u001b[49m\u001b[43m=\u001b[49m\u001b[43mgroups\u001b[49m\u001b[43m,\u001b[49m\n\u001b[32m    287\u001b[39m \u001b[43m    \u001b[49m\u001b[43m)\u001b[49m\n\u001b[32m    288\u001b[39m     color_vector, color_type = _color_vector(\n\u001b[32m    289\u001b[39m         adata,\n\u001b[32m    290\u001b[39m         value_to_plot,\n\u001b[32m   (...)\u001b[39m\u001b[32m    293\u001b[39m         na_color=na_color,\n\u001b[32m    294\u001b[39m     )\n\u001b[32m    296\u001b[39m     \u001b[38;5;66;03m# Order points\u001b[39;00m\n",
      "\u001b[36mFile \u001b[39m\u001b[32mc:\\Users\\helen\\OneDrive\\Documents\\GitHub\\abT-gdT-cells-Team3\\henv\\Lib\\site-packages\\scanpy\\plotting\\_tools\\scatterplots.py:1200\u001b[39m, in \u001b[36m_get_color_source_vector\u001b[39m\u001b[34m(adata, value_to_plot, mask_obs, use_raw, gene_symbols, layer, groups)\u001b[39m\n\u001b[32m   1198\u001b[39m     values = adata.raw.obs_vector(value_to_plot)\n\u001b[32m   1199\u001b[39m \u001b[38;5;28;01melse\u001b[39;00m:\n\u001b[32m-> \u001b[39m\u001b[32m1200\u001b[39m     values = \u001b[43madata\u001b[49m\u001b[43m.\u001b[49m\u001b[43mobs_vector\u001b[49m\u001b[43m(\u001b[49m\u001b[43mvalue_to_plot\u001b[49m\u001b[43m,\u001b[49m\u001b[43m \u001b[49m\u001b[43mlayer\u001b[49m\u001b[43m=\u001b[49m\u001b[43mlayer\u001b[49m\u001b[43m)\u001b[49m\n\u001b[32m   1201\u001b[39m \u001b[38;5;28;01mif\u001b[39;00m mask_obs \u001b[38;5;129;01mis\u001b[39;00m \u001b[38;5;129;01mnot\u001b[39;00m \u001b[38;5;28;01mNone\u001b[39;00m:\n\u001b[32m   1202\u001b[39m     values = values.copy()\n",
      "\u001b[36mFile \u001b[39m\u001b[32mc:\\Users\\helen\\OneDrive\\Documents\\GitHub\\abT-gdT-cells-Team3\\henv\\Lib\\site-packages\\anndata\\_core\\anndata.py:1297\u001b[39m, in \u001b[36mAnnData.obs_vector\u001b[39m\u001b[34m(self, k, layer)\u001b[39m\n\u001b[32m   1291\u001b[39m         warnings.warn(\n\u001b[32m   1292\u001b[39m             \u001b[33m\"\u001b[39m\u001b[33mIn a future version of AnnData, access to `.X` by passing\u001b[39m\u001b[33m\"\u001b[39m\n\u001b[32m   1293\u001b[39m             \u001b[33m\"\u001b[39m\u001b[33m `layer=\u001b[39m\u001b[33m'\u001b[39m\u001b[33mX\u001b[39m\u001b[33m'\u001b[39m\u001b[33m` will be removed. Instead pass `layer=None`.\u001b[39m\u001b[33m\"\u001b[39m,\n\u001b[32m   1294\u001b[39m             \u001b[38;5;167;01mFutureWarning\u001b[39;00m,\n\u001b[32m   1295\u001b[39m         )\n\u001b[32m   1296\u001b[39m         layer = \u001b[38;5;28;01mNone\u001b[39;00m\n\u001b[32m-> \u001b[39m\u001b[32m1297\u001b[39m \u001b[38;5;28;01mreturn\u001b[39;00m \u001b[43mget_vector\u001b[49m\u001b[43m(\u001b[49m\u001b[38;5;28;43mself\u001b[39;49m\u001b[43m,\u001b[49m\u001b[43m \u001b[49m\u001b[43mk\u001b[49m\u001b[43m,\u001b[49m\u001b[43m \u001b[49m\u001b[33;43m\"\u001b[39;49m\u001b[33;43mobs\u001b[39;49m\u001b[33;43m\"\u001b[39;49m\u001b[43m,\u001b[49m\u001b[43m \u001b[49m\u001b[33;43m\"\u001b[39;49m\u001b[33;43mvar\u001b[39;49m\u001b[33;43m\"\u001b[39;49m\u001b[43m,\u001b[49m\u001b[43m \u001b[49m\u001b[43mlayer\u001b[49m\u001b[43m=\u001b[49m\u001b[43mlayer\u001b[49m\u001b[43m)\u001b[49m\n",
      "\u001b[36mFile \u001b[39m\u001b[32mc:\\Users\\helen\\OneDrive\\Documents\\GitHub\\abT-gdT-cells-Team3\\henv\\Lib\\site-packages\\anndata\\_core\\index.py:245\u001b[39m, in \u001b[36mget_vector\u001b[39m\u001b[34m(adata, k, coldim, idxdim, layer)\u001b[39m\n\u001b[32m    243\u001b[39m \u001b[38;5;28;01melif\u001b[39;00m (in_col + in_idx) == \u001b[32m0\u001b[39m:\n\u001b[32m    244\u001b[39m     msg = \u001b[33mf\u001b[39m\u001b[33m\"\u001b[39m\u001b[33mCould not find key \u001b[39m\u001b[38;5;132;01m{\u001b[39;00mk\u001b[38;5;132;01m}\u001b[39;00m\u001b[33m in .\u001b[39m\u001b[38;5;132;01m{\u001b[39;00midxdim\u001b[38;5;132;01m}\u001b[39;00m\u001b[33m_names or .\u001b[39m\u001b[38;5;132;01m{\u001b[39;00mcoldim\u001b[38;5;132;01m}\u001b[39;00m\u001b[33m.columns.\u001b[39m\u001b[33m\"\u001b[39m\n\u001b[32m--> \u001b[39m\u001b[32m245\u001b[39m     \u001b[38;5;28;01mraise\u001b[39;00m \u001b[38;5;167;01mKeyError\u001b[39;00m(msg)\n\u001b[32m    246\u001b[39m \u001b[38;5;28;01melif\u001b[39;00m in_col:\n\u001b[32m    247\u001b[39m     \u001b[38;5;28;01mreturn\u001b[39;00m \u001b[38;5;28mgetattr\u001b[39m(adata, coldim)[k].values\n",
      "\u001b[31mKeyError\u001b[39m: 'Could not find key cell_type_annotated in .var_names or .obs.columns.'"
     ]
    },
    {
     "data": {
      "image/png": "[encoded data removed]",
      "text/plain": [
       "<Figure size 640x480 with 1 Axes>"
      ]
     },
     "metadata": {},
     "output_type": "display_data"
    }
   ],
   "source": [
    "# create anndata object\n",
    "\n",
    "import pandas as pd\n",
    "import scanpy as sc\n",
    "import numpy as np\n",
    "from anndata import AnnData\n",
    "\n",
    "RNA_seq_path=r\"C:\\Users\\helen\\Downloads\\datasets\\mmc2.csv\"\n",
    "RNA_seq=pd.read_csv(RNA_seq_path,index_col=0)\n",
    "RNA_seq_T=RNA_seq.T\n",
    "RNA_seq_T_log = np.log1p(RNA_seq_T)  \n",
    "\n",
    "adataRNA = AnnData(X=RNA_seq_T_log.values)\n",
    "adataRNA.obs_names = RNA_seq_T_log.index        \n",
    "adataRNA.var_names = RNA_seq_T_log.columns     \n",
    "\n",
    "adataRNA.obs['cell_type'] = adataRNA.obs_names\n",
    "adataRNA.var['genes'] = adataRNA.var_names\n",
    "\n",
    "print(adataRNA)\n",
    "\n",
    "#adding umap to anndata\n",
    "import umap.umap_ as umap\n",
    "from sklearn.preprocessing import StandardScaler\n",
    "\n",
    "scaler = StandardScaler()\n",
    "RNA_seq_scaled = scaler.fit_transform(RNA_seq_T_log)\n",
    "\n",
    "reducer = umap.UMAP(random_state=42)\n",
    "umap_RNA = reducer.fit_transform(RNA_seq_scaled)\n",
    "\n",
    "adataRNA.obsm['X_umap'] = umap_RNA\n",
    "\n",
    "adataRNA.obs['cell_type'] = adataRNA.obs['cell_type'].astype('category')\n",
    "sc.pl.umap(adataRNA, color='cell_type_annotated', size=20, legend_loc='on data', title='Annotated Clusters')\n",
    "\n",
    "#adding leiden clusters to adata\n",
    "leiden_clusters = pd.read_csv(\"leiden_clusters.csv\", index_col=0)\n",
    "assert all(leiden_clusters.index == adataRNA.obs_names)\n",
    "adataRNA.obs['leiden'] = leiden_clusters[\"Leiden_Cluster\"].astype(str)\n",
    "sc.pl.umap(adataRNA, color='leiden', size=20)\n",
    "\n",
    "\n",
    "\n",
    "adataRNA.obs['cell_type_annotated'] = adataRNA.obs['leiden'].map(leiden_to_celltype)\n",
    "adataRNA.obs['cell_type_annotated'] = adataRNA.obs['cell_type_annotated'].astype('category')\n",
    "\n",
    "sc.pl.umap(adataRNA, color='cell_type_annotated', size=20, title='UMAP with Cell Type Annotations')\n",
    "\n",
    "#saving adata object\n",
    "adataRNA.write(\"adataRNA.h5ad\")\n",
    "# loading the saved adata object\n",
    "adataRNA_loaded = sc.read(\"adataRNA.h5ad\")\n",
    "print(adataRNA_loaded)\n",
    "# checking the loaded adata object\n",
    "print(adataRNA_loaded.obs.head())\n",
    "\n",
    "marker_genes = [\n",
    "    'Cd3d', 'Cd4', 'Cd8a', 'Trdc', 'Foxp3', 'Zbtb16', 'Ifng', 'Il17a',\n",
    "    'Cd19', 'Ms4a1', 'Cd79a', 'Cd74', 'Irf8', 'Itgax', 'Siglech',\n",
    "    'Kit', 'Ly6a', 'Flt3', 'Il7r', 'Rag1', 'Cd34', 'Pecam1',\n",
    "    'Cd14', 'Lyz2', 'Adgre1', 'Cx3cr1', 'Trem2', 'Itgam',\n",
    "    'Gzmb', 'Prf1', 'Nkg7', 'Klrb1c', 'Klrc1',\n",
    "    'Gata3', 'Rorc', 'Il22'\n",
    "]\n",
    "\n",
    "sc.pl.dotplot(adataRNA, var_names=marker_genes, groupby='leiden', standard_scale='var', figsize=(12,5))\n",
    "\n"
   ]
  },
  {
   "cell_type": "code",
   "execution_count": null,
   "id": "fca10e68",
   "metadata": {},
   "outputs": [],
   "source": [
    "# labeling cells by lineage\n",
    "\n",
    "def assign_lineage(celltype):\n",
    "    if celltype.startswith('Tgd'):\n",
    "        return 'GD_T'\n",
    "    elif any(celltype.startswith(x) for x in ['T.4', 'T.8', 'T.DP', 'Treg', 'T8']):\n",
    "        return 'AB_T'\n",
    "    else:\n",
    "        return 'Other'\n",
    "\n",
    "adataRNA.obs['lineage'] = adataRNA.obs['cell_type'].apply(assign_lineage)"
   ]
  }
 ],
 "metadata": {
  "kernelspec": {
   "display_name": "henv",
   "language": "python",
   "name": "python3"
  },
  "language_info": {
   "codemirror_mode": {
    "name": "ipython",
    "version": 3
   },
   "file_extension": ".py",
   "mimetype": "text/x-python",
   "name": "python",
   "nbconvert_exporter": "python",
   "pygments_lexer": "ipython3",
   "version": "3.13.3"
  }
 },
 "nbformat": 4,
 "nbformat_minor": 5
}
