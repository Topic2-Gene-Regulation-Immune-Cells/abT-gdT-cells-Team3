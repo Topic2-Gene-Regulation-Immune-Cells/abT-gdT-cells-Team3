{
 "cells": [
  {
   "cell_type": "markdown",
   "id": "961e87c9",
   "metadata": {},
   "source": [
    "Differential expression analysis of RNA-seq data \n",
    "\n",
    "Addressing question: Can you determine a specific set of genes for your cell lineage?\n",
    "    \n",
    "    -> we're trying to find genes wihich are specifically or highly expressed in ab tcells or gd tcells\n"
   ]
  },
  {
   "cell_type": "code",
   "execution_count": 3,
   "id": "b272d584",
   "metadata": {},
   "outputs": [
    {
     "name": "stdout",
     "output_type": "stream",
     "text": [
      "AnnData object with n_obs × n_vars = 86 × 17535\n",
      "    obs: 'cell_type'\n",
      "    var: 'gene_symbols'\n"
     ]
    }
   ],
   "source": [
    "# create anndata object\n",
    "\n",
    "import pandas as pd\n",
    "import scanpy as sc\n",
    "from anndata import AnnData\n",
    "\n",
    "RNA_seq_path=r\"C:\\Users\\helen\\Downloads\\datasets\\mmc2.csv\"\n",
    "RNA_seq=pd.read_csv(RNA_seq_path,index_col=0)\n",
    "RNA_seq_T=RNA_seq.T\n",
    "\n",
    "adataRNA = AnnData(X=RNA_seq_T.values)\n",
    "adataRNA.obs_names = RNA_seq_T.index        \n",
    "adataRNA.var_names = RNA_seq_T.columns     \n",
    "\n",
    "adataRNA.obs['cell_type'] = adataRNA.obs_names\n",
    "adataRNA.var['gene_symbols'] = adataRNA.var_names\n",
    "\n",
    "print(adataRNA)"
   ]
  },
  {
   "cell_type": "code",
   "execution_count": null,
   "id": "fca10e68",
   "metadata": {},
   "outputs": [],
   "source": [
    "# labeling cells by lineage\n",
    "\n",
    "def assign_lineage(celltype):\n",
    "    if celltype.startswith('Tgd'):\n",
    "        return 'GD_T'\n",
    "    elif any(celltype.startswith(x) for x in ['T.4', 'T.8', 'T.DP', 'Treg', 'T8']):\n",
    "        return 'AB_T'\n",
    "    else:\n",
    "        return 'Other'\n",
    "\n",
    "adataRNA.obs['lineage'] = adataRNA.obs['cell_type'].apply(assign_lineage)"
   ]
  }
 ],
 "metadata": {
  "kernelspec": {
   "display_name": "henv",
   "language": "python",
   "name": "python3"
  },
  "language_info": {
   "codemirror_mode": {
    "name": "ipython",
    "version": 3
   },
   "file_extension": ".py",
   "mimetype": "text/x-python",
   "name": "python",
   "nbconvert_exporter": "python",
   "pygments_lexer": "ipython3",
   "version": "3.13.5"
  }
 },
 "nbformat": 4,
 "nbformat_minor": 5
}
