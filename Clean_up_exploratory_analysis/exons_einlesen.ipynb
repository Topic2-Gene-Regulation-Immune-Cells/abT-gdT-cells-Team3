{
 "cells": [
  {
   "cell_type": "markdown",
   "id": "1a97d082",
   "metadata": {},
   "source": [
    "### Exon- und Intron Datensatz einlesen"
   ]
  },
  {
   "cell_type": "code",
   "execution_count": 2,
   "id": "1a240149",
   "metadata": {},
   "outputs": [],
   "source": [
    "import pandas as pd\n",
    "import matplotlib.pyplot as plt\n",
    "import numpy as np"
   ]
  },
  {
   "cell_type": "code",
   "execution_count": 14,
   "id": "1db434eb",
   "metadata": {},
   "outputs": [
    {
     "name": "stdout",
     "output_type": "stream",
     "text": [
      "  Genname            ID Chromosom Strand  Transcription Start  Transcription End  CDS_Start    CDS_End  ExonCount                                         ExonStarts                                           ExonEnds\n",
      "0   Rbm18  NM_001159635      chr2      -             36116078           36136704   36117814   36134247          6  36116078,36120812,36122851,36127214,36134134,3...  36117974,36120898,36122938,36127251,36134263,3...\n",
      "1  Prrc2b  NM_001159634      chr2      +             32151147           32234537   32182511   32230742         32  32151147,32182457,32183122,32185344,32187480,3...  32151291,32182626,32183300,32185447,32187553,3...\n",
      "2   Ildr2  NM_001164528      chr1      +            166254138          166316832  166254375  166310795         10  166254138,166269304,166270498,166291415,166294...  166254466,166269637,166270618,166291472,166294...\n",
      "3   Perm1     NM_172417      chr4      +            156215926          156221307  156217000  156220222          4           156215926,156216716,156219740,156220109,           156215975,156219185,156219866,156221307,\n",
      "4   Ostm1     NM_172416     chr10      +             42678915           42702462   42678983   42700538          6  42678915,42683159,42692910,42696249,42698107,4...  42679397,42683274,42693008,42696417,42698273,4...\n"
     ]
    }
   ],
   "source": [
    "Transcription_exons_path = \"D:\\\\Uni\\\\4. Semester\\\\Bioinfo\\\\datasets\\\\refFlat.txt\"\n",
    "exons=pd.read_csv(Transcription_exons_path, sep=\"\\t\")\n",
    "exons.columns = [\"Genname\", \"ID\", \"Chromosom\", \"Strand\", \"Transcription Start\", \"Transcription End\", \"CDS_Start\", \"CDS_End\", \n",
    "    \"ExonCount\", \"ExonStarts\", \"ExonEnds\"]\n",
    "\n",
    "print(exons.head())"
   ]
  },
  {
   "cell_type": "markdown",
   "id": "83d1f862",
   "metadata": {},
   "source": []
  }
 ],
 "metadata": {
  "kernelspec": {
   "display_name": ".venv",
   "language": "python",
   "name": "python3"
  },
  "language_info": {
   "codemirror_mode": {
    "name": "ipython",
    "version": 3
   },
   "file_extension": ".py",
   "mimetype": "text/x-python",
   "name": "python",
   "nbconvert_exporter": "python",
   "pygments_lexer": "ipython3",
   "version": "3.13.3"
  }
 },
 "nbformat": 4,
 "nbformat_minor": 5
}
