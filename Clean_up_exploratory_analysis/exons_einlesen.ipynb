{
 "cells": [
  {
   "cell_type": "markdown",
   "id": "1a97d082",
   "metadata": {},
   "source": [
    "### Exon- und Intron Datensatz einlesen"
   ]
  },
  {
   "cell_type": "code",
   "execution_count": 2,
   "id": "1a240149",
   "metadata": {},
   "outputs": [],
   "source": [
    "import pandas as pd\n",
    "import matplotlib.pyplot as plt\n",
    "import numpy as np"
   ]
  },
  {
   "cell_type": "code",
   "execution_count": null,
   "id": "1db434eb",
   "metadata": {},
   "outputs": [
    {
     "ename": "NameError",
     "evalue": "name 'df' is not defined",
     "output_type": "error",
     "traceback": [
      "\u001b[31m---------------------------------------------------------------------------\u001b[39m",
      "\u001b[31mNameError\u001b[39m                                 Traceback (most recent call last)",
      "\u001b[36mCell\u001b[39m\u001b[36m \u001b[39m\u001b[32mIn[6]\u001b[39m\u001b[32m, line 3\u001b[39m\n\u001b[32m      1\u001b[39m Transcription_exons_path = \u001b[33m\"\u001b[39m\u001b[33mD:\u001b[39m\u001b[38;5;130;01m\\\\\u001b[39;00m\u001b[33mUni\u001b[39m\u001b[38;5;130;01m\\\\\u001b[39;00m\u001b[33m4. Semester\u001b[39m\u001b[38;5;130;01m\\\\\u001b[39;00m\u001b[33mBioinfo\u001b[39m\u001b[38;5;130;01m\\\\\u001b[39;00m\u001b[33mdatasets\u001b[39m\u001b[38;5;130;01m\\\\\u001b[39;00m\u001b[33mrefFlat.txt\u001b[39m\u001b[33m\"\u001b[39m\n\u001b[32m      2\u001b[39m exons=pd.read_csv(Transcription_exons_path, sep=\u001b[33m\"\u001b[39m\u001b[38;5;130;01m\\t\u001b[39;00m\u001b[33m\"\u001b[39m)\n\u001b[32m----> \u001b[39m\u001b[32m3\u001b[39m \u001b[43mdf\u001b[49m.columns = [\u001b[33m\"\u001b[39m\u001b[33mGenname\u001b[39m\u001b[33m\"\u001b[39m, \u001b[33m\"\u001b[39m\u001b[33mID\u001b[39m\u001b[33m\"\u001b[39m, \u001b[33m\"\u001b[39m\u001b[33mChromosom\u001b[39m\u001b[33m\"\u001b[39m, \u001b[33m\"\u001b[39m\u001b[33mStrand\u001b[39m\u001b[33m\"\u001b[39m, \u001b[33m\"\u001b[39m\u001b[33mTranscription Start\u001b[39m\u001b[33m\"\u001b[39m, \u001b[33m\"\u001b[39m\u001b[33mTranscription End\u001b[39m\u001b[33m\"\u001b[39m, \u001b[33m\"\u001b[39m\u001b[33mCDS_Start\u001b[39m\u001b[33m\"\u001b[39m, \u001b[33m\"\u001b[39m\u001b[33mCDS_End\u001b[39m\u001b[33m\"\u001b[39m, \n\u001b[32m      4\u001b[39m     \u001b[33m\"\u001b[39m\u001b[33mExonCount\u001b[39m\u001b[33m\"\u001b[39m, \u001b[33m\"\u001b[39m\u001b[33mExonStarts\u001b[39m\u001b[33m\"\u001b[39m, \u001b[33m\"\u001b[39m\u001b[33mExonEnds\u001b[39m\u001b[33m\"\u001b[39m]\n",
      "\u001b[31mNameError\u001b[39m: name 'df' is not defined"
     ]
    }
   ],
   "source": [
    "Transcription_exons_path = \"D:\\\\Uni\\\\4. Semester\\\\Bioinfo\\\\datasets\\\\refFlat.txt\"\n",
    "exons=pd.read_csv(Transcription_exons_path, sep=\"\\t\")\n",
    "exons.columns = [\"Genname\", \"ID\", \"Chromosom\", \"Strand\", \"Transcription Start\", \"Transcription End\", \"CDS_Start\", \"CDS_End\", \n",
    "    \"ExonCount\", \"ExonStarts\", \"ExonEnds\"]"
   ]
  }
 ],
 "metadata": {
  "kernelspec": {
   "display_name": ".venv",
   "language": "python",
   "name": "python3"
  },
  "language_info": {
   "codemirror_mode": {
    "name": "ipython",
    "version": 3
   },
   "file_extension": ".py",
   "mimetype": "text/x-python",
   "name": "python",
   "nbconvert_exporter": "python",
   "pygments_lexer": "ipython3",
   "version": "3.13.3"
  }
 },
 "nbformat": 4,
 "nbformat_minor": 5
}
