{
 "cells": [
  {
   "cell_type": "markdown",
   "id": "b6b825d0",
   "metadata": {},
   "source": [
    "### Means Korrelieren"
   ]
  },
  {
   "cell_type": "code",
   "execution_count": 1,
   "id": "36d99c67",
   "metadata": {},
   "outputs": [],
   "source": [
    "import pandas as pd\n",
    "import numpy as np\n",
    "import matplotlib.pyplot as plt\n",
    "import os"
   ]
  },
  {
   "cell_type": "code",
   "execution_count": 2,
   "id": "577b140b",
   "metadata": {},
   "outputs": [
    {
     "ename": "MemoryError",
     "evalue": "Unable to allocate 364. MiB for an array with shape (93, 512595) and data type float64",
     "output_type": "error",
     "traceback": [
      "\u001b[31m---------------------------------------------------------------------------\u001b[39m",
      "\u001b[31mMemoryError\u001b[39m                               Traceback (most recent call last)",
      "\u001b[36mCell\u001b[39m\u001b[36m \u001b[39m\u001b[32mIn[2]\u001b[39m\u001b[32m, line 1\u001b[39m\n\u001b[32m----> \u001b[39m\u001b[32m1\u001b[39m atac_data=\u001b[43mpd\u001b[49m\u001b[43m.\u001b[49m\u001b[43mread_csv\u001b[49m\u001b[43m(\u001b[49m\u001b[33;43m\"\u001b[39;49m\u001b[33;43mD:\u001b[39;49m\u001b[38;5;130;43;01m\\\\\u001b[39;49;00m\u001b[33;43mUni\u001b[39;49m\u001b[38;5;130;43;01m\\\\\u001b[39;49;00m\u001b[33;43m4. Semester\u001b[39;49m\u001b[38;5;130;43;01m\\\\\u001b[39;49;00m\u001b[33;43mBioinfo\u001b[39;49m\u001b[38;5;130;43;01m\\\\\u001b[39;49;00m\u001b[33;43mdatasets\u001b[39;49m\u001b[38;5;130;43;01m\\\\\u001b[39;49;00m\u001b[33;43mprocessed atac seq data and called peaks.csv\u001b[39;49m\u001b[33;43m\"\u001b[39;49m\u001b[43m)\u001b[49m\n\u001b[32m      2\u001b[39m \u001b[38;5;28mprint\u001b[39m(mean_atac_data.loc[\u001b[33m'\u001b[39m\u001b[33mLTHSC.34-.BM\u001b[39m\u001b[33m'\u001b[39m])\n",
      "\u001b[36mFile \u001b[39m\u001b[32md:\\Uni\\4. Semester\\Bioinfo\\abT-gdT-cells-Team3\\abT-gdT-cells-Team3\\.venv\\Lib\\site-packages\\pandas\\io\\parsers\\readers.py:1026\u001b[39m, in \u001b[36mread_csv\u001b[39m\u001b[34m(filepath_or_buffer, sep, delimiter, header, names, index_col, usecols, dtype, engine, converters, true_values, false_values, skipinitialspace, skiprows, skipfooter, nrows, na_values, keep_default_na, na_filter, verbose, skip_blank_lines, parse_dates, infer_datetime_format, keep_date_col, date_parser, date_format, dayfirst, cache_dates, iterator, chunksize, compression, thousands, decimal, lineterminator, quotechar, quoting, doublequote, escapechar, comment, encoding, encoding_errors, dialect, on_bad_lines, delim_whitespace, low_memory, memory_map, float_precision, storage_options, dtype_backend)\u001b[39m\n\u001b[32m   1013\u001b[39m kwds_defaults = _refine_defaults_read(\n\u001b[32m   1014\u001b[39m     dialect,\n\u001b[32m   1015\u001b[39m     delimiter,\n\u001b[32m   (...)\u001b[39m\u001b[32m   1022\u001b[39m     dtype_backend=dtype_backend,\n\u001b[32m   1023\u001b[39m )\n\u001b[32m   1024\u001b[39m kwds.update(kwds_defaults)\n\u001b[32m-> \u001b[39m\u001b[32m1026\u001b[39m \u001b[38;5;28;01mreturn\u001b[39;00m \u001b[43m_read\u001b[49m\u001b[43m(\u001b[49m\u001b[43mfilepath_or_buffer\u001b[49m\u001b[43m,\u001b[49m\u001b[43m \u001b[49m\u001b[43mkwds\u001b[49m\u001b[43m)\u001b[49m\n",
      "\u001b[36mFile \u001b[39m\u001b[32md:\\Uni\\4. Semester\\Bioinfo\\abT-gdT-cells-Team3\\abT-gdT-cells-Team3\\.venv\\Lib\\site-packages\\pandas\\io\\parsers\\readers.py:626\u001b[39m, in \u001b[36m_read\u001b[39m\u001b[34m(filepath_or_buffer, kwds)\u001b[39m\n\u001b[32m    623\u001b[39m     \u001b[38;5;28;01mreturn\u001b[39;00m parser\n\u001b[32m    625\u001b[39m \u001b[38;5;28;01mwith\u001b[39;00m parser:\n\u001b[32m--> \u001b[39m\u001b[32m626\u001b[39m     \u001b[38;5;28;01mreturn\u001b[39;00m \u001b[43mparser\u001b[49m\u001b[43m.\u001b[49m\u001b[43mread\u001b[49m\u001b[43m(\u001b[49m\u001b[43mnrows\u001b[49m\u001b[43m)\u001b[49m\n",
      "\u001b[36mFile \u001b[39m\u001b[32md:\\Uni\\4. Semester\\Bioinfo\\abT-gdT-cells-Team3\\abT-gdT-cells-Team3\\.venv\\Lib\\site-packages\\pandas\\io\\parsers\\readers.py:1968\u001b[39m, in \u001b[36mTextFileReader.read\u001b[39m\u001b[34m(self, nrows)\u001b[39m\n\u001b[32m   1965\u001b[39m     \u001b[38;5;28;01melse\u001b[39;00m:\n\u001b[32m   1966\u001b[39m         new_col_dict = col_dict\n\u001b[32m-> \u001b[39m\u001b[32m1968\u001b[39m     df = \u001b[43mDataFrame\u001b[49m\u001b[43m(\u001b[49m\n\u001b[32m   1969\u001b[39m \u001b[43m        \u001b[49m\u001b[43mnew_col_dict\u001b[49m\u001b[43m,\u001b[49m\n\u001b[32m   1970\u001b[39m \u001b[43m        \u001b[49m\u001b[43mcolumns\u001b[49m\u001b[43m=\u001b[49m\u001b[43mcolumns\u001b[49m\u001b[43m,\u001b[49m\n\u001b[32m   1971\u001b[39m \u001b[43m        \u001b[49m\u001b[43mindex\u001b[49m\u001b[43m=\u001b[49m\u001b[43mindex\u001b[49m\u001b[43m,\u001b[49m\n\u001b[32m   1972\u001b[39m \u001b[43m        \u001b[49m\u001b[43mcopy\u001b[49m\u001b[43m=\u001b[49m\u001b[38;5;129;43;01mnot\u001b[39;49;00m\u001b[43m \u001b[49m\u001b[43musing_copy_on_write\u001b[49m\u001b[43m(\u001b[49m\u001b[43m)\u001b[49m\u001b[43m,\u001b[49m\n\u001b[32m   1973\u001b[39m \u001b[43m    \u001b[49m\u001b[43m)\u001b[49m\n\u001b[32m   1975\u001b[39m     \u001b[38;5;28mself\u001b[39m._currow += new_rows\n\u001b[32m   1976\u001b[39m \u001b[38;5;28;01mreturn\u001b[39;00m df\n",
      "\u001b[36mFile \u001b[39m\u001b[32md:\\Uni\\4. Semester\\Bioinfo\\abT-gdT-cells-Team3\\abT-gdT-cells-Team3\\.venv\\Lib\\site-packages\\pandas\\core\\frame.py:778\u001b[39m, in \u001b[36mDataFrame.__init__\u001b[39m\u001b[34m(self, data, index, columns, dtype, copy)\u001b[39m\n\u001b[32m    772\u001b[39m     mgr = \u001b[38;5;28mself\u001b[39m._init_mgr(\n\u001b[32m    773\u001b[39m         data, axes={\u001b[33m\"\u001b[39m\u001b[33mindex\u001b[39m\u001b[33m\"\u001b[39m: index, \u001b[33m\"\u001b[39m\u001b[33mcolumns\u001b[39m\u001b[33m\"\u001b[39m: columns}, dtype=dtype, copy=copy\n\u001b[32m    774\u001b[39m     )\n\u001b[32m    776\u001b[39m \u001b[38;5;28;01melif\u001b[39;00m \u001b[38;5;28misinstance\u001b[39m(data, \u001b[38;5;28mdict\u001b[39m):\n\u001b[32m    777\u001b[39m     \u001b[38;5;66;03m# GH#38939 de facto copy defaults to False only in non-dict cases\u001b[39;00m\n\u001b[32m--> \u001b[39m\u001b[32m778\u001b[39m     mgr = \u001b[43mdict_to_mgr\u001b[49m\u001b[43m(\u001b[49m\u001b[43mdata\u001b[49m\u001b[43m,\u001b[49m\u001b[43m \u001b[49m\u001b[43mindex\u001b[49m\u001b[43m,\u001b[49m\u001b[43m \u001b[49m\u001b[43mcolumns\u001b[49m\u001b[43m,\u001b[49m\u001b[43m \u001b[49m\u001b[43mdtype\u001b[49m\u001b[43m=\u001b[49m\u001b[43mdtype\u001b[49m\u001b[43m,\u001b[49m\u001b[43m \u001b[49m\u001b[43mcopy\u001b[49m\u001b[43m=\u001b[49m\u001b[43mcopy\u001b[49m\u001b[43m,\u001b[49m\u001b[43m \u001b[49m\u001b[43mtyp\u001b[49m\u001b[43m=\u001b[49m\u001b[43mmanager\u001b[49m\u001b[43m)\u001b[49m\n\u001b[32m    779\u001b[39m \u001b[38;5;28;01melif\u001b[39;00m \u001b[38;5;28misinstance\u001b[39m(data, ma.MaskedArray):\n\u001b[32m    780\u001b[39m     \u001b[38;5;28;01mfrom\u001b[39;00m\u001b[38;5;250m \u001b[39m\u001b[34;01mnumpy\u001b[39;00m\u001b[34;01m.\u001b[39;00m\u001b[34;01mma\u001b[39;00m\u001b[38;5;250m \u001b[39m\u001b[38;5;28;01mimport\u001b[39;00m mrecords\n",
      "\u001b[36mFile \u001b[39m\u001b[32md:\\Uni\\4. Semester\\Bioinfo\\abT-gdT-cells-Team3\\abT-gdT-cells-Team3\\.venv\\Lib\\site-packages\\pandas\\core\\internals\\construction.py:503\u001b[39m, in \u001b[36mdict_to_mgr\u001b[39m\u001b[34m(data, index, columns, dtype, typ, copy)\u001b[39m\n\u001b[32m    499\u001b[39m     \u001b[38;5;28;01melse\u001b[39;00m:\n\u001b[32m    500\u001b[39m         \u001b[38;5;66;03m# dtype check to exclude e.g. range objects, scalars\u001b[39;00m\n\u001b[32m    501\u001b[39m         arrays = [x.copy() \u001b[38;5;28;01mif\u001b[39;00m \u001b[38;5;28mhasattr\u001b[39m(x, \u001b[33m\"\u001b[39m\u001b[33mdtype\u001b[39m\u001b[33m\"\u001b[39m) \u001b[38;5;28;01melse\u001b[39;00m x \u001b[38;5;28;01mfor\u001b[39;00m x \u001b[38;5;129;01min\u001b[39;00m arrays]\n\u001b[32m--> \u001b[39m\u001b[32m503\u001b[39m \u001b[38;5;28;01mreturn\u001b[39;00m \u001b[43marrays_to_mgr\u001b[49m\u001b[43m(\u001b[49m\u001b[43marrays\u001b[49m\u001b[43m,\u001b[49m\u001b[43m \u001b[49m\u001b[43mcolumns\u001b[49m\u001b[43m,\u001b[49m\u001b[43m \u001b[49m\u001b[43mindex\u001b[49m\u001b[43m,\u001b[49m\u001b[43m \u001b[49m\u001b[43mdtype\u001b[49m\u001b[43m=\u001b[49m\u001b[43mdtype\u001b[49m\u001b[43m,\u001b[49m\u001b[43m \u001b[49m\u001b[43mtyp\u001b[49m\u001b[43m=\u001b[49m\u001b[43mtyp\u001b[49m\u001b[43m,\u001b[49m\u001b[43m \u001b[49m\u001b[43mconsolidate\u001b[49m\u001b[43m=\u001b[49m\u001b[43mcopy\u001b[49m\u001b[43m)\u001b[49m\n",
      "\u001b[36mFile \u001b[39m\u001b[32md:\\Uni\\4. Semester\\Bioinfo\\abT-gdT-cells-Team3\\abT-gdT-cells-Team3\\.venv\\Lib\\site-packages\\pandas\\core\\internals\\construction.py:152\u001b[39m, in \u001b[36marrays_to_mgr\u001b[39m\u001b[34m(arrays, columns, index, dtype, verify_integrity, typ, consolidate)\u001b[39m\n\u001b[32m    149\u001b[39m axes = [columns, index]\n\u001b[32m    151\u001b[39m \u001b[38;5;28;01mif\u001b[39;00m typ == \u001b[33m\"\u001b[39m\u001b[33mblock\u001b[39m\u001b[33m\"\u001b[39m:\n\u001b[32m--> \u001b[39m\u001b[32m152\u001b[39m     \u001b[38;5;28;01mreturn\u001b[39;00m \u001b[43mcreate_block_manager_from_column_arrays\u001b[49m\u001b[43m(\u001b[49m\n\u001b[32m    153\u001b[39m \u001b[43m        \u001b[49m\u001b[43marrays\u001b[49m\u001b[43m,\u001b[49m\u001b[43m \u001b[49m\u001b[43maxes\u001b[49m\u001b[43m,\u001b[49m\u001b[43m \u001b[49m\u001b[43mconsolidate\u001b[49m\u001b[43m=\u001b[49m\u001b[43mconsolidate\u001b[49m\u001b[43m,\u001b[49m\u001b[43m \u001b[49m\u001b[43mrefs\u001b[49m\u001b[43m=\u001b[49m\u001b[43mrefs\u001b[49m\n\u001b[32m    154\u001b[39m \u001b[43m    \u001b[49m\u001b[43m)\u001b[49m\n\u001b[32m    155\u001b[39m \u001b[38;5;28;01melif\u001b[39;00m typ == \u001b[33m\"\u001b[39m\u001b[33marray\u001b[39m\u001b[33m\"\u001b[39m:\n\u001b[32m    156\u001b[39m     \u001b[38;5;28;01mreturn\u001b[39;00m ArrayManager(arrays, [index, columns])\n",
      "\u001b[36mFile \u001b[39m\u001b[32md:\\Uni\\4. Semester\\Bioinfo\\abT-gdT-cells-Team3\\abT-gdT-cells-Team3\\.venv\\Lib\\site-packages\\pandas\\core\\internals\\managers.py:2144\u001b[39m, in \u001b[36mcreate_block_manager_from_column_arrays\u001b[39m\u001b[34m(arrays, axes, consolidate, refs)\u001b[39m\n\u001b[32m   2142\u001b[39m     raise_construction_error(\u001b[38;5;28mlen\u001b[39m(arrays), arrays[\u001b[32m0\u001b[39m].shape, axes, e)\n\u001b[32m   2143\u001b[39m \u001b[38;5;28;01mif\u001b[39;00m consolidate:\n\u001b[32m-> \u001b[39m\u001b[32m2144\u001b[39m     \u001b[43mmgr\u001b[49m\u001b[43m.\u001b[49m\u001b[43m_consolidate_inplace\u001b[49m\u001b[43m(\u001b[49m\u001b[43m)\u001b[49m\n\u001b[32m   2145\u001b[39m \u001b[38;5;28;01mreturn\u001b[39;00m mgr\n",
      "\u001b[36mFile \u001b[39m\u001b[32md:\\Uni\\4. Semester\\Bioinfo\\abT-gdT-cells-Team3\\abT-gdT-cells-Team3\\.venv\\Lib\\site-packages\\pandas\\core\\internals\\managers.py:1788\u001b[39m, in \u001b[36mBlockManager._consolidate_inplace\u001b[39m\u001b[34m(self)\u001b[39m\n\u001b[32m   1782\u001b[39m \u001b[38;5;28;01mdef\u001b[39;00m\u001b[38;5;250m \u001b[39m\u001b[34m_consolidate_inplace\u001b[39m(\u001b[38;5;28mself\u001b[39m) -> \u001b[38;5;28;01mNone\u001b[39;00m:\n\u001b[32m   1783\u001b[39m     \u001b[38;5;66;03m# In general, _consolidate_inplace should only be called via\u001b[39;00m\n\u001b[32m   1784\u001b[39m     \u001b[38;5;66;03m#  DataFrame._consolidate_inplace, otherwise we will fail to invalidate\u001b[39;00m\n\u001b[32m   1785\u001b[39m     \u001b[38;5;66;03m#  the DataFrame's _item_cache. The exception is for newly-created\u001b[39;00m\n\u001b[32m   1786\u001b[39m     \u001b[38;5;66;03m#  BlockManager objects not yet attached to a DataFrame.\u001b[39;00m\n\u001b[32m   1787\u001b[39m     \u001b[38;5;28;01mif\u001b[39;00m \u001b[38;5;129;01mnot\u001b[39;00m \u001b[38;5;28mself\u001b[39m.is_consolidated():\n\u001b[32m-> \u001b[39m\u001b[32m1788\u001b[39m         \u001b[38;5;28mself\u001b[39m.blocks = \u001b[43m_consolidate\u001b[49m\u001b[43m(\u001b[49m\u001b[38;5;28;43mself\u001b[39;49m\u001b[43m.\u001b[49m\u001b[43mblocks\u001b[49m\u001b[43m)\u001b[49m\n\u001b[32m   1789\u001b[39m         \u001b[38;5;28mself\u001b[39m._is_consolidated = \u001b[38;5;28;01mTrue\u001b[39;00m\n\u001b[32m   1790\u001b[39m         \u001b[38;5;28mself\u001b[39m._known_consolidated = \u001b[38;5;28;01mTrue\u001b[39;00m\n",
      "\u001b[36mFile \u001b[39m\u001b[32md:\\Uni\\4. Semester\\Bioinfo\\abT-gdT-cells-Team3\\abT-gdT-cells-Team3\\.venv\\Lib\\site-packages\\pandas\\core\\internals\\managers.py:2269\u001b[39m, in \u001b[36m_consolidate\u001b[39m\u001b[34m(blocks)\u001b[39m\n\u001b[32m   2267\u001b[39m new_blocks: \u001b[38;5;28mlist\u001b[39m[Block] = []\n\u001b[32m   2268\u001b[39m \u001b[38;5;28;01mfor\u001b[39;00m (_can_consolidate, dtype), group_blocks \u001b[38;5;129;01min\u001b[39;00m grouper:\n\u001b[32m-> \u001b[39m\u001b[32m2269\u001b[39m     merged_blocks, _ = \u001b[43m_merge_blocks\u001b[49m\u001b[43m(\u001b[49m\n\u001b[32m   2270\u001b[39m \u001b[43m        \u001b[49m\u001b[38;5;28;43mlist\u001b[39;49m\u001b[43m(\u001b[49m\u001b[43mgroup_blocks\u001b[49m\u001b[43m)\u001b[49m\u001b[43m,\u001b[49m\u001b[43m \u001b[49m\u001b[43mdtype\u001b[49m\u001b[43m=\u001b[49m\u001b[43mdtype\u001b[49m\u001b[43m,\u001b[49m\u001b[43m \u001b[49m\u001b[43mcan_consolidate\u001b[49m\u001b[43m=\u001b[49m\u001b[43m_can_consolidate\u001b[49m\n\u001b[32m   2271\u001b[39m \u001b[43m    \u001b[49m\u001b[43m)\u001b[49m\n\u001b[32m   2272\u001b[39m     new_blocks = extend_blocks(merged_blocks, new_blocks)\n\u001b[32m   2273\u001b[39m \u001b[38;5;28;01mreturn\u001b[39;00m \u001b[38;5;28mtuple\u001b[39m(new_blocks)\n",
      "\u001b[36mFile \u001b[39m\u001b[32md:\\Uni\\4. Semester\\Bioinfo\\abT-gdT-cells-Team3\\abT-gdT-cells-Team3\\.venv\\Lib\\site-packages\\pandas\\core\\internals\\managers.py:2294\u001b[39m, in \u001b[36m_merge_blocks\u001b[39m\u001b[34m(blocks, dtype, can_consolidate)\u001b[39m\n\u001b[32m   2287\u001b[39m new_values: ArrayLike\n\u001b[32m   2289\u001b[39m \u001b[38;5;28;01mif\u001b[39;00m \u001b[38;5;28misinstance\u001b[39m(blocks[\u001b[32m0\u001b[39m].dtype, np.dtype):\n\u001b[32m   2290\u001b[39m     \u001b[38;5;66;03m# error: List comprehension has incompatible type List[Union[ndarray,\u001b[39;00m\n\u001b[32m   2291\u001b[39m     \u001b[38;5;66;03m# ExtensionArray]]; expected List[Union[complex, generic,\u001b[39;00m\n\u001b[32m   2292\u001b[39m     \u001b[38;5;66;03m# Sequence[Union[int, float, complex, str, bytes, generic]],\u001b[39;00m\n\u001b[32m   2293\u001b[39m     \u001b[38;5;66;03m# Sequence[Sequence[Any]], SupportsArray]]\u001b[39;00m\n\u001b[32m-> \u001b[39m\u001b[32m2294\u001b[39m     new_values = \u001b[43mnp\u001b[49m\u001b[43m.\u001b[49m\u001b[43mvstack\u001b[49m\u001b[43m(\u001b[49m\u001b[43m[\u001b[49m\u001b[43mb\u001b[49m\u001b[43m.\u001b[49m\u001b[43mvalues\u001b[49m\u001b[43m \u001b[49m\u001b[38;5;28;43;01mfor\u001b[39;49;00m\u001b[43m \u001b[49m\u001b[43mb\u001b[49m\u001b[43m \u001b[49m\u001b[38;5;129;43;01min\u001b[39;49;00m\u001b[43m \u001b[49m\u001b[43mblocks\u001b[49m\u001b[43m]\u001b[49m\u001b[43m)\u001b[49m  \u001b[38;5;66;03m# type: ignore[misc]\u001b[39;00m\n\u001b[32m   2295\u001b[39m \u001b[38;5;28;01melse\u001b[39;00m:\n\u001b[32m   2296\u001b[39m     bvals = [blk.values \u001b[38;5;28;01mfor\u001b[39;00m blk \u001b[38;5;129;01min\u001b[39;00m blocks]\n",
      "\u001b[36mFile \u001b[39m\u001b[32md:\\Uni\\4. Semester\\Bioinfo\\abT-gdT-cells-Team3\\abT-gdT-cells-Team3\\.venv\\Lib\\site-packages\\numpy\\_core\\shape_base.py:292\u001b[39m, in \u001b[36mvstack\u001b[39m\u001b[34m(tup, dtype, casting)\u001b[39m\n\u001b[32m    290\u001b[39m \u001b[38;5;28;01mif\u001b[39;00m \u001b[38;5;129;01mnot\u001b[39;00m \u001b[38;5;28misinstance\u001b[39m(arrs, \u001b[38;5;28mtuple\u001b[39m):\n\u001b[32m    291\u001b[39m     arrs = (arrs,)\n\u001b[32m--> \u001b[39m\u001b[32m292\u001b[39m \u001b[38;5;28;01mreturn\u001b[39;00m \u001b[43m_nx\u001b[49m\u001b[43m.\u001b[49m\u001b[43mconcatenate\u001b[49m\u001b[43m(\u001b[49m\u001b[43marrs\u001b[49m\u001b[43m,\u001b[49m\u001b[43m \u001b[49m\u001b[32;43m0\u001b[39;49m\u001b[43m,\u001b[49m\u001b[43m \u001b[49m\u001b[43mdtype\u001b[49m\u001b[43m=\u001b[49m\u001b[43mdtype\u001b[49m\u001b[43m,\u001b[49m\u001b[43m \u001b[49m\u001b[43mcasting\u001b[49m\u001b[43m=\u001b[49m\u001b[43mcasting\u001b[49m\u001b[43m)\u001b[49m\n",
      "\u001b[31mMemoryError\u001b[39m: Unable to allocate 364. MiB for an array with shape (93, 512595) and data type float64"
     ]
    }
   ],
   "source": [
    "atac_data=pd.read_csv(\"D:\\\\Uni\\\\4. Semester\\\\Bioinfo\\\\datasets\\\\processed atac seq data and called peaks.csv\")\n",
    "print(mean_atac_data.loc['LTHSC.34-.BM'])"
   ]
  },
  {
   "cell_type": "code",
   "execution_count": 20,
   "id": "613a3fd0",
   "metadata": {},
   "outputs": [
    {
     "name": "stderr",
     "output_type": "stream",
     "text": [
      "C:\\Users\\User\\AppData\\Local\\Temp\\ipykernel_6364\\764912592.py:17: FutureWarning: DataFrame.groupby with axis=1 is deprecated. Do `frame.T.groupby(...)` without axis instead.\n",
      "  mean=peak_signal_log.groupby(peak_signal_log.columns, axis=1).mean()\n"
     ]
    },
    {
     "name": "stdout",
     "output_type": "stream",
     "text": [
      "Zelltyp\n",
      "0.10    1.545527\n",
      "0.11    1.549998\n",
      "0.12    1.521084\n",
      "0.13    1.570888\n",
      "0.14    1.544796\n",
      "dtype: float64\n"
     ]
    }
   ],
   "source": [
    "#Datei einlesen\n",
    "atac_data=pd.read_csv(\"D:\\\\Uni\\\\4. Semester\\\\Bioinfo\\\\datasets\\\\processed atac seq data and called peaks.csv\")\n",
    "\n",
    "#zelltypnamen aus erster zeile nehmen\n",
    "celltype_names=atac_data.iloc[0, 8:]\n",
    "\n",
    "# nur peakdaten benutzen und restliche spalten auslassen\n",
    "score_abgd=atac_data.iloc[1:, 8:].copy().astype(float)\n",
    "\n",
    "# log2 Transformation\n",
    "peak_signal_log = np.log2(score_abgd+1)\n",
    "\n",
    "#Zelltypnamen als Spaltennamen benutzen\n",
    "peak_signal_log.columns=celltype_names.values\n",
    "\n",
    "#mean berechnen pro zelltyp\n",
    "mean=peak_signal_log.groupby(peak_signal_log.columns, axis=1).mean()\n",
    "cell_means=mean.mean(axis=0)\n",
    "\n",
    "#Transponieren\n",
    "mean_T=cell_means.T\n",
    "\n",
    "#dataframe\n",
    "mean_df=mean_T.to_frame(name='mean_accessibility')\n",
    "mean_df.index.name='Zelltyp'\n",
    "\n",
    "\n",
    "print(mean_T.head())\n"
   ]
  },
  {
   "cell_type": "markdown",
   "id": "a5834d88",
   "metadata": {},
   "source": [
    "### pearson correlation definition"
   ]
  },
  {
   "cell_type": "code",
   "execution_count": 1,
   "id": "746ccde0",
   "metadata": {},
   "outputs": [
    {
     "name": "stdout",
     "output_type": "stream",
     "text": [
      "(512595, 1)\n",
      "(87, 17535)\n"
     ]
    }
   ],
   "source": [
    "import pandas as pd\n",
    "import seaborn as sns\n",
    "import matplotlib.pyplot as plt\n",
    "from scipy.stats import pearsonr, linregress\n",
    "from itertools import combinations\n",
    "\n",
    "cell_type=[\"T.4.Th\"]\n",
    "atac_data=pd.read_csv(\"D:\\\\Uni\\\\4. Semester\\\\Bioinfo\\\\datasets\\\\processed atac seq data and called peaks.csv\", usecols=cell_type)\n",
    "\n",
    "rna_data=pd.read_csv(\"D:\\\\Uni\\\\4. Semester\\\\Bioinfo\\\\datasets\\\\processed rna seq data.csv\").T\n",
    "qc_metrics=pd.read_excel(\"D:\\\\Uni\\\\4. Semester\\\\Bioinfo\\\\datasets\\\\summary of immune cell populationsprofiled by atac.xlsx\")\n",
    "qc_metrics_cutoff=qc_metrics.iloc[:,1:]\n",
    "\n",
    "print(atac_data.shape)\n",
    "print(rna_data.shape)\n"
   ]
  },
  {
   "cell_type": "code",
   "execution_count": 14,
   "id": "d5a1a4e8",
   "metadata": {},
   "outputs": [
    {
     "name": "stderr",
     "output_type": "stream",
     "text": [
      "d:\\Uni\\4. Semester\\Bioinfo\\abT-gdT-cells-Team3\\abT-gdT-cells-Team3\\.venv\\Lib\\site-packages\\scipy\\stats\\_stats_py.py:4624: RuntimeWarning: invalid value encountered in subtract\n",
      "  ym = y - ymean\n",
      "d:\\Uni\\4. Semester\\Bioinfo\\abT-gdT-cells-Team3\\abT-gdT-cells-Team3\\.venv\\Lib\\site-packages\\scipy\\stats\\_stats_py.py:4623: RuntimeWarning: invalid value encountered in subtract\n",
      "  xm = x - xmean\n"
     ]
    },
    {
     "data": {
      "image/png": "[encoded data removed]",
      "text/plain": [
       "<Figure size 300x300 with 2 Axes>"
      ]
     },
     "metadata": {},
     "output_type": "display_data"
    }
   ],
   "source": [
    "\n",
    "def pearson_correlation (plot_type, cell_list, df1, df1_name, df2=None, df2_name=None):\n",
    "\n",
    "    '''\n",
    "    df1: first Dataframe\n",
    "    df2: second Dataframe\n",
    "    df1_name: atac/rna/qc/...\n",
    "    df2_name: atac/rna/qc/...\n",
    "    cell1: name of row/celltype of cell 1\n",
    "    cell2: name of row/celltype of cell 2\n",
    "    plot_type: scatterplot/heatmap\n",
    "    '''\n",
    "\n",
    "    # wenn nur ein dataframe gegeben ist, sind beide df1\n",
    "    if df2 is None:\n",
    "        df2=df1\n",
    "        df2_name=df1_name\n",
    "\n",
    "    # falls nur ein df, alle Kombinationen der verschiedenen Zellen miteinander\n",
    "\n",
    "    if df1 is df2:\n",
    "        corr_matrix=pd.DataFrame(index=cell_list, columns=cell_list, dtype=float)\n",
    "        pval_matrix=pd.DataFrame(index=cell_list, columns=cell_list, dtype=float)\n",
    "\n",
    "        for cell1 in cell_list: \n",
    "            for cell2 in cell_list:\n",
    "                row1=pd.to_numeric(df1.loc[cell1], errors='coerce')\n",
    "                row2=pd.to_numeric(df2.loc[cell2], errors='coerce')\n",
    "\n",
    "    # pearson correlation\n",
    "                r, p=pearsonr(row1, row2)\n",
    "                corr_matrix.loc[cell1, cell2]=r\n",
    "                pval_matrix.loc[cell1, cell2]=p\n",
    "\n",
    "    #scatterplot\n",
    "        if plot_type.lower()=='scatterplot':\n",
    "            print(\"Für mehrere Zellen aus einem Datensatz ist es sinnvoller heatmap zu benutzen.\")\n",
    "            \n",
    "    #heatmap\n",
    "        elif plot_type.lower()=='heatmap':\n",
    "            plt.figure(figsize=(3,3))\n",
    "            sns.heatmap(corr_matrix.astype(float), annot=True, cmap='coolwarm')\n",
    "            plt.title(f'heatmap{df1_name}')\n",
    "            plt.tight_layout()\n",
    "            plt.show()\n",
    "    else:\n",
    "        for cell in cell_list: \n",
    "            row1=pd.to_numeric(df1.loc[cell1], errors='coerce')\n",
    "            row2=pd.to_numeric(df2.loc[cell2], errors='coerce')\n",
    "            r, p_wert=pearsonr(row1, row2)\n",
    "            print(f\"pearson-correlation: r= {r:.4f}, p-Wert: {p_wert:.4e}\") \n",
    "\n",
    "            #Scatterplot\n",
    "            if plot_type.lower()=='scatterplot':\n",
    "                plt.figure(figsize=(6,4))\n",
    "                sns.scatterplot(x=row1, y=row2)\n",
    "                slope, intercept, _, _, _ = linregress(row1, row2)\n",
    "                x_vals = pd.Series(sorted(row1))\n",
    "                y_vals = slope * x_vals + intercept\n",
    "                plt.plot(x_vals, y_vals, color='purple', label='Regression')\n",
    "                plt.xlabel(f\"{df1_name}-{cell1}\")\n",
    "                plt.ylabel(f\"{df2_name}-{cell2}\")\n",
    "                plt.title(f'scatterplot-{cell1}-{cell2}')\n",
    "                plt.tight_layout()\n",
    "                plt.show()\n",
    "            \n",
    "            #heatmap\n",
    "            elif plot_type.lower()=='heatmap':\n",
    "                plt.figure(figsize=(3,3))\n",
    "                sns.heatmap(corr_matrix.astype(float), annot=True, cmap='coolwarm')\n",
    "                plt.title(f'heatmap{df1_name}')\n",
    "                plt.tight_layout()\n",
    "                plt.show()\n",
    "                # sns.heatmap([[r]], annot=True, cmap='coolwarm', cbar=False, xticklabels=[f\"{df2_name}-{cell2}\"], yticklabels=[f\"{df1_name}-{cell1}\"])\n",
    "                # plt.title(f'heatmap-{cell1}-{cell2}')\n",
    "                # plt.tight_layout()\n",
    "                # plt.show()\n",
    "# test anwendung\n",
    "# , df2=rna_data, df2_name='RNA'\n",
    "pearson_correlation(plot_type='heatmap', cell_list=atac_data.index.tolist(), df1=atac_data, df1_name='ATAC')\n",
    "\n",
    "        \n"
   ]
  },
  {
   "cell_type": "code",
   "execution_count": null,
   "id": "b0caa431",
   "metadata": {},
   "outputs": [],
   "source": [
    "# heatmap atac mit rna\n",
    "# heatmap rna mit sich selbst\n",
    "#scatterplot von atac mit qc metrics"
   ]
  },
  {
   "cell_type": "code",
   "execution_count": 2,
   "id": "37bc6c1a",
   "metadata": {},
   "outputs": [],
   "source": [
    "def pearson_correlation_QC_metrics (plot_type, atac_data, qc_data, qc_metric_col):\n",
    "\n",
    "    '''\n",
    "    df1: first Dataframe (ATAC)\n",
    "    df2: second Dataframe (QC)\n",
    "    qc_metrics_col: welche qc metric soll korreliert werden, spaltenname\n",
    "    plot_type: scatterplot/heatmap\n",
    "    '''\n",
    "\n",
    "    atac_means=atac_data.select_dtypes(include='number').mean(axis=1).rename('ATAC_mean')\n",
    "    qc_metric=qc_data.set_index('CellType') [[qc_metric_col]]\n",
    "    merged=pd.merge(atac_means, qc_metric, left_index=True, right_index=True)\n",
    "    r, p=pearsonr(merged['ATAC_mean'], merged[qc_metric_col])\n",
    "    print(f\"pearson-correlation: r= {r:.4f}, p-Wert: {p:.4e}\")\n",
    "     \n",
    "            #Scatterplot\n",
    "    if plot_type.lower()=='scatterplot':\n",
    "        plt.figure(figsize=(6,4))\n",
    "        sns.scatterplot(data=merged, x='ATAC_mean', y=qc_metric_col)\n",
    "        slope, intercept, *_ = linregress(merged['ATAC_mean'], merged[qc_metric_col])\n",
    "        x_vals = pd.Series(sorted(merged['ATAC_mean']))\n",
    "        y_vals = slope * x_vals + intercept\n",
    "        plt.plot(x_vals, y_vals, color='purple', label='Regression')\n",
    "        plt.xlabel('ATAC seq mean')\n",
    "        plt.ylabel(qc_metric_col)\n",
    "        plt.title(f'ATAC seq-{qc_metric_col}')\n",
    "        plt.legend()\n",
    "        plt.tight_layout()\n",
    "        plt.show()\n",
    "            \n",
    "            #heatmap\n",
    "    elif plot_type.lower()=='heatmap':\n",
    "        plt.figure(figsize=(3,3))\n",
    "        sns.heatmap([[r]], annot=True, cmap='coolwarm', cbar=True, xticklabels=[qc_metric_col], yticklabels=[\"ATAC_mean\"])\n",
    "        plt.title('Pearson correlation')\n",
    "        plt.tight_layout()\n",
    "        plt.show()"
   ]
  },
  {
   "cell_type": "code",
   "execution_count": 3,
   "id": "d3c9e9c6",
   "metadata": {},
   "outputs": [
    {
     "ename": "ValueError",
     "evalue": "`x` and `y` must have length at least 2.",
     "output_type": "error",
     "traceback": [
      "\u001b[31m---------------------------------------------------------------------------\u001b[39m",
      "\u001b[31mValueError\u001b[39m                                Traceback (most recent call last)",
      "\u001b[32m~\\AppData\\Local\\Temp\\ipykernel_17424\\3671270104.py\u001b[39m in \u001b[36m?\u001b[39m\u001b[34m()\u001b[39m\n\u001b[32m----> \u001b[39m\u001b[32m1\u001b[39m pearson_correlation_QC_metrics(plot_type=\u001b[33m'scatterplot'\u001b[39m, atac_data=atac_data, qc_data=qc_metrics, qc_metric_col=\u001b[33m'InputCellNumber'\u001b[39m)\n",
      "\u001b[32m~\\AppData\\Local\\Temp\\ipykernel_17424\\703781323.py\u001b[39m in \u001b[36m?\u001b[39m\u001b[34m(plot_type, atac_data, qc_data, qc_metric_col)\u001b[39m\n\u001b[32m      9\u001b[39m \n\u001b[32m     10\u001b[39m     atac_means=atac_data.select_dtypes(include=\u001b[33m'number'\u001b[39m).mean(axis=\u001b[32m1\u001b[39m).rename(\u001b[33m'ATAC_mean'\u001b[39m)\n\u001b[32m     11\u001b[39m     qc_metric=qc_data.set_index(\u001b[33m'CellType'\u001b[39m) [[qc_metric_col]]\n\u001b[32m     12\u001b[39m     merged=pd.merge(atac_means, qc_metric, left_index=\u001b[38;5;28;01mTrue\u001b[39;00m, right_index=\u001b[38;5;28;01mTrue\u001b[39;00m)\n\u001b[32m---> \u001b[39m\u001b[32m13\u001b[39m     r, p=pearsonr(merged[\u001b[33m'ATAC_mean'\u001b[39m], merged[qc_metric_col])\n\u001b[32m     14\u001b[39m     print(f\"pearson-correlation: r= {r:.4f}, p-Wert: {p:.4e}\")\n\u001b[32m     15\u001b[39m \n\u001b[32m     16\u001b[39m             \u001b[38;5;66;03m#Scatterplot\u001b[39;00m\n",
      "\u001b[32md:\\Uni\\4. Semester\\Bioinfo\\abT-gdT-cells-Team3\\abT-gdT-cells-Team3\\.venv\\Lib\\site-packages\\scipy\\stats\\_stats_py.py\u001b[39m in \u001b[36m?\u001b[39m\u001b[34m(x, y, alternative, method, axis)\u001b[39m\n\u001b[32m   4548\u001b[39m     \u001b[38;5;28;01mif\u001b[39;00m n != y.shape[axis]:\n\u001b[32m   4549\u001b[39m         \u001b[38;5;28;01mraise\u001b[39;00m ValueError(\u001b[33m'`x` and `y` must have the same length along `axis`.'\u001b[39m)\n\u001b[32m   4550\u001b[39m \n\u001b[32m   4551\u001b[39m     \u001b[38;5;28;01mif\u001b[39;00m n < \u001b[32m2\u001b[39m:\n\u001b[32m-> \u001b[39m\u001b[32m4552\u001b[39m         \u001b[38;5;28;01mraise\u001b[39;00m ValueError(\u001b[33m'`x` and `y` must have length at least 2.'\u001b[39m)\n\u001b[32m   4553\u001b[39m \n\u001b[32m   4554\u001b[39m     \u001b[38;5;28;01mtry\u001b[39;00m:\n\u001b[32m   4555\u001b[39m         x, y = xp.broadcast_arrays(x, y)\n",
      "\u001b[31mValueError\u001b[39m: `x` and `y` must have length at least 2."
     ]
    }
   ],
   "source": [
    "pearson_correlation_QC_metrics(plot_type='scatterplot', atac_data=atac_data, qc_data=qc_metrics, qc_metric_col='InputCellNumber')"
   ]
  },
  {
   "cell_type": "code",
   "execution_count": 43,
   "id": "446d10d7",
   "metadata": {},
   "outputs": [
    {
     "name": "stdout",
     "output_type": "stream",
     "text": [
      "[0, 1, 2, 3, 4, 5, 6, 7, 8, 9, 10, 11, 12, 13, 14, 15, 16, 17, 18, 19, 20, 21, 22, 23, 24, 25, 26, 27, 28, 29, 30, 31, 32, 33, 34, 35, 36, 37, 38, 39, 40, 41, 42, 43, 44, 45, 46, 47, 48, 49, 50, 51, 52, 53, 54, 55, 56, 57, 58, 59, 60, 61, 62, 63, 64, 65, 66, 67, 68, 69, 70, 71, 72, 73, 74, 75, 76, 77, 78, 79, 80, 81, 82, 83, 84, 85, 86, 87, 88, 89, 90, 91, 92, 93, 94, 95, 96, 97, 98, 99, 100, 101, 102, 103, 104, 105, 106, 107, 108, 109, 110, 111, 112, 113, 114, 115, 116, 117, 118, 119, 120, 121, 122, 123, 124, 125, 126, 127, 128, 129, 130, 131, 132, 133, 134, 135, 136, 137, 138, 139, 140, 141, 142, 143, 144, 145, 146, 147, 148, 149, 150, 151, 152, 153, 154, 155, 156, 157, 158, 159, 160, 161, 162, 163, 164, 165, 166, 167, 168, 169, 170, 171, 172, 173, 174, 175, 176, 177, 178, 179, 180]\n"
     ]
    }
   ],
   "source": [
    "qc_metrics=pd.read_excel(\"D:\\\\Uni\\\\4. Semester\\\\Bioinfo\\\\datasets\\\\summary of immune cell populationsprofiled by atac.xlsx\")\n",
    "qc_metrics_cutoff=qc_metrics.iloc[:,1:]\n",
    "\n",
    "print(list(qc_metrics_cutoff.index))"
   ]
  }
 ],
 "metadata": {
  "kernelspec": {
   "display_name": ".venv",
   "language": "python",
   "name": "python3"
  },
  "language_info": {
   "codemirror_mode": {
    "name": "ipython",
    "version": 3
   },
   "file_extension": ".py",
   "mimetype": "text/x-python",
   "name": "python",
   "nbconvert_exporter": "python",
   "pygments_lexer": "ipython3",
   "version": "3.13.3"
  }
 },
 "nbformat": 4,
 "nbformat_minor": 5
}
