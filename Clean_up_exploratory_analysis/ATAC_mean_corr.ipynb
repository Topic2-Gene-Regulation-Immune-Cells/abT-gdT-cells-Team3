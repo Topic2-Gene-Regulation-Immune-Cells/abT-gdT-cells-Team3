{
 "cells": [
  {
   "cell_type": "markdown",
   "id": "b6b825d0",
   "metadata": {},
   "source": [
    "### Means Korrelieren"
   ]
  },
  {
   "cell_type": "code",
   "execution_count": 1,
   "id": "36d99c67",
   "metadata": {},
   "outputs": [],
   "source": [
    "import pandas as pd\n",
    "import numpy as np\n",
    "import matplotlib.pyplot as plt\n",
    "import os"
   ]
  },
  {
   "cell_type": "code",
   "execution_count": 23,
   "id": "577b140b",
   "metadata": {},
   "outputs": [
    {
     "ename": "NameError",
     "evalue": "name 'mean_atac_data' is not defined",
     "output_type": "error",
     "traceback": [
      "\u001b[31m---------------------------------------------------------------------------\u001b[39m",
      "\u001b[31mNameError\u001b[39m                                 Traceback (most recent call last)",
      "\u001b[36mCell\u001b[39m\u001b[36m \u001b[39m\u001b[32mIn[23]\u001b[39m\u001b[32m, line 2\u001b[39m\n\u001b[32m      1\u001b[39m atac_data=pd.read_csv(\u001b[33m\"\u001b[39m\u001b[33mD:\u001b[39m\u001b[38;5;130;01m\\\\\u001b[39;00m\u001b[33mUni\u001b[39m\u001b[38;5;130;01m\\\\\u001b[39;00m\u001b[33m4. Semester\u001b[39m\u001b[38;5;130;01m\\\\\u001b[39;00m\u001b[33mBioinfo\u001b[39m\u001b[38;5;130;01m\\\\\u001b[39;00m\u001b[33mdatasets\u001b[39m\u001b[38;5;130;01m\\\\\u001b[39;00m\u001b[33mprocessed atac seq data and called peaks.csv\u001b[39m\u001b[33m\"\u001b[39m)\n\u001b[32m----> \u001b[39m\u001b[32m2\u001b[39m \u001b[38;5;28mprint\u001b[39m(\u001b[43mmean_atac_data\u001b[49m.loc[\u001b[33m'\u001b[39m\u001b[33mLTHSC.34-.BM\u001b[39m\u001b[33m'\u001b[39m])\n",
      "\u001b[31mNameError\u001b[39m: name 'mean_atac_data' is not defined"
     ]
    }
   ],
   "source": [
    "atac_data=pd.read_csv(\"D:\\\\Uni\\\\4. Semester\\\\Bioinfo\\\\datasets\\\\processed atac seq data and called peaks.csv\")\n",
    "print(mean_atac_data.loc['LTHSC.34-.BM'])"
   ]
  },
  {
   "cell_type": "code",
   "execution_count": 20,
   "id": "613a3fd0",
   "metadata": {},
   "outputs": [
    {
     "name": "stderr",
     "output_type": "stream",
     "text": [
      "C:\\Users\\User\\AppData\\Local\\Temp\\ipykernel_6364\\764912592.py:17: FutureWarning: DataFrame.groupby with axis=1 is deprecated. Do `frame.T.groupby(...)` without axis instead.\n",
      "  mean=peak_signal_log.groupby(peak_signal_log.columns, axis=1).mean()\n"
     ]
    },
    {
     "name": "stdout",
     "output_type": "stream",
     "text": [
      "Zelltyp\n",
      "0.10    1.545527\n",
      "0.11    1.549998\n",
      "0.12    1.521084\n",
      "0.13    1.570888\n",
      "0.14    1.544796\n",
      "dtype: float64\n"
     ]
    }
   ],
   "source": [
    "#Datei einlesen\n",
    "atac_data=pd.read_csv(\"D:\\\\Uni\\\\4. Semester\\\\Bioinfo\\\\datasets\\\\processed atac seq data and called peaks.csv\")\n",
    "\n",
    "#zelltypnamen aus erster zeile nehmen\n",
    "celltype_names=atac_data.iloc[0, 8:]\n",
    "\n",
    "# nur peakdaten benutzen und restliche spalten auslassen\n",
    "score_abgd=atac_data.iloc[1:, 8:].copy().astype(float)\n",
    "\n",
    "# log2 Transformation\n",
    "peak_signal_log = np.log2(score_abgd+1)\n",
    "\n",
    "#Zelltypnamen als Spaltennamen benutzen\n",
    "peak_signal_log.columns=celltype_names.values\n",
    "\n",
    "#mean berechnen pro zelltyp\n",
    "mean=peak_signal_log.groupby(peak_signal_log.columns, axis=1).mean()\n",
    "cell_means=mean.mean(axis=0)\n",
    "\n",
    "#Transponieren\n",
    "mean_T=cell_means.T\n",
    "\n",
    "#dataframe\n",
    "mean_df=mean_T.to_frame(name='mean_accessibility')\n",
    "mean_df.index.name='Zelltyp'\n",
    "\n",
    "\n",
    "print(mean_T.head())\n"
   ]
  }
 ],
 "metadata": {
  "kernelspec": {
   "display_name": ".venv",
   "language": "python",
   "name": "python3"
  },
  "language_info": {
   "codemirror_mode": {
    "name": "ipython",
    "version": 3
   },
   "file_extension": ".py",
   "mimetype": "text/x-python",
   "name": "python",
   "nbconvert_exporter": "python",
   "pygments_lexer": "ipython3",
   "version": "3.13.3"
  }
 },
 "nbformat": 4,
 "nbformat_minor": 5
}
