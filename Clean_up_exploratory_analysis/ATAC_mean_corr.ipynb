{
 "cells": [
  {
   "cell_type": "markdown",
   "id": "b6b825d0",
   "metadata": {},
   "source": [
    "### Means Korrelieren"
   ]
  },
  {
   "cell_type": "code",
   "execution_count": 1,
   "id": "36d99c67",
   "metadata": {},
   "outputs": [],
   "source": [
    "import pandas as pd\n",
    "import numpy as np\n",
    "import matplotlib.pyplot as plt\n",
    "import os"
   ]
  },
  {
   "cell_type": "code",
   "execution_count": 23,
   "id": "577b140b",
   "metadata": {},
   "outputs": [
    {
     "ename": "NameError",
     "evalue": "name 'mean_atac_data' is not defined",
     "output_type": "error",
     "traceback": [
      "\u001b[31m---------------------------------------------------------------------------\u001b[39m",
      "\u001b[31mNameError\u001b[39m                                 Traceback (most recent call last)",
      "\u001b[36mCell\u001b[39m\u001b[36m \u001b[39m\u001b[32mIn[23]\u001b[39m\u001b[32m, line 2\u001b[39m\n\u001b[32m      1\u001b[39m atac_data=pd.read_csv(\u001b[33m\"\u001b[39m\u001b[33mD:\u001b[39m\u001b[38;5;130;01m\\\\\u001b[39;00m\u001b[33mUni\u001b[39m\u001b[38;5;130;01m\\\\\u001b[39;00m\u001b[33m4. Semester\u001b[39m\u001b[38;5;130;01m\\\\\u001b[39;00m\u001b[33mBioinfo\u001b[39m\u001b[38;5;130;01m\\\\\u001b[39;00m\u001b[33mdatasets\u001b[39m\u001b[38;5;130;01m\\\\\u001b[39;00m\u001b[33mprocessed atac seq data and called peaks.csv\u001b[39m\u001b[33m\"\u001b[39m)\n\u001b[32m----> \u001b[39m\u001b[32m2\u001b[39m \u001b[38;5;28mprint\u001b[39m(\u001b[43mmean_atac_data\u001b[49m.loc[\u001b[33m'\u001b[39m\u001b[33mLTHSC.34-.BM\u001b[39m\u001b[33m'\u001b[39m])\n",
      "\u001b[31mNameError\u001b[39m: name 'mean_atac_data' is not defined"
     ]
    }
   ],
   "source": [
    "atac_data=pd.read_csv(\"D:\\\\Uni\\\\4. Semester\\\\Bioinfo\\\\datasets\\\\processed atac seq data and called peaks.csv\")\n",
    "print(mean_atac_data.loc['LTHSC.34-.BM'])"
   ]
  },
  {
   "cell_type": "code",
   "execution_count": 20,
   "id": "613a3fd0",
   "metadata": {},
   "outputs": [
    {
     "name": "stderr",
     "output_type": "stream",
     "text": [
      "C:\\Users\\User\\AppData\\Local\\Temp\\ipykernel_6364\\764912592.py:17: FutureWarning: DataFrame.groupby with axis=1 is deprecated. Do `frame.T.groupby(...)` without axis instead.\n",
      "  mean=peak_signal_log.groupby(peak_signal_log.columns, axis=1).mean()\n"
     ]
    },
    {
     "name": "stdout",
     "output_type": "stream",
     "text": [
      "Zelltyp\n",
      "0.10    1.545527\n",
      "0.11    1.549998\n",
      "0.12    1.521084\n",
      "0.13    1.570888\n",
      "0.14    1.544796\n",
      "dtype: float64\n"
     ]
    }
   ],
   "source": [
    "#Datei einlesen\n",
    "atac_data=pd.read_csv(\"D:\\\\Uni\\\\4. Semester\\\\Bioinfo\\\\datasets\\\\processed atac seq data and called peaks.csv\")\n",
    "\n",
    "#zelltypnamen aus erster zeile nehmen\n",
    "celltype_names=atac_data.iloc[0, 8:]\n",
    "\n",
    "# nur peakdaten benutzen und restliche spalten auslassen\n",
    "score_abgd=atac_data.iloc[1:, 8:].copy().astype(float)\n",
    "\n",
    "# log2 Transformation\n",
    "peak_signal_log = np.log2(score_abgd+1)\n",
    "\n",
    "#Zelltypnamen als Spaltennamen benutzen\n",
    "peak_signal_log.columns=celltype_names.values\n",
    "\n",
    "#mean berechnen pro zelltyp\n",
    "mean=peak_signal_log.groupby(peak_signal_log.columns, axis=1).mean()\n",
    "cell_means=mean.mean(axis=0)\n",
    "\n",
    "#Transponieren\n",
    "mean_T=cell_means.T\n",
    "\n",
    "#dataframe\n",
    "mean_df=mean_T.to_frame(name='mean_accessibility')\n",
    "mean_df.index.name='Zelltyp'\n",
    "\n",
    "\n",
    "print(mean_T.head())\n"
   ]
  },
  {
   "cell_type": "markdown",
   "id": "a5834d88",
   "metadata": {},
   "source": [
    "### pearson correlation definition"
   ]
  },
  {
   "cell_type": "code",
   "execution_count": 17,
   "id": "d5a1a4e8",
   "metadata": {},
   "outputs": [
    {
     "ename": "KeyError",
     "evalue": "'preT.DN1.Th'",
     "output_type": "error",
     "traceback": [
      "\u001b[31m---------------------------------------------------------------------------\u001b[39m",
      "\u001b[31mKeyError\u001b[39m                                  Traceback (most recent call last)",
      "\u001b[36mCell\u001b[39m\u001b[36m \u001b[39m\u001b[32mIn[17]\u001b[39m\u001b[32m, line 55\u001b[39m\n\u001b[32m     52\u001b[39m         plt.show()\n\u001b[32m     54\u001b[39m \u001b[38;5;66;03m# test anwendung\u001b[39;00m\n\u001b[32m---> \u001b[39m\u001b[32m55\u001b[39m \u001b[43mpearson_correlation\u001b[49m\u001b[43m(\u001b[49m\u001b[33;43m'\u001b[39;49m\u001b[33;43mScatterplot\u001b[39;49m\u001b[33;43m'\u001b[39;49m\u001b[43m,\u001b[49m\u001b[43m \u001b[49m\u001b[43mdf1\u001b[49m\u001b[43m=\u001b[49m\u001b[43matac_data\u001b[49m\u001b[43m,\u001b[49m\u001b[43m \u001b[49m\u001b[43mdf1_name\u001b[49m\u001b[43m=\u001b[49m\u001b[33;43m'\u001b[39;49m\u001b[33;43matac\u001b[39;49m\u001b[33;43m'\u001b[39;49m\u001b[43m,\u001b[49m\u001b[43m \u001b[49m\u001b[43mcell1\u001b[49m\u001b[43m=\u001b[49m\u001b[33;43m'\u001b[39;49m\u001b[33;43mpreT.DN1.Th\u001b[39;49m\u001b[33;43m'\u001b[39;49m\u001b[43m,\u001b[49m\u001b[43m \u001b[49m\u001b[43mcell2\u001b[49m\u001b[43m=\u001b[49m\u001b[33;43m'\u001b[39;49m\u001b[33;43mpreT.DN2a.Th\u001b[39;49m\u001b[33;43m'\u001b[39;49m\u001b[43m)\u001b[49m\n",
      "\u001b[36mCell\u001b[39m\u001b[36m \u001b[39m\u001b[32mIn[17]\u001b[39m\u001b[32m, line 29\u001b[39m, in \u001b[36mpearson_correlation\u001b[39m\u001b[34m(plot_type, df1, df1_name, cell1, df2, df2_name, cell2)\u001b[39m\n\u001b[32m     26\u001b[39m \u001b[38;5;28;01mif\u001b[39;00m cell2 \u001b[38;5;129;01mis\u001b[39;00m \u001b[38;5;28;01mNone\u001b[39;00m: \n\u001b[32m     27\u001b[39m     cell2=cell1\n\u001b[32m---> \u001b[39m\u001b[32m29\u001b[39m row1=\u001b[43mdf1\u001b[49m\u001b[43m.\u001b[49m\u001b[43mloc\u001b[49m\u001b[43m[\u001b[49m\u001b[43mcell1\u001b[49m\u001b[43m]\u001b[49m\n\u001b[32m     30\u001b[39m row2=df2.loc[cell2]\n\u001b[32m     32\u001b[39m \u001b[38;5;66;03m# pearson correlation\u001b[39;00m\n",
      "\u001b[36mFile \u001b[39m\u001b[32md:\\Uni\\4. Semester\\Bioinfo\\abT-gdT-cells-Team3\\abT-gdT-cells-Team3\\.venv\\Lib\\site-packages\\pandas\\core\\indexing.py:1191\u001b[39m, in \u001b[36m_LocationIndexer.__getitem__\u001b[39m\u001b[34m(self, key)\u001b[39m\n\u001b[32m   1189\u001b[39m maybe_callable = com.apply_if_callable(key, \u001b[38;5;28mself\u001b[39m.obj)\n\u001b[32m   1190\u001b[39m maybe_callable = \u001b[38;5;28mself\u001b[39m._check_deprecated_callable_usage(key, maybe_callable)\n\u001b[32m-> \u001b[39m\u001b[32m1191\u001b[39m \u001b[38;5;28;01mreturn\u001b[39;00m \u001b[38;5;28;43mself\u001b[39;49m\u001b[43m.\u001b[49m\u001b[43m_getitem_axis\u001b[49m\u001b[43m(\u001b[49m\u001b[43mmaybe_callable\u001b[49m\u001b[43m,\u001b[49m\u001b[43m \u001b[49m\u001b[43maxis\u001b[49m\u001b[43m=\u001b[49m\u001b[43maxis\u001b[49m\u001b[43m)\u001b[49m\n",
      "\u001b[36mFile \u001b[39m\u001b[32md:\\Uni\\4. Semester\\Bioinfo\\abT-gdT-cells-Team3\\abT-gdT-cells-Team3\\.venv\\Lib\\site-packages\\pandas\\core\\indexing.py:1431\u001b[39m, in \u001b[36m_LocIndexer._getitem_axis\u001b[39m\u001b[34m(self, key, axis)\u001b[39m\n\u001b[32m   1429\u001b[39m \u001b[38;5;66;03m# fall thru to straight lookup\u001b[39;00m\n\u001b[32m   1430\u001b[39m \u001b[38;5;28mself\u001b[39m._validate_key(key, axis)\n\u001b[32m-> \u001b[39m\u001b[32m1431\u001b[39m \u001b[38;5;28;01mreturn\u001b[39;00m \u001b[38;5;28;43mself\u001b[39;49m\u001b[43m.\u001b[49m\u001b[43m_get_label\u001b[49m\u001b[43m(\u001b[49m\u001b[43mkey\u001b[49m\u001b[43m,\u001b[49m\u001b[43m \u001b[49m\u001b[43maxis\u001b[49m\u001b[43m=\u001b[49m\u001b[43maxis\u001b[49m\u001b[43m)\u001b[49m\n",
      "\u001b[36mFile \u001b[39m\u001b[32md:\\Uni\\4. Semester\\Bioinfo\\abT-gdT-cells-Team3\\abT-gdT-cells-Team3\\.venv\\Lib\\site-packages\\pandas\\core\\indexing.py:1381\u001b[39m, in \u001b[36m_LocIndexer._get_label\u001b[39m\u001b[34m(self, label, axis)\u001b[39m\n\u001b[32m   1379\u001b[39m \u001b[38;5;28;01mdef\u001b[39;00m\u001b[38;5;250m \u001b[39m\u001b[34m_get_label\u001b[39m(\u001b[38;5;28mself\u001b[39m, label, axis: AxisInt):\n\u001b[32m   1380\u001b[39m     \u001b[38;5;66;03m# GH#5567 this will fail if the label is not present in the axis.\u001b[39;00m\n\u001b[32m-> \u001b[39m\u001b[32m1381\u001b[39m     \u001b[38;5;28;01mreturn\u001b[39;00m \u001b[38;5;28;43mself\u001b[39;49m\u001b[43m.\u001b[49m\u001b[43mobj\u001b[49m\u001b[43m.\u001b[49m\u001b[43mxs\u001b[49m\u001b[43m(\u001b[49m\u001b[43mlabel\u001b[49m\u001b[43m,\u001b[49m\u001b[43m \u001b[49m\u001b[43maxis\u001b[49m\u001b[43m=\u001b[49m\u001b[43maxis\u001b[49m\u001b[43m)\u001b[49m\n",
      "\u001b[36mFile \u001b[39m\u001b[32md:\\Uni\\4. Semester\\Bioinfo\\abT-gdT-cells-Team3\\abT-gdT-cells-Team3\\.venv\\Lib\\site-packages\\pandas\\core\\generic.py:4301\u001b[39m, in \u001b[36mNDFrame.xs\u001b[39m\u001b[34m(self, key, axis, level, drop_level)\u001b[39m\n\u001b[32m   4299\u001b[39m             new_index = index[loc]\n\u001b[32m   4300\u001b[39m \u001b[38;5;28;01melse\u001b[39;00m:\n\u001b[32m-> \u001b[39m\u001b[32m4301\u001b[39m     loc = \u001b[43mindex\u001b[49m\u001b[43m.\u001b[49m\u001b[43mget_loc\u001b[49m\u001b[43m(\u001b[49m\u001b[43mkey\u001b[49m\u001b[43m)\u001b[49m\n\u001b[32m   4303\u001b[39m     \u001b[38;5;28;01mif\u001b[39;00m \u001b[38;5;28misinstance\u001b[39m(loc, np.ndarray):\n\u001b[32m   4304\u001b[39m         \u001b[38;5;28;01mif\u001b[39;00m loc.dtype == np.bool_:\n",
      "\u001b[36mFile \u001b[39m\u001b[32md:\\Uni\\4. Semester\\Bioinfo\\abT-gdT-cells-Team3\\abT-gdT-cells-Team3\\.venv\\Lib\\site-packages\\pandas\\core\\indexes\\range.py:417\u001b[39m, in \u001b[36mRangeIndex.get_loc\u001b[39m\u001b[34m(self, key)\u001b[39m\n\u001b[32m    415\u001b[39m         \u001b[38;5;28;01mraise\u001b[39;00m \u001b[38;5;167;01mKeyError\u001b[39;00m(key) \u001b[38;5;28;01mfrom\u001b[39;00m\u001b[38;5;250m \u001b[39m\u001b[34;01merr\u001b[39;00m\n\u001b[32m    416\u001b[39m \u001b[38;5;28;01mif\u001b[39;00m \u001b[38;5;28misinstance\u001b[39m(key, Hashable):\n\u001b[32m--> \u001b[39m\u001b[32m417\u001b[39m     \u001b[38;5;28;01mraise\u001b[39;00m \u001b[38;5;167;01mKeyError\u001b[39;00m(key)\n\u001b[32m    418\u001b[39m \u001b[38;5;28mself\u001b[39m._check_indexing_error(key)\n\u001b[32m    419\u001b[39m \u001b[38;5;28;01mraise\u001b[39;00m \u001b[38;5;167;01mKeyError\u001b[39;00m(key)\n",
      "\u001b[31mKeyError\u001b[39m: 'preT.DN1.Th'"
     ]
    }
   ],
   "source": [
    "import pandas as pd\n",
    "import seaborn as sns\n",
    "import matplotlib.pyplot as plt\n",
    "from scipy.stats import pearsonr\n",
    "\n",
    "atac_data=pd.read_csv(\"D:\\\\Uni\\\\4. Semester\\\\Bioinfo\\\\datasets\\\\processed atac seq data and called peaks.csv\")\n",
    "\n",
    "def pearson_correlation (plot_type, df1, df1_name, cell1, df2=None, df2_name=None, cell2=None):\n",
    "\n",
    "    '''\n",
    "    df1: first Dataframe\n",
    "    df2: second Dataframe\n",
    "    df1_name: atac/rna/qc/...\n",
    "    df2_name: atac/rna/qc/...\n",
    "    cell1: name of row/celltype of cell 1\n",
    "    cell2: name of row/celltype of cell 2\n",
    "    plot_type: scatterplot/heatmap\n",
    "    '''\n",
    "\n",
    "    # wenn nur ein dataframe gegeben ist, sind beide df1\n",
    "    if df2 is None:\n",
    "        df2=df1\n",
    "        df2_name=df1_name\n",
    "\n",
    "    #wenn nur ein zellname gegeben, sind beide cell1\n",
    "    if cell2 is None: \n",
    "        cell2=cell1\n",
    "\n",
    "    row1=df1.loc[cell1]\n",
    "    row2=df2.loc[cell2]\n",
    "\n",
    "    # pearson correlation\n",
    "    korrelation, p_wert=pearsonr(row1, row2)\n",
    "    print(f\"pearson-correlation: {korrelation:.4f}, p-Wert: {p_wert:.4e}\")\n",
    "\n",
    "    #scatterplot\n",
    "    if plot_type=='scatterplot':\n",
    "        plt.figure(figsize=(6,4))\n",
    "        sns.scatterplot(x=row1, y=row2)\n",
    "        plt.xlabel(f\"{df1_name}-{cell1}\")\n",
    "        plt.ylabel(f\"{df2_name}-{cell2}\")\n",
    "        plt.titel(f'scatterplot-{cell1}-{cell2}')\n",
    "        plt.tight_layout()\n",
    "        plt.show()\n",
    "\n",
    "    #heatmap\n",
    "    elif plot_type=='heatmap':\n",
    "        plt.figure(figsize=(3,3))\n",
    "        sns.heatmap([[korrelation]], annot=True, cmap='coolwarm', cbar=False, xticklabels=[f\"{df2_name}-{cell2}\"], yticklabels=[f\"{df1_name}-{cell1}\"])\n",
    "        plt.title(f'Heatmap-{cell1}-{cell2}')\n",
    "        plt.tight_layout()\n",
    "        plt.show()\n",
    "\n",
    "# test anwendung\n",
    "pearson_correlation('Scatterplot', df1=atac_data, df1_name='atac', cell1='preT.DN1.Th', cell2='preT.DN2a.Th')\n",
    "\n",
    "        \n"
   ]
  }
 ],
 "metadata": {
  "kernelspec": {
   "display_name": ".venv",
   "language": "python",
   "name": "python3"
  },
  "language_info": {
   "codemirror_mode": {
    "name": "ipython",
    "version": 3
   },
   "file_extension": ".py",
   "mimetype": "text/x-python",
   "name": "python",
   "nbconvert_exporter": "python",
   "pygments_lexer": "ipython3",
   "version": "3.13.3"
  }
 },
 "nbformat": 4,
 "nbformat_minor": 5
}
