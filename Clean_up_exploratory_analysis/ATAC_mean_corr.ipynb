{
 "cells": [
  {
   "cell_type": "markdown",
   "id": "b6b825d0",
   "metadata": {},
   "source": [
    "### Means Korrelieren"
   ]
  },
  {
   "cell_type": "code",
   "execution_count": 1,
   "id": "36d99c67",
   "metadata": {},
   "outputs": [],
   "source": [
    "import pandas as pd\n",
    "import numpy as np\n",
    "import matplotlib.pyplot as plt\n",
    "import os"
   ]
  },
  {
   "cell_type": "code",
   "execution_count": 23,
   "id": "577b140b",
   "metadata": {},
   "outputs": [
    {
     "ename": "NameError",
     "evalue": "name 'mean_atac_data' is not defined",
     "output_type": "error",
     "traceback": [
      "\u001b[31m---------------------------------------------------------------------------\u001b[39m",
      "\u001b[31mNameError\u001b[39m                                 Traceback (most recent call last)",
      "\u001b[36mCell\u001b[39m\u001b[36m \u001b[39m\u001b[32mIn[23]\u001b[39m\u001b[32m, line 2\u001b[39m\n\u001b[32m      1\u001b[39m atac_data=pd.read_csv(\u001b[33m\"\u001b[39m\u001b[33mD:\u001b[39m\u001b[38;5;130;01m\\\\\u001b[39;00m\u001b[33mUni\u001b[39m\u001b[38;5;130;01m\\\\\u001b[39;00m\u001b[33m4. Semester\u001b[39m\u001b[38;5;130;01m\\\\\u001b[39;00m\u001b[33mBioinfo\u001b[39m\u001b[38;5;130;01m\\\\\u001b[39;00m\u001b[33mdatasets\u001b[39m\u001b[38;5;130;01m\\\\\u001b[39;00m\u001b[33mprocessed atac seq data and called peaks.csv\u001b[39m\u001b[33m\"\u001b[39m)\n\u001b[32m----> \u001b[39m\u001b[32m2\u001b[39m \u001b[38;5;28mprint\u001b[39m(\u001b[43mmean_atac_data\u001b[49m.loc[\u001b[33m'\u001b[39m\u001b[33mLTHSC.34-.BM\u001b[39m\u001b[33m'\u001b[39m])\n",
      "\u001b[31mNameError\u001b[39m: name 'mean_atac_data' is not defined"
     ]
    }
   ],
   "source": [
    "atac_data=pd.read_csv(\"D:\\\\Uni\\\\4. Semester\\\\Bioinfo\\\\datasets\\\\processed atac seq data and called peaks.csv\")\n",
    "print(mean_atac_data.loc['LTHSC.34-.BM'])"
   ]
  },
  {
   "cell_type": "code",
   "execution_count": 20,
   "id": "613a3fd0",
   "metadata": {},
   "outputs": [
    {
     "name": "stderr",
     "output_type": "stream",
     "text": [
      "C:\\Users\\User\\AppData\\Local\\Temp\\ipykernel_6364\\764912592.py:17: FutureWarning: DataFrame.groupby with axis=1 is deprecated. Do `frame.T.groupby(...)` without axis instead.\n",
      "  mean=peak_signal_log.groupby(peak_signal_log.columns, axis=1).mean()\n"
     ]
    },
    {
     "name": "stdout",
     "output_type": "stream",
     "text": [
      "Zelltyp\n",
      "0.10    1.545527\n",
      "0.11    1.549998\n",
      "0.12    1.521084\n",
      "0.13    1.570888\n",
      "0.14    1.544796\n",
      "dtype: float64\n"
     ]
    }
   ],
   "source": [
    "#Datei einlesen\n",
    "atac_data=pd.read_csv(\"D:\\\\Uni\\\\4. Semester\\\\Bioinfo\\\\datasets\\\\processed atac seq data and called peaks.csv\")\n",
    "\n",
    "#zelltypnamen aus erster zeile nehmen\n",
    "celltype_names=atac_data.iloc[0, 8:]\n",
    "\n",
    "# nur peakdaten benutzen und restliche spalten auslassen\n",
    "score_abgd=atac_data.iloc[1:, 8:].copy().astype(float)\n",
    "\n",
    "# log2 Transformation\n",
    "peak_signal_log = np.log2(score_abgd+1)\n",
    "\n",
    "#Zelltypnamen als Spaltennamen benutzen\n",
    "peak_signal_log.columns=celltype_names.values\n",
    "\n",
    "#mean berechnen pro zelltyp\n",
    "mean=peak_signal_log.groupby(peak_signal_log.columns, axis=1).mean()\n",
    "cell_means=mean.mean(axis=0)\n",
    "\n",
    "#Transponieren\n",
    "mean_T=cell_means.T\n",
    "\n",
    "#dataframe\n",
    "mean_df=mean_T.to_frame(name='mean_accessibility')\n",
    "mean_df.index.name='Zelltyp'\n",
    "\n",
    "\n",
    "print(mean_T.head())\n"
   ]
  },
  {
   "cell_type": "markdown",
   "id": "a5834d88",
   "metadata": {},
   "source": [
    "### pearson correlation definition"
   ]
  },
  {
   "cell_type": "code",
   "execution_count": 7,
   "id": "746ccde0",
   "metadata": {},
   "outputs": [
    {
     "name": "stdout",
     "output_type": "stream",
     "text": [
      "(98, 512595)\n",
      "(87, 17535)\n"
     ]
    }
   ],
   "source": [
    "import pandas as pd\n",
    "import seaborn as sns\n",
    "import matplotlib.pyplot as plt\n",
    "from scipy.stats import pearsonr, linregress\n",
    "from itertools import combinations\n",
    "\n",
    "atac_data=pd.read_csv(\"D:\\\\Uni\\\\4. Semester\\\\Bioinfo\\\\datasets\\\\processed atac seq data and called peaks.csv\").T\n",
    "rna_data=pd.read_csv(\"D:\\\\Uni\\\\4. Semester\\\\Bioinfo\\\\datasets\\\\processed rna seq data.csv\").T\n",
    "qc_metrics=pd.read_excel(\"D:\\\\Uni\\\\4. Semester\\\\Bioinfo\\\\datasets\\\\summary of immune cell populationsprofiled by atac.xlsx\")\n",
    "qc_metrics_cutoff=qc_metrics.iloc[:,1:]\n",
    "\n",
    "print(atac_data.shape)\n",
    "print(rna_data.shape)\n"
   ]
  },
  {
   "cell_type": "code",
   "execution_count": null,
   "id": "d5a1a4e8",
   "metadata": {},
   "outputs": [
    {
     "name": "stderr",
     "output_type": "stream",
     "text": [
      "d:\\Uni\\4. Semester\\Bioinfo\\abT-gdT-cells-Team3\\abT-gdT-cells-Team3\\.venv\\Lib\\site-packages\\scipy\\stats\\_stats_py.py:4624: RuntimeWarning: invalid value encountered in subtract\n",
      "  ym = y - ymean\n",
      "d:\\Uni\\4. Semester\\Bioinfo\\abT-gdT-cells-Team3\\abT-gdT-cells-Team3\\.venv\\Lib\\site-packages\\scipy\\stats\\_stats_py.py:4623: RuntimeWarning: invalid value encountered in subtract\n",
      "  xm = x - xmean\n"
     ]
    },
    {
     "data": {
      "image/png": "[encoded data removed]",
      "text/plain": [
       "<Figure size 300x300 with 2 Axes>"
      ]
     },
     "metadata": {},
     "output_type": "display_data"
    }
   ],
   "source": [
    "\n",
    "def pearson_correlation (plot_type, cell_list, df1, df1_name, df2=None, df2_name=None):\n",
    "\n",
    "    '''\n",
    "    df1: first Dataframe\n",
    "    df2: second Dataframe\n",
    "    df1_name: atac/rna/qc/...\n",
    "    df2_name: atac/rna/qc/...\n",
    "    cell1: name of row/celltype of cell 1\n",
    "    cell2: name of row/celltype of cell 2\n",
    "    plot_type: scatterplot/heatmap\n",
    "    '''\n",
    "\n",
    "    # wenn nur ein dataframe gegeben ist, sind beide df1\n",
    "    if df2 is None:\n",
    "        df2=df1\n",
    "        df2_name=df1_name\n",
    "\n",
    "    # falls nur ein df, alle Kombinationen der verschiedenen Zellen miteinander\n",
    "\n",
    "    if df1 is df2:\n",
    "        corr_matrix=pd.DataFrame(index=cell_list, columns=cell_list, dtype=float)\n",
    "        pval_matrix=pd.DataFrame(index=cell_list, columns=cell_list, dtype=float)\n",
    "\n",
    "        for cell1 in cell_list: \n",
    "            for cell2 in cell_list:\n",
    "                row1=pd.to_numeric(df1.loc[cell1], errors='coerce')\n",
    "                row2=pd.to_numeric(df2.loc[cell2], errors='coerce')\n",
    "\n",
    "    # pearson correlation\n",
    "                r, p=pearsonr(row1, row2)\n",
    "                corr_matrix.loc[cell1, cell2]=r\n",
    "                pval_matrix.loc[cell1, cell2]=p\n",
    "\n",
    "    #scatterplot\n",
    "        if plot_type.lower()=='scatterplot':\n",
    "            print(\"Für mehrere Zellen aus einem Datensatz ist es sinnvoller heatmap zu benutzen.\")\n",
    "            \n",
    "    #heatmap\n",
    "        elif plot_type.lower()=='heatmap':\n",
    "            plt.figure(figsize=(3,3))\n",
    "            sns.heatmap(corr_matrix.astype(float), annot=True, cmap='coolwarm')\n",
    "            plt.title(f'heatmap{df1_name}')\n",
    "            plt.tight_layout()\n",
    "            plt.show()\n",
    "    else:\n",
    "        for cell in cell_list: \n",
    "            row1=pd.to_numeric(df1.loc[cell1], errors='coerce')\n",
    "            row2=pd.to_numeric(df2.loc[cell2], errors='coerce')\n",
    "            r, p_wert=pearsonr(row1, row2)\n",
    "            print(f\"pearson-correlation: r= {r:.4f}, p-Wert: {p_wert:.4e}\") \n",
    "\n",
    "            #Scatterplot\n",
    "            if plot_type.lower()=='scatterplot':\n",
    "                plt.figure(figsize=(6,4))\n",
    "                sns.scatterplot(x=row1, y=row2)\n",
    "                slope, intercept, _, _, _ = linregress(row1, row2)\n",
    "                x_vals = pd.Series(sorted(row1))\n",
    "                y_vals = slope * x_vals + intercept\n",
    "                plt.plot(x_vals, y_vals, color='purple', label='Regression')\n",
    "                plt.xlabel(f\"{df1_name}-{cell1}\")\n",
    "                plt.ylabel(f\"{df2_name}-{cell2}\")\n",
    "                plt.title(f'scatterplot-{cell1}-{cell2}')\n",
    "                plt.tight_layout()\n",
    "                plt.show()\n",
    "            \n",
    "            #heatmap\n",
    "            elif plot_type.lower()=='heatmap':\n",
    "                plt.figure(figsize=(3,3))\n",
    "                sns.heatmap(corr_matrix.astype(float), annot=True, cmap='coolwarm')\n",
    "                plt.title(f'heatmap{df1_name}')\n",
    "                plt.tight_layout()\n",
    "                plt.show()\n",
    "                # sns.heatmap([[r]], annot=True, cmap='coolwarm', cbar=False, xticklabels=[f\"{df2_name}-{cell2}\"], yticklabels=[f\"{df1_name}-{cell1}\"])\n",
    "                # plt.title(f'heatmap-{cell1}-{cell2}')\n",
    "                # plt.tight_layout()\n",
    "                # plt.show()\n",
    "# test anwendung\n",
    "# , df2=rna_data, df2_name='RNA'\n",
    "pearson_correlation(plot_type='heatmap', cell_list=atac_data.index.tolist(), df1=atac_data, df1_name='ATAC')\n",
    "\n",
    "        \n"
   ]
  },
  {
   "cell_type": "code",
   "execution_count": null,
   "id": "b0caa431",
   "metadata": {},
   "outputs": [],
   "source": [
    "# heatmap atac mit rna\n",
    "# heatmap rna mit sich selbst\n",
    "#scatterplot von atac mit qc metrics"
   ]
  },
  {
   "cell_type": "code",
   "execution_count": null,
   "id": "37bc6c1a",
   "metadata": {},
   "outputs": [],
   "source": [
    "def pearson_correlation_QC_metrics (plot_type, atac_data, qc_data, qc_metric_col):\n",
    "\n",
    "    '''\n",
    "    df1: first Dataframe (ATAC)\n",
    "    df2: second Dataframe (QC)\n",
    "    qc_metrics_col: welche qc metric soll korreliert werden, spaltenname\n",
    "    plot_type: scatterplot/heatmap\n",
    "    '''\n",
    "\n",
    "    atac_means=atac_data.select_dtypes(include='number').mean(axis=1).rename('ATAC_mean')\n",
    "    qc_metric=qc_data.set_index('CellType') [[qc_metric_col]]\n",
    "    merged=pd.merge(atac_means, qc_metric, left_index=True, right_index=True)\n",
    "    r, p=pearsonr(merged['ATAC_mean'], merged[qc_metric_col])\n",
    "    print(f\"pearson-correlation: r= {r:.4f}, p-Wert: {p_wert:.4e}\")\n",
    "            #Scatterplot\n",
    "    if plot_type.lower()=='scatterplot':\n",
    "        plt.figure(figsize=(6,4))\n",
    "        sns.scatterplot(data=merged, x='ATAC_mean', y=qc_metric_col)\n",
    "        slope, intercept, *_ = linregress(merged['ATAC_mean'], merged[qc_metric_col])\n",
    "        x_vals = pd.Series(sorted(merged['ATAC_mean']))\n",
    "        y_vals = slope * x_vals + intercept\n",
    "        plt.plot(x_vals, y_vals, color='purple', label='Regression')\n",
    "        plt.xlabel('ATAC seq mean')\n",
    "        plt.ylabel(qc_metric_col)\n",
    "        plt.title(f'ATAC seq-{qc_metric_col}')\n",
    "        plt.legend()\n",
    "        plt.tight_layout()\n",
    "        plt.show()\n",
    "            \n",
    "            #heatmap\n",
    "    elif plot_type.lower()=='heatmap':\n",
    "        plt.figure(figsize=(3,3))\n",
    "        sns.heatmap([[r]], annot=True, cmap='coolwarm', cbar=True, xticklabels=[qc_metric_col], yticklabels=[\"ATAC_mean\"])\n",
    "        plt.title('Pearson correlation')\n",
    "        plt.tight_layout()\n",
    "        plt.show()"
   ]
  },
  {
   "cell_type": "code",
   "execution_count": null,
   "id": "d3c9e9c6",
   "metadata": {},
   "outputs": [],
   "source": [
    "pearson_correlation_QC_metrics(plot_type='scatterplot', atac_data=atac_data, qc_data=qc_metrics, qc_metric_col='InputCellNumber')"
   ]
  },
  {
   "cell_type": "code",
   "execution_count": 43,
   "id": "446d10d7",
   "metadata": {},
   "outputs": [
    {
     "name": "stdout",
     "output_type": "stream",
     "text": [
      "[0, 1, 2, 3, 4, 5, 6, 7, 8, 9, 10, 11, 12, 13, 14, 15, 16, 17, 18, 19, 20, 21, 22, 23, 24, 25, 26, 27, 28, 29, 30, 31, 32, 33, 34, 35, 36, 37, 38, 39, 40, 41, 42, 43, 44, 45, 46, 47, 48, 49, 50, 51, 52, 53, 54, 55, 56, 57, 58, 59, 60, 61, 62, 63, 64, 65, 66, 67, 68, 69, 70, 71, 72, 73, 74, 75, 76, 77, 78, 79, 80, 81, 82, 83, 84, 85, 86, 87, 88, 89, 90, 91, 92, 93, 94, 95, 96, 97, 98, 99, 100, 101, 102, 103, 104, 105, 106, 107, 108, 109, 110, 111, 112, 113, 114, 115, 116, 117, 118, 119, 120, 121, 122, 123, 124, 125, 126, 127, 128, 129, 130, 131, 132, 133, 134, 135, 136, 137, 138, 139, 140, 141, 142, 143, 144, 145, 146, 147, 148, 149, 150, 151, 152, 153, 154, 155, 156, 157, 158, 159, 160, 161, 162, 163, 164, 165, 166, 167, 168, 169, 170, 171, 172, 173, 174, 175, 176, 177, 178, 179, 180]\n"
     ]
    }
   ],
   "source": [
    "qc_metrics=pd.read_excel(\"D:\\\\Uni\\\\4. Semester\\\\Bioinfo\\\\datasets\\\\summary of immune cell populationsprofiled by atac.xlsx\")\n",
    "qc_metrics_cutoff=qc_metrics.iloc[:,1:]\n",
    "\n",
    "print(list(qc_metrics_cutoff.index))"
   ]
  }
 ],
 "metadata": {
  "kernelspec": {
   "display_name": ".venv",
   "language": "python",
   "name": "python3"
  },
  "language_info": {
   "codemirror_mode": {
    "name": "ipython",
    "version": 3
   },
   "file_extension": ".py",
   "mimetype": "text/x-python",
   "name": "python",
   "nbconvert_exporter": "python",
   "pygments_lexer": "ipython3",
   "version": "3.13.3"
  }
 },
 "nbformat": 4,
 "nbformat_minor": 5
}
