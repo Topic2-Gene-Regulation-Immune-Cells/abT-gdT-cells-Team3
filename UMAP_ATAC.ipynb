{
 "cells": [
  {
   "cell_type": "markdown",
   "id": "f0553079",
   "metadata": {},
   "source": [
    "# Creation of UMAP to identify batch effects"
   ]
  },
  {
   "cell_type": "markdown",
   "id": "233fffa1",
   "metadata": {},
   "source": [
    "Import Packages and Data"
   ]
  },
  {
   "cell_type": "code",
   "execution_count": 6,
   "id": "a70cbbfb",
   "metadata": {},
   "outputs": [],
   "source": [
    "#import packages\n",
    "import pandas as pd\n",
    "import umap \n",
    "import numpy as np\n",
    "import matplotlib.pyplot as plt\n",
    "\n",
    "# Pia Kentschke\n",
    "ATAC_seq_path = \"/Users/piakentschke/Documents/Uni/Data Analysis/ImmGenATAC18_AllOCRsInfo.csv\"\n",
    "ATAC_scores_path = \"/Users/piakentschke/Documents/Uni/Data Analysis/ATAC_scores.csv\"\n",
    "RNA_seq_path = \"/Users/piakentschke/Documents/Uni/Data Analysis/RNA-seq_data.csv\"\n",
    "Transcription_exons_path = \"/Users/piakentschke/Documents/Uni/Data Analysis/refFlat.txt\"\n",
    "Cell_population_qc_path = \"/Users/piakentschke/Documents/Uni/Data Analysis/mmc1.xlsx\"\n",
    "Voluntary_path = \"/Users/piakentschke/Documents/Uni/Data Analysis/ImmGenATAC18_AllTFmotifsInOCRs.txt\"\n",
    "\n",
    "\n",
    "ATAC_scores = pd.read_csv(ATAC_scores_path, sep=\",\", keep_default_na=False)\n",
    "RNA_seq = pd.read_csv(RNA_seq_path)\n",
    "ATAC_seq = pd.read_csv(ATAC_seq_path, sep=\",\", keep_default_na=False)\n",
    "\n",
    "#drop peaks with infinite -log10 p values\n",
    "ATAC_seq = ATAC_seq[ATAC_seq['_-log10_bestPvalue'] != np.inf]\n",
    "\n",
    "#define threshold (p = 0.05)\n",
    "threshold_pval = 1.3\n",
    "\n",
    "# Filter ATAC-seq peaks based on logp value threshold \n",
    "ATAC_cleaned = ATAC_seq[ATAC_seq[\"_-log10_bestPvalue\"] >= threshold_pval]\n",
    "\n",
    "\n",
    "# Create data subsets\n",
    "col_ATAC_seq_ab_act_gd_T = ['LTHSC.34-.BM', 'LTHSC.34+.BM', 'STHSC.150-.BM', 'MPP4.135+.BM','preT.DN1.Th', 'preT.DN2a.Th', 'preT.DN2b.Th',\n",
    "    'preT.DN3.Th', 'T.DN4.Th', 'T.ISP.Th', 'T.DP.Th', 'T.4.Th', 'T.8.Th',\n",
    "    'T.4.Nve.Sp', 'T.4.Nve.Fem.Sp', 'T.8.Nve.Sp', 'T.4.Sp.aCD3+CD40.18hr',\n",
    "    'Treg.4.FP3+.Nrplo.Co', 'Treg.4.25hi.Sp', 'T8.TN.P14.Sp',\n",
    "    'T8.IEL.LCMV.d7.SI', 'T8.TE.LCMV.d7.Sp', 'T8.MP.LCMV.d7.Sp',\n",
    "    'T8.Tcm.LCMV.d180.Sp', 'T8.Tem.LCMV.d180.Sp', 'NKT.Sp',\n",
    "    'NKT.Sp.LPS.3hr', 'NKT.Sp.LPS.18hr', 'NKT.Sp.LPS.3d',\n",
    "    'Tgd.g2+d17.24a+.Th', 'Tgd.g2+d17.LN', 'Tgd.g2+d1.24a+.Th',\n",
    "    'Tgd.g2+d1.LN', 'Tgd.g1.1+d1.24a+.Th', 'Tgd.g1.1+d1.LN', 'Tgd.Sp']\n",
    "\n",
    "col_ATAC_seq_ab_act_T = ['LTHSC.34-.BM', 'LTHSC.34+.BM', 'STHSC.150-.BM', 'MPP4.135+.BM','preT.DN1.Th', 'preT.DN2a.Th', 'preT.DN2b.Th',\n",
    "    'preT.DN3.Th', 'T.DN4.Th', 'T.ISP.Th', 'T.DP.Th', 'T.4.Th', 'T.8.Th',\n",
    "    'T.4.Nve.Sp', 'T.4.Nve.Fem.Sp', 'T.8.Nve.Sp', 'T.4.Sp.aCD3+CD40.18hr',\n",
    "    'Treg.4.FP3+.Nrplo.Co', 'Treg.4.25hi.Sp', 'T8.TN.P14.Sp',\n",
    "    'T8.IEL.LCMV.d7.SI', 'T8.TE.LCMV.d7.Sp', 'T8.MP.LCMV.d7.Sp',\n",
    "    'T8.Tcm.LCMV.d180.Sp', 'T8.Tem.LCMV.d180.Sp', 'NKT.Sp',\n",
    "    'NKT.Sp.LPS.3hr', 'NKT.Sp.LPS.18hr', 'NKT.Sp.LPS.3d']\n",
    "\n",
    "col_ATAC_seq_gd_T = ['LTHSC.34-.BM', 'LTHSC.34+.BM', 'STHSC.150-.BM', 'MPP4.135+.BM','Tgd.g2+d17.24a+.Th', 'Tgd.g2+d17.LN', 'Tgd.g2+d1.24a+.Th',\n",
    "    'Tgd.g2+d1.LN', 'Tgd.g1.1+d1.24a+.Th', 'Tgd.g1.1+d1.LN', 'Tgd.Sp']\n",
    "\n",
    "col_ATAC_seq_ab_T = ['LTHSC.34-.BM', 'LTHSC.34+.BM', 'STHSC.150-.BM', 'MPP4.135+.BM','preT.DN1.Th', 'preT.DN2a.Th', 'preT.DN2b.Th',\n",
    "    'preT.DN3.Th', 'T.DN4.Th', 'T.ISP.Th', 'T.DP.Th', 'T.4.Th', 'T.8.Th',\n",
    "    'T.4.Nve.Sp', 'T.4.Nve.Fem.Sp', 'T.8.Nve.Sp', 'T.4.Sp.aCD3+CD40.18hr',\n",
    "    'Treg.4.FP3+.Nrplo.Co', 'Treg.4.25hi.Sp']\n",
    "\n",
    "ATAC_seq_ab_act_gd_T = ATAC_cleaned[col_ATAC_seq_ab_act_gd_T]\n",
    "ATAC_seq_gd_T = ATAC_seq[col_ATAC_seq_gd_T]\n",
    "ATAC_seq_ab_act_T = ATAC_seq[col_ATAC_seq_ab_act_T]\n",
    "ATAC_seq_ab_T = ATAC_seq[col_ATAC_seq_ab_T]"
   ]
  },
  {
   "cell_type": "markdown",
   "id": "2f468414",
   "metadata": {},
   "source": [
    "## Create UMAP dimensionality reduction to check for outlier cells\n"
   ]
  },
  {
   "cell_type": "code",
   "execution_count": 7,
   "id": "43a653bf",
   "metadata": {},
   "outputs": [
    {
     "name": "stderr",
     "output_type": "stream",
     "text": [
      "/opt/miniconda3/envs/dataanalysisenv/lib/python3.13/site-packages/umap/spectral.py:548: UserWarning: Spectral initialisation failed! The eigenvector solver\n",
      "failed. This is likely due to too small an eigengap. Consider\n",
      "adding some noise or jitter to your data.\n",
      "\n",
      "Falling back to random initialisation!\n",
      "  warn(\n"
     ]
    },
    {
     "data": {
      "image/png": "[encoded data removed]",
      "text/plain": [
       "<Figure size 640x480 with 1 Axes>"
      ]
     },
     "metadata": {},
     "output_type": "display_data"
    }
   ],
   "source": [
    "#initialize UMAP reducer \n",
    "umap_reducer = umap.UMAP(n_neighbors=15, min_dist=0.1, metric='euclidean')\n",
    "\n",
    "# Fit and transform the ATAC scores using UMAP\n",
    "umap_embedding = umap_reducer.fit_transform(ATAC_seq_gd_T.iloc[:, 1:])\n",
    "\n",
    "# Plot results\n",
    "\n",
    "plt.scatter(umap_embedding[:, 0], umap_embedding[:, 1])\n",
    "plt.title('UMAP of ATAC Scores, colored by cell type')\n",
    "plt.xlabel('UMAP1')\n",
    "plt.ylabel('UMAP2')\n",
    "plt.show()\n",
    "\n",
    "#create a DataFrame with UMAP coordinates\n",
    "umap_df = pd.DataFrame(umap_embedding, columns=['UMAP1', 'UMAP2'])"
   ]
  },
  {
   "cell_type": "code",
   "execution_count": 10,
   "id": "29279ccf",
   "metadata": {},
   "outputs": [
    {
     "name": "stdout",
     "output_type": "stream",
     "text": [
      "Index(['chrom', 'Summit', 'mm10.60way.phastCons_scores', '_-log10_bestPvalue',\n",
      "       'Included.in.systematic.analysis', 'TSS', 'genes.within.100Kb',\n",
      "       'LTHSC.34-.BM', 'LTHSC.34+.BM', 'STHSC.150-.BM', 'MPP4.135+.BM',\n",
      "       'proB.CLP.BM', 'proB.FrA.BM', 'proB.FrBC.BM', 'preB.FrD.BM', 'B.FrE.BM',\n",
      "       'B1b.PC', 'B.T1.Sp', 'B.T2.Sp', 'B.T3.Sp', 'B.Sp', 'B.Fem.Sp',\n",
      "       'B.MZ.Sp', 'B.Fo.Sp', 'B.mem.Sp', 'B.GC.CB.Sp', 'B.GC.CC.Sp', 'B.PB.Sp',\n",
      "       'B.PC.Sp', 'B.PC.BM', 'preT.DN1.Th', 'preT.DN2a.Th', 'preT.DN2b.Th',\n",
      "       'preT.DN3.Th', 'T.DN4.Th', 'T.ISP.Th', 'T.DP.Th', 'T.4.Th', 'T.8.Th',\n",
      "       'T.4.Nve.Sp', 'T.4.Nve.Fem.Sp', 'T.8.Nve.Sp', 'T.4.Sp.aCD3+CD40.18hr',\n",
      "       'Treg.4.FP3+.Nrplo.Co', 'Treg.4.25hi.Sp', 'T8.TN.P14.Sp',\n",
      "       'T8.IEL.LCMV.d7.SI', 'T8.TE.LCMV.d7.Sp', 'T8.MP.LCMV.d7.Sp',\n",
      "       'T8.Tcm.LCMV.d180.Sp', 'T8.Tem.LCMV.d180.Sp', 'NKT.Sp',\n",
      "       'NKT.Sp.LPS.3hr', 'NKT.Sp.LPS.18hr', 'NKT.Sp.LPS.3d',\n",
      "       'Tgd.g2+d17.24a+.Th', 'Tgd.g2+d17.LN', 'Tgd.g2+d1.24a+.Th',\n",
      "       'Tgd.g2+d1.LN', 'Tgd.g1.1+d1.24a+.Th', 'Tgd.g1.1+d1.LN', 'Tgd.Sp',\n",
      "       'NK.27+11b-.BM', 'NK.27+11b+.BM', 'NK.27-11b+.BM', 'NK.27+11b-.Sp',\n",
      "       'NK.27+11b+.Sp', 'NK.27-11b+.Sp', 'ILC2.SI', 'ILC3.NKp46-CCR6-.SI',\n",
      "       'ILC3.NKp46+.SI', 'ILC3.CCR6+.SI', 'MPP3.48+.BM', 'GN.BM', 'GN.Sp',\n",
      "       'GN.Thio.PC', 'Mo.6C+II-.Bl', 'Mo.6C-II-.Bl', 'MF.pIC.Alv.Lu',\n",
      "       'MF.226+II+480lo.PC', 'MF.ICAM+480hi.PC', 'MF.RP.Sp', 'MF.LP.SI',\n",
      "       'MF.Alv.Lu', 'MF.microglia.CNS', 'MF.PC', 'MF.Fem.PC', 'DC.4+.Sp',\n",
      "       'DC.8+.Sp', 'DC.pDC.Sp', 'DC.103+11b+.SI', 'DC.103+11b-.SI', 'FRC.SLN',\n",
      "       'IAP.SLN', 'BEC.SLN', 'LEC.SLN', 'Ep.MEChi.Th'],\n",
      "      dtype='object')\n"
     ]
    }
   ],
   "source": [
    "print(ATAC_cleaned.columns[1:])\n"
   ]
  },
  {
   "cell_type": "markdown",
   "id": "e20e6a76",
   "metadata": {},
   "source": [
    "UMAP for subset of cell types relevant for ab gd T cell differentiation"
   ]
  },
  {
   "cell_type": "code",
   "execution_count": 17,
   "id": "a5d8a16d",
   "metadata": {},
   "outputs": [],
   "source": [
    "# columns sorted by cell lineage\n",
    "Stem_prog_cols = ['LTHSC.34-.BM', 'LTHSC.34+.BM', 'STHSC.150-.BM', 'MPP4.135+.BM', 'MPP3.48+.BM']\n",
    "Tab_cols = ['preT.DN1.Th', 'preT.DN2a.Th', 'preT.DN2b.Th', 'preT.DN3.Th', 'T.DN4.Th', 'T.ISP.Th', 'T.DP.Th', 'T.4.Th', 'T.8.Th','T.4.Nve.Sp', \n",
    "        'T.4.Nve.Fem.Sp', 'T.8.Nve.Sp', 'T.4.Sp.aCD3+CD40.18hr', 'Treg.4.FP3+.Nrplo.Co', 'Treg.4.25hi.Sp','T8.TN.P14.Sp', 'T8.IEL.LCMV.d7.SI',\n",
    "        'T8.TE.LCMV.d7.Sp', 'T8.MP.LCMV.d7.Sp','T8.Tcm.LCMV.d180.Sp', 'T8.Tem.LCMV.d180.Sp', 'NKT.Sp'] \n",
    "\n",
    "Tact_cols = ['NKT.Sp.LPS.3hr', 'NKT.Sp.LPS.18hr', 'NKT.Sp.LPS.3d']\n",
    "\n",
    "Tgd_cols = ['Tgd.g2+d17.24a+.Th', 'Tgd.g2+d17.LN', 'Tgd.g2+d1.24a+.Th', 'Tgd.g2+d1.LN', 'Tgd.g1.1+d1.24a+.Th', 'Tgd.g1.1+d1.LN', 'Tgd.Sp']\n",
    "\n",
    "B_cols = ['proB.CLP.BM', 'proB.FrA.BM', 'proB.FrBC.BM', 'preB.FrD.BM', 'B.FrE.BM',\n",
    "       'B1b.PC', 'B.T1.Sp', 'B.T2.Sp', 'B.T3.Sp', 'B.Sp', 'B.Fem.Sp',\n",
    "       'B.MZ.Sp', 'B.Fo.Sp', 'B.mem.Sp', 'B.GC.CB.Sp', 'B.GC.CC.Sp', 'B.PB.Sp',\n",
    "       'B.PC.Sp', 'B.PC.BM']\n",
    "\n",
    "ILC_cols = ['NK.27+11b-.BM', 'NK.27+11b+.BM', 'NK.27-11b+.BM', 'NK.27+11b-.Sp','NK.27+11b+.Sp', 'NK.27-11b+.Sp', 'ILC2.SI', 'ILC3.NKp46-CCR6-.SI',\n",
    "       'ILC3.NKp46+.SI', 'ILC3.CCR6+.SI']\n",
    "\n",
    "my_cols = ['GN.BM', 'GN.Sp','GN.Thio.PC', 'MF.pIC.Alv.Lu', 'MF.226+II+480lo.PC', 'MF.ICAM+480hi.PC', 'MF.RP.Sp', 'MF.LP.SI', 'MF.Alv.Lu', \n",
    "        'MF.microglia.CNS', 'MF.PC', 'MF.Fem.PC']\n",
    "\n",
    "mono_cols = ['Mo.6C+II-.Bl', 'Mo.6C-II-.Bl']\n",
    "\n",
    "dc_cols = ['DC.4+.Sp', 'DC.8+.Sp', 'DC.pDC.Sp', 'DC.103+11b+.SI', 'DC.103+11b-.SI']\n",
    "\n",
    "stroma_cols = ['FRC.SLN','IAP.SLN', 'BEC.SLN', 'LEC.SLN', 'Ep.MEChi.Th']\n",
    "\n",
    "cell_lineages = {\n",
    "    'Stem_prog': Stem_prog_cols,\n",
    "    'Tab': Tab_cols,\n",
    "    'Tact': Tact_cols,\n",
    "    'Tgd': Tgd_cols,\n",
    "    'B': B_cols,\n",
    "    'ILC': ILC_cols,\n",
    "    'Myeloid': my_cols,\n",
    "    'Mono': mono_cols,\n",
    "    'DC': dc_cols,\n",
    "    'Stroma': stroma_cols\n",
    "}\n",
    "# Create a DataFrame with cell types\n",
    "\n"
   ]
  },
  {
   "cell_type": "code",
   "execution_count": null,
   "id": "1d955243",
   "metadata": {},
   "outputs": [],
   "source": [
    "# columns sorted by organs\n",
    "\n",
    "bm_cols = ['LTHSC.34-.BM', 'LTHSC.34+.BM', 'STHSC.150-.BM', 'MPP4.135+.BM', 'proB.CLP.BM', 'proB.FrA.BM', 'proB.FrBC.BM', 'preB.FrD.BM', \n",
    "        'B.FrE.BM', 'NK.27+11b-.BM', 'NK.27+11b+.BM', 'NK.27-11b+.BM', 'MPP3.48+.BM', 'GN.BM']\n",
    "\n",
    "sp_cols = ['B.T1.Sp', 'B.T2.Sp', 'B.T3.Sp', 'B.Sp', 'B.Fem.Sp',\n",
    "       'B.MZ.Sp', 'B.Fo.Sp', 'B.mem.Sp', 'B.GC.CB.Sp', 'B.GC.CC.Sp', 'B.PB.Sp',\n",
    "       'B.PC.Sp', 'T.4.Nve.Sp', 'T.4.Nve.Fem.Sp', 'T.8.Nve.Sp', 'T.4.Sp.aCD3+CD40.18hr', 'Treg.4.25hi.Sp', 'T8.TN.P14.Sp',\n",
    "       'T8.IEL.LCMV.d7.SI', 'T8.TE.LCMV.d7.Sp', 'T8.MP.LCMV.d7.Sp',\n",
    "       'T8.Tcm.LCMV.d180.Sp', 'T8.Tem.LCMV.d180.Sp', 'NKT.Sp',\n",
    "       'NKT.Sp.LPS.3hr', 'NKT.Sp.LPS.18hr', 'NKT.Sp.LPS.3d', 'Tgd.Sp', 'NK.27+11b-.Sp',\n",
    "       'NK.27+11b+.Sp', 'NK.27-11b+.Sp', 'GN.Sp', 'MF.RP.Sp', 'DC.4+.Sp',\n",
    "       'DC.8+.Sp', 'DC.pDC.Sp']\n",
    "\n",
    "thy_cols = ['preT.DN1.Th', 'preT.DN2a.Th', 'preT.DN2b.Th', 'preT.DN3.Th', 'T.DN4.Th', 'T.ISP.Th', 'T.DP.Th', 'T.4.Th', 'T.8.Th', \n",
    "        'Tgd.g2+d17.24a+.Th', 'Tgd.g2+d1.24a+.Th', 'Tgd.g1.1+d1.24a+.Th', 'Ep.MEChi.Th']\n",
    "\n",
    "col_cols = ['Treg.4.FP3+.Nrplo.Co']\n",
    "\n",
    "small_int_cols = ['DC.103+11b+.SI', 'DC.103+11b-.SI', 'MF.LP.SI', 'ILC2.SI', 'ILC3.NKp46-CCR6-.SI', 'ILC3.NKp46+.SI', 'ILC3.CCR6+.SI',\n",
    "        'MF.LP.SI', 'DC.103+11b+.SI', 'DC.103+11b-.SI']\n",
    "\n",
    "sk_dr_LN_cols = ['FRC.SLN', 'IAP.SLN', 'BEC.SLN', 'LEC.SLN']\n",
    "\n",
    "per_cav_cols = ['B1b.PC', 'GN.Thio.PC', 'MF.226+II+480lo.PC', 'MF.ICAM+480hi.PC', 'MF.PC', 'MF.Fem.PC']\n",
    "\n",
    "lung_cols = ['MF.Alv.Lu', 'MF.pIC.Alv.Lu']\n",
    "\n",
    "per_bl_cols = ['Mo.6C+II-.Bl', 'Mo.6C-II-.Bl']\n",
    "\n",
    "ln_cols = ['Tgd.g2+d17.LN', 'Tgd.g2+d1.LN', 'Tgd.g1.1+d1.LN']\n",
    "\n",
    "brain_cols = ['MF.microglia.CNS']\n",
    "\n",
    "organs = {\n",
    "\n",
    "    'BM': bm_cols,\n",
    "    'SP': sp_cols,\n",
    "    'Thy': thy_cols,\n",
    "    'Col': col_cols,\n",
    "    'Small_int': small_int_cols,\n",
    "    'Sk_dr_LN': sk_dr_LN_cols,\n",
    "    'Per_cav': per_cav_cols,\n",
    "    'Lung': lung_cols,\n",
    "    'Per_bl': per_bl_cols,\n",
    "    'LN': ln_cols,\n",
    "    'Brain': brain_cols\n",
    "    }"
   ]
  }
 ],
 "metadata": {
  "kernelspec": {
   "display_name": "dataanalysisenv",
   "language": "python",
   "name": "python3"
  },
  "language_info": {
   "codemirror_mode": {
    "name": "ipython",
    "version": 3
   },
   "file_extension": ".py",
   "mimetype": "text/x-python",
   "name": "python",
   "nbconvert_exporter": "python",
   "pygments_lexer": "ipython3",
   "version": "3.13.2"
  }
 },
 "nbformat": 4,
 "nbformat_minor": 5
}
