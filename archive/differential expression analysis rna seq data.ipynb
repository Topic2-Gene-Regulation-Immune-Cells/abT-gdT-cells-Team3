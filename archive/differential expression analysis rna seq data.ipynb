{
 "cells": [
  {
   "cell_type": "markdown",
   "id": "961e87c9",
   "metadata": {},
   "source": [
    "Differential expression analysis of RNA-seq data \n",
    "\n",
    "Addressing question: Can you determine a specific set of genes for your cell lineage?\n",
    "    \n",
    "    -> we're trying to find genes wihich are specifically or highly expressed in ab tcells or gd tcells\n"
   ]
  },
  {
   "cell_type": "code",
   "execution_count": null,
   "id": "b272d584",
   "metadata": {},
   "outputs": [
    {
     "name": "stdout",
     "output_type": "stream",
     "text": [
      "AnnData object with n_obs × n_vars = 86 × 17535\n",
      "    obs: 'cell_type'\n",
      "    var: 'genes'\n"
     ]
    },
    {
     "name": "stderr",
     "output_type": "stream",
     "text": [
      "c:\\Users\\helen\\OneDrive\\Documents\\GitHub\\abT-gdT-cells-Team3\\henv\\Lib\\site-packages\\sklearn\\utils\\deprecation.py:132: FutureWarning: 'force_all_finite' was renamed to 'ensure_all_finite' in 1.6 and will be removed in 1.8.\n",
      "  warnings.warn(\n",
      "c:\\Users\\helen\\OneDrive\\Documents\\GitHub\\abT-gdT-cells-Team3\\henv\\Lib\\site-packages\\umap\\umap_.py:1952: UserWarning: n_jobs value 1 overridden to 1 by setting random_state. Use no seed for parallelism.\n",
      "  warn(\n"
     ]
    },
    {
     "ename": "NameError",
     "evalue": "name 'leiden_clusters' is not defined",
     "output_type": "error",
     "traceback": [
      "\u001b[31m---------------------------------------------------------------------------\u001b[39m",
      "\u001b[31mNameError\u001b[39m                                 Traceback (most recent call last)",
      "\u001b[36mCell\u001b[39m\u001b[36m \u001b[39m\u001b[32mIn[4]\u001b[39m\u001b[32m, line 39\u001b[39m\n\u001b[32m     34\u001b[39m adataRNA.obs[\u001b[33m'\u001b[39m\u001b[33mcell_type\u001b[39m\u001b[33m'\u001b[39m] = adataRNA.obs[\u001b[33m'\u001b[39m\u001b[33mcell_type\u001b[39m\u001b[33m'\u001b[39m].astype(\u001b[33m'\u001b[39m\u001b[33mcategory\u001b[39m\u001b[33m'\u001b[39m)\n\u001b[32m     35\u001b[39m \u001b[38;5;66;03m# sc.pl.umap(adataRNA, color='cell_type_annotated', size=20, legend_loc='on data', title='Annotated Clusters')\u001b[39;00m\n\u001b[32m     36\u001b[39m \n\u001b[32m     37\u001b[39m \u001b[38;5;66;03m#adding leiden clusters to adata\u001b[39;00m\n\u001b[32m---> \u001b[39m\u001b[32m39\u001b[39m \u001b[38;5;28;01massert\u001b[39;00m \u001b[38;5;28mall\u001b[39m(\u001b[43mleiden_clusters\u001b[49m.index == adataRNA.obs_names)\n\u001b[32m     40\u001b[39m adataRNA.obs[\u001b[33m'\u001b[39m\u001b[33mleiden\u001b[39m\u001b[33m'\u001b[39m] = leiden_clusters[\u001b[33m\"\u001b[39m\u001b[33mLeiden_Cluster\u001b[39m\u001b[33m\"\u001b[39m].astype(\u001b[38;5;28mstr\u001b[39m)\n\u001b[32m     41\u001b[39m sc.pl.umap(adataRNA, color=\u001b[33m'\u001b[39m\u001b[33mleiden\u001b[39m\u001b[33m'\u001b[39m, size=\u001b[32m20\u001b[39m)\n",
      "\u001b[31mNameError\u001b[39m: name 'leiden_clusters' is not defined"
     ]
    }
   ],
   "source": [
    "# create anndata object\n",
    "\n",
    "import pandas as pd\n",
    "import scanpy as sc\n",
    "import numpy as np\n",
    "from anndata import AnnData\n",
    "\n",
    "RNA_seq_path=r\"C:\\Users\\helen\\Downloads\\datasets\\mmc2.csv\"\n",
    "RNA_seq=pd.read_csv(RNA_seq_path,index_col=0)\n",
    "RNA_seq_T=RNA_seq.T\n",
    "RNA_seq_T_log = np.log1p(RNA_seq_T)  \n",
    "\n",
    "adataRNA = AnnData(X=RNA_seq_T_log.values)\n",
    "adataRNA.obs_names = RNA_seq_T_log.index        \n",
    "adataRNA.var_names = RNA_seq_T_log.columns     \n",
    "\n",
    "adataRNA.obs['cell_type'] = adataRNA.obs_names\n",
    "adataRNA.var['genes'] = adataRNA.var_names\n",
    "\n",
    "print(adataRNA)\n",
    "\n",
    "#adding umap to anndata\n",
    "import umap.umap_ as umap\n",
    "from sklearn.preprocessing import StandardScaler\n",
    "\n",
    "scaler = StandardScaler()\n",
    "RNA_seq_scaled = scaler.fit_transform(RNA_seq_T_log)\n",
    "\n",
    "reducer = umap.UMAP(random_state=42)\n",
    "umap_RNA = reducer.fit_transform(RNA_seq_scaled)\n",
    "\n",
    "adataRNA.obsm['X_umap'] = umap_RNA\n",
    "\n",
    "adataRNA.obs['cell_type'] = adataRNA.obs['cell_type'].astype('category')\n",
    "# sc.pl.umap(adataRNA, color='cell_type_annotated', size=20, legend_loc='on data', title='Annotated Clusters')\n",
    "\n",
    "#adding leiden clusters to adata\n",
    "leiden_clusters = pd.read_csv(\"leiden_clusters.csv\", index_col=0)\n",
    "assert all(leiden_clusters.index == adataRNA.obs_names)\n",
    "adataRNA.obs['leiden'] = leiden_clusters[\"Leiden_Cluster\"].astype(str)\n",
    "sc.pl.umap(adataRNA, color='leiden', size=20)\n",
    "\n",
    "leiden_to_celltype = {\n",
    "    '0': 'αβ/γδ T cells & NKT',\n",
    "    '1': 'B cells & Dendritic cells',\n",
    "    '2': 'Progenitors & stromal cells',\n",
    "    '3': 'Myeloid cells (Mono, Macro, Granulo)',\n",
    "    '4': 'Cytotoxic T cells & NK cells',\n",
    "    '5': 'Tregs & ILCs'\n",
    "}\n",
    "leiden_clusters = pd.read_csv(\"leiden_clusters.csv\", index_col=0)\n",
    "\n",
    "adataRNA.obs['leiden'] = leiden_clusters[\"Leiden_Cluster\"].astype(str)\n",
    "\n",
    "adataRNA.obs['cell_type_annotated'] = adataRNA.obs['leiden'].map(leiden_to_celltype)\n",
    "adataRNA.obs['cell_type_annotated'] = adataRNA.obs['cell_type_annotated'].astype('category')\n",
    "\n",
    "sc.pl.umap(adataRNA, color='cell_type_annotated', size=20, title='UMAP with Cell Type Annotations')\n",
    "\n",
    "#saving adata object\n",
    "adataRNA.write(\"adataRNA.h5ad\")\n",
    "# loading the saved adata object\n",
    "adataRNA_loaded = sc.read(\"adataRNA.h5ad\")\n",
    "print(adataRNA_loaded)\n",
    "# checking the loaded adata object\n",
    "print(adataRNA_loaded.obs.head())\n",
    "\n",
    "marker_genes = [\n",
    "    'Cd3d', 'Cd4', 'Cd8a', 'Trdc', 'Foxp3', 'Zbtb16', 'Ifng', 'Il17a',\n",
    "    'Cd19', 'Ms4a1', 'Cd79a', 'Cd74', 'Irf8', 'Itgax', 'Siglech',\n",
    "    'Kit', 'Ly6a', 'Flt3', 'Il7r', 'Rag1', 'Cd34', 'Pecam1',\n",
    "    'Cd14', 'Lyz2', 'Adgre1', 'Cx3cr1', 'Trem2', 'Itgam',\n",
    "    'Gzmb', 'Prf1', 'Nkg7', 'Klrb1c', 'Klrc1',\n",
    "    'Gata3', 'Rorc', 'Il22'\n",
    "]\n",
    "\n",
    "sc.pl.dotplot(adataRNA, var_names=marker_genes, groupby='leiden', standard_scale='var', figsize=(12,5))\n",
    "\n"
   ]
  },
  {
   "cell_type": "code",
   "execution_count": null,
   "id": "fca10e68",
   "metadata": {},
   "outputs": [],
   "source": [
    "# labeling cells by lineage\n",
    "\n",
    "def assign_lineage(celltype):\n",
    "    if celltype.startswith('Tgd'):\n",
    "        return 'GD_T'\n",
    "    elif any(celltype.startswith(x) for x in ['T.4', 'T.8', 'T.DP', 'Treg', 'T8']):\n",
    "        return 'AB_T'\n",
    "    else:\n",
    "        return 'Other'\n",
    "\n",
    "adataRNA.obs['lineage'] = adataRNA.obs['cell_type'].apply(assign_lineage)"
   ]
  }
 ],
 "metadata": {
  "kernelspec": {
   "display_name": "henv",
   "language": "python",
   "name": "python3"
  },
  "language_info": {
   "codemirror_mode": {
    "name": "ipython",
    "version": 3
   },
   "file_extension": ".py",
   "mimetype": "text/x-python",
   "name": "python",
   "nbconvert_exporter": "python",
   "pygments_lexer": "ipython3",
   "version": "3.13.3"
  }
 },
 "nbformat": 4,
 "nbformat_minor": 5
}
