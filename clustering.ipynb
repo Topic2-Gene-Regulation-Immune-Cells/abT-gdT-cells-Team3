{
 "cells": [
  {
   "cell_type": "markdown",
   "id": "46f900fc",
   "metadata": {},
   "source": [
    "### Clustering"
   ]
  },
  {
   "cell_type": "code",
   "execution_count": 1,
   "id": "897b4da7",
   "metadata": {},
   "outputs": [],
   "source": [
    "import importlib\n",
    "import functions\n",
    "importlib.reload(functions)\n",
    "functions.set_user('Kaja')\n",
    "data = functions.call_data_clean(p_threshold=1.3)\n",
    "\n",
    "ATAC_seq = data['ATAC_seq_T']"
   ]
  },
  {
   "cell_type": "code",
   "execution_count": 2,
   "id": "aa3cd013",
   "metadata": {},
   "outputs": [],
   "source": [
    "\n",
    "from sklearn.cluster import KMeans\n",
    "from sklearn.neighbors import kneighbors_graph\n",
    "from sklearn.preprocessing import StandardScaler\n",
    "from scipy.cluster.hierarchy import linkage, dendrogram\n",
    "from sklearn.metrics import pairwise_distances\n",
    "import igraph as ig\n",
    "import leidenalg\n",
    "import networkx as nx"
   ]
  },
  {
   "cell_type": "code",
   "execution_count": 3,
   "id": "83a45a5d",
   "metadata": {},
   "outputs": [],
   "source": [
    "def clustering(data, method, n_clusters, is_correlation=False, plot=True):\n",
    "    \n",
    "    if isinstance(data, pd.DataFrame):\n",
    "        df=data.copy()\n",
    "    else: df=pd.DataFrame(data)\n",
    "\n",
    "    if is_correlation:\n",
    "        dist_matrix=1-df\n",
    "        condensed=pairwise_distances(dist_matrix)\n",
    "        data_for_clustering=condensed\n",
    "    else: \n",
    "        data_for_clustering=StandardScaler().fit_transform(df)\n",
    "\n",
    "    if method == 'kmeans':\n",
    "        kmeans=KMeans(n_clusters=n_clusters, random_state=42)\n",
    "        labels=kmeans.fit_predict(data_for_clustering)\n",
    "\n",
    "    elif method=='dendogram':\n",
    "        Z=linkage(data_for_clustering, method= 'ward')\n",
    "        plt.figure(figsize=(8,5))\n",
    "        dendrogram(Z, labels=df.index.to_list(), leaf_rotation=90)\n",
    "        plt.title('Hirarchisches Clustering')\n",
    "        plt.tight_layout()\n",
    "        plt.show()\n",
    "        from scipy.cluster.hierarchy import fcluster\n",
    "        labels=fcluster(Z, n_clusters, criterion='maxclust')\n",
    "\n",
    "    elif method == 'leiden':\n",
    "        k=min(10, len(df)-1)\n",
    "        knn_graph=kneighbors_graph(data_for_clustering, k, method='connectivity')\n",
    "        nx_graph=nx.from_scipy_sparse_array(knn_graph)\n",
    "        ig_graph=ig.Graph.from_networkx(nx_graph)\n",
    "        partition=leidenalg.find_partition(ig_graph, leidenalg.RBConfigurationVertexPartition)\n",
    "        labels=np.array(partition.membership)\n",
    "\n",
    "    labels_series=pd.Series(labels, index=df.index, name='Cluster')\n",
    "\n",
    "    if plot and df.shape[1]==2:\n",
    "        plt.figure(figsize=(6, 5))\n",
    "        sns.scatterplot(x=df.iloc[:, 0], y=df.iloc[:, 1], hue=labels_series, palette='tab10')\n",
    "        plt.title(f\"Cluster plot ({method})\")\n",
    "        plt.xlabel(df.columns[0])\n",
    "        plt.ylabel(df.columns[1])\n",
    "        plt.legend(title='Cluster')\n",
    "        plt.tight_layout()\n",
    "        plt.show()\n",
    "    "
   ]
  },
  {
   "cell_type": "code",
   "execution_count": 4,
   "id": "80ffa5fe",
   "metadata": {},
   "outputs": [
    {
     "ename": "NameError",
     "evalue": "name 'umap' is not defined",
     "output_type": "error",
     "traceback": [
      "\u001b[31m---------------------------------------------------------------------------\u001b[39m",
      "\u001b[31mNameError\u001b[39m                                 Traceback (most recent call last)",
      "\u001b[36mCell\u001b[39m\u001b[36m \u001b[39m\u001b[32mIn[4]\u001b[39m\u001b[32m, line 4\u001b[39m\n\u001b[32m      1\u001b[39m umap_data = ATAC_seq.iloc[:, :]  \n\u001b[32m      3\u001b[39m \u001b[38;5;66;03m# Apply UMAP\u001b[39;00m\n\u001b[32m----> \u001b[39m\u001b[32m4\u001b[39m umap_embedding = \u001b[43mumap\u001b[49m.UMAP(n_neighbors=\u001b[32m15\u001b[39m, min_dist=\u001b[32m0.1\u001b[39m, metric=\u001b[33m'\u001b[39m\u001b[33meuclidean\u001b[39m\u001b[33m'\u001b[39m).fit_transform(umap_data.iloc[\u001b[32m1\u001b[39m:, :])\n\u001b[32m      6\u001b[39m clustering(data=umap_embedding, method=\u001b[33m'\u001b[39m\u001b[33mkmeans\u001b[39m\u001b[33m'\u001b[39m, n_clusters=\u001b[32m4\u001b[39m, is_correlation=\u001b[38;5;28;01mFalse\u001b[39;00m, plot=\u001b[38;5;28;01mTrue\u001b[39;00m)\n",
      "\u001b[31mNameError\u001b[39m: name 'umap' is not defined"
     ]
    }
   ],
   "source": [
    "umap_data = ATAC_seq.iloc[:, :]  \n",
    "\n",
    "# Apply UMAP\n",
    "umap_embedding = umap.UMAP(n_neighbors=15, min_dist=0.1, metric='euclidean').fit_transform(umap_data.iloc[1:, :])\n",
    "\n",
    "clustering(data=umap_embedding, method='kmeans', n_clusters=4, is_correlation=False, plot=True)"
   ]
  }
 ],
 "metadata": {
  "kernelspec": {
   "display_name": ".venv",
   "language": "python",
   "name": "python3"
  },
  "language_info": {
   "codemirror_mode": {
    "name": "ipython",
    "version": 3
   },
   "file_extension": ".py",
   "mimetype": "text/x-python",
   "name": "python",
   "nbconvert_exporter": "python",
   "pygments_lexer": "ipython3",
   "version": "3.13.3"
  }
 },
 "nbformat": 4,
 "nbformat_minor": 5
}
