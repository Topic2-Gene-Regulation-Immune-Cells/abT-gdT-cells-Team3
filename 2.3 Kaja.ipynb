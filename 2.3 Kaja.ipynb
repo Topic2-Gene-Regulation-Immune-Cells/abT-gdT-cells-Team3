{
 "cells": [
  {
   "cell_type": "code",
   "execution_count": 1,
   "id": "cc32f8f8",
   "metadata": {},
   "outputs": [],
   "source": [
    "import importlib\n",
    "import pandas as pd\n",
    "import matplotlib.pyplot as plt\n",
    "import seaborn as sns\n",
    "import numpy as np\n",
    "import scipy.stats\n",
    "import sklearn.manifold as sklm\n",
    "import os\n",
    "from sklearn.decomposition import PCA\n",
    "import scanpy as sc\n",
    "import functions\n",
    "importlib.reload(functions)\n",
    "functions.set_user('Kaja')"
   ]
  },
  {
   "cell_type": "code",
   "execution_count": 2,
   "id": "4a155d66",
   "metadata": {},
   "outputs": [],
   "source": [
    "data = functions.call_data_clean()\n",
    "ATAC = data['ATAC_seq']\n",
    "RNA = data['RNA_seq']\n",
    "QC = data['QC_metrics']\n",
    "ATAC_scores = data['norm_scores']\n",
    "exons = data['exons']\n",
    "ATACtest = data['test1']\n",
    "ATAC_dis = pd.read_csv(\"D:\\\\Uni\\\\4. Semester\\\\Bioinfo\\\\datasets\\\\ATAC_dis_annotated.csv\", header=0, index_col=0)"
   ]
  },
  {
   "cell_type": "code",
   "execution_count": 3,
   "id": "a3c0059d",
   "metadata": {},
   "outputs": [
    {
     "name": "stdout",
     "output_type": "stream",
     "text": [
      "ImmGenATAC1219.peakID\n",
      "ImmGenATAC1219.peak_1           NaN\n",
      "ImmGenATAC1219.peak_2           NaN\n",
      "ImmGenATAC1219.peak_3           NaN\n",
      "ImmGenATAC1219.peak_4           NaN\n",
      "ImmGenATAC1219.peak_5           NaN\n",
      "                              ...  \n",
      "ImmGenATAC1219.peak_512591    Erdr1\n",
      "ImmGenATAC1219.peak_512592    Erdr1\n",
      "ImmGenATAC1219.peak_512593    Erdr1\n",
      "ImmGenATAC1219.peak_512594    Erdr1\n",
      "ImmGenATAC1219.peak_512595    Erdr1\n",
      "Name: genes.within.100Kb, Length: 512590, dtype: object\n"
     ]
    }
   ],
   "source": [
    "#print(ATAC_dis.head())\n",
    "#print(ATAC_dis['region_type'])\n",
    "print(ATAC['genes.within.100Kb'])"
   ]
  },
  {
   "cell_type": "code",
   "execution_count": null,
   "id": "c4408d3b",
   "metadata": {},
   "outputs": [],
   "source": [
    "print(exons.head())"
   ]
  },
  {
   "cell_type": "code",
   "execution_count": 4,
   "id": "ccbb4d97",
   "metadata": {},
   "outputs": [],
   "source": [
    "ATAC_100kb = ATAC_dis[ATAC_dis['genes.within.100Kb'].notna()]\n",
    "ATAC_T = data['ATAC_seq_T']\n",
    "ATAC_top = data['top2500std']"
   ]
  },
  {
   "cell_type": "code",
   "execution_count": 51,
   "id": "cb2dba9d",
   "metadata": {},
   "outputs": [
    {
     "name": "stdout",
     "output_type": "stream",
     "text": [
      "Index(['ImmGenATAC1219.peak_21', 'ImmGenATAC1219.peak_22',\n",
      "       'ImmGenATAC1219.peak_85', 'ImmGenATAC1219.peak_86',\n",
      "       'ImmGenATAC1219.peak_140', 'ImmGenATAC1219.peak_141',\n",
      "       'ImmGenATAC1219.peak_145', 'ImmGenATAC1219.peak_146',\n",
      "       'ImmGenATAC1219.peak_157', 'ImmGenATAC1219.peak_158',\n",
      "       ...\n",
      "       'ImmGenATAC1219.peak_512468', 'ImmGenATAC1219.peak_512478',\n",
      "       'ImmGenATAC1219.peak_512500', 'ImmGenATAC1219.peak_512501',\n",
      "       'ImmGenATAC1219.peak_512506', 'ImmGenATAC1219.peak_512507',\n",
      "       'ImmGenATAC1219.peak_512508', 'ImmGenATAC1219.peak_512522',\n",
      "       'ImmGenATAC1219.peak_512523', 'ImmGenATAC1219.peak_512533'],\n",
      "      dtype='object', name='ImmGenATAC1219.peakID', length=28047)\n"
     ]
    }
   ],
   "source": [
    "rna_df=RNA.copy()\n",
    "promoters=ATAC_dis[ATAC_dis['region_type']=='Promoter']\n",
    "#print(promoters)\n",
    "print(promoters.index)"
   ]
  },
  {
   "cell_type": "code",
   "execution_count": 16,
   "id": "c8e2e524",
   "metadata": {},
   "outputs": [
    {
     "name": "stdout",
     "output_type": "stream",
     "text": [
      "Index(['0610007P14Rik', '0610009B22Rik', '0610009O20Rik', '0610010F05Rik',\n",
      "       '0610010K14Rik', '0610012G03Rik', '0610030E20Rik', '0610037L13Rik',\n",
      "       '1110004E09Rik', '1110004F10Rik',\n",
      "       ...\n",
      "       'Zswim4', 'Zswim8', 'Zufsp', 'Zw10', 'Zwint', 'Zyg11b', 'Zyx', 'Zzef1',\n",
      "       'Zzz3', 'l7Rn6'],\n",
      "      dtype='object', length=6451)\n",
      "               LTHSC.34-.BM  LTHSC.34+.BM  STHSC.150-.BM  MPP4.135+.BM  \\\n",
      "0610007P14Rik      7.693863      7.948982       7.595628      7.681578   \n",
      "0610009B22Rik      6.308741      6.318986       6.126080      6.274600   \n",
      "0610009O20Rik      7.406382      7.312212       7.294084      7.548910   \n",
      "0610010F05Rik      6.265552      7.436093       6.908770      7.455771   \n",
      "0610010K14Rik      7.234254      7.663815       7.285670      7.338289   \n",
      "\n",
      "               proB.CLP.BM  proB.FrA.BM  proB.FrBC.BM  B.FrE.BM    B1b.PC  \\\n",
      "0610007P14Rik     7.575609     7.722433      7.501594  7.116890  7.133776   \n",
      "0610009B22Rik     6.742621     6.294673      6.112973  5.863553  5.852685   \n",
      "0610009O20Rik     7.353893     7.258217      7.358188  7.067338  6.476592   \n",
      "0610010F05Rik     6.775372     6.706550      6.732814  4.642131  5.022186   \n",
      "0610010K14Rik     7.586478     7.678001      7.942816  6.869308  7.250747   \n",
      "\n",
      "                B.T1.Sp  ...     MF.PC  MF.Fem.PC  DC.4+.Sp  DC.8+.Sp  \\\n",
      "0610007P14Rik  7.122414  ...  6.937856   6.729837  6.684278  7.464511   \n",
      "0610009B22Rik  5.373666  ...  6.486898   6.217689  6.126834  5.949813   \n",
      "0610009O20Rik  6.466113  ...  6.694774   7.210811  7.043567  6.762111   \n",
      "0610010F05Rik  4.893631  ...  7.275649   7.397473  5.782902  6.035636   \n",
      "0610010K14Rik  7.233858  ...  7.235438   6.749376  6.850700  6.863210   \n",
      "\n",
      "               DC.pDC.Sp   FRC.SLN   IAP.SLN   BEC.SLN   LEC.SLN  Ep.MEChi.Th  \n",
      "0610007P14Rik   8.136514  7.652687  7.708545  6.485082  7.022611     7.146245  \n",
      "0610009B22Rik   5.847446  6.663882  5.262023  6.226672  6.288946     6.413557  \n",
      "0610009O20Rik   6.481207  6.669298  6.450261  7.602195  7.556220     5.538069  \n",
      "0610010F05Rik   5.868794  3.564184  5.979271  6.730058  5.990052     7.451088  \n",
      "0610010K14Rik   7.052760  6.286665  7.076364  6.830864  7.165132     6.532217  \n",
      "\n",
      "[5 rows x 86 columns]\n"
     ]
    }
   ],
   "source": [
    "print(rna_df.index)\n",
    "print(rna_df.head())"
   ]
  },
  {
   "cell_type": "code",
   "execution_count": null,
   "id": "5d045ce2",
   "metadata": {},
   "outputs": [],
   "source": []
  },
  {
   "cell_type": "code",
   "execution_count": 57,
   "id": "5b25350d",
   "metadata": {},
   "outputs": [
    {
     "name": "stdout",
     "output_type": "stream",
     "text": [
      "Index(['ImmGenATAC1219.peak_21', 'ImmGenATAC1219.peak_22',\n",
      "       'ImmGenATAC1219.peak_85', 'ImmGenATAC1219.peak_86',\n",
      "       'ImmGenATAC1219.peak_140', 'ImmGenATAC1219.peak_141',\n",
      "       'ImmGenATAC1219.peak_145', 'ImmGenATAC1219.peak_146',\n",
      "       'ImmGenATAC1219.peak_157', 'ImmGenATAC1219.peak_158',\n",
      "       ...\n",
      "       'ImmGenATAC1219.peak_512468', 'ImmGenATAC1219.peak_512478',\n",
      "       'ImmGenATAC1219.peak_512500', 'ImmGenATAC1219.peak_512501',\n",
      "       'ImmGenATAC1219.peak_512506', 'ImmGenATAC1219.peak_512507',\n",
      "       'ImmGenATAC1219.peak_512508', 'ImmGenATAC1219.peak_512522',\n",
      "       'ImmGenATAC1219.peak_512523', 'ImmGenATAC1219.peak_512533'],\n",
      "      dtype='object', name='ImmGenATAC1219.peakID', length=28047)\n",
      "                        chrom   Summit mm10.60way.phastCons_scores  \\\n",
      "ImmGenATAC1219.peakID                                                \n",
      "ImmGenATAC1219.peak_21   chr1  3671437                        0.72   \n",
      "ImmGenATAC1219.peak_22   chr1  3671783                        0.91   \n",
      "ImmGenATAC1219.peak_85   chr1  4497061                        0.09   \n",
      "ImmGenATAC1219.peak_86   chr1  4497535                        0.25   \n",
      "ImmGenATAC1219.peak_140  chr1  4785675                        0.41   \n",
      "ImmGenATAC1219.peak_141  chr1  4785938                        0.02   \n",
      "ImmGenATAC1219.peak_145  chr1  4807593                        0.01   \n",
      "ImmGenATAC1219.peak_146  chr1  4807877                        0.47   \n",
      "ImmGenATAC1219.peak_157  chr1  4857460                        0.04   \n",
      "ImmGenATAC1219.peak_158  chr1  4857752                        0.12   \n",
      "\n",
      "                        _-log10_bestPvalue Included.in.systematic.analysis  \\\n",
      "ImmGenATAC1219.peakID                                                        \n",
      "ImmGenATAC1219.peak_21                2.02                             1.0   \n",
      "ImmGenATAC1219.peak_22                9.67                             1.0   \n",
      "ImmGenATAC1219.peak_85                3.88                             1.0   \n",
      "ImmGenATAC1219.peak_86                6.35                             1.0   \n",
      "ImmGenATAC1219.peak_140              15.87                             1.0   \n",
      "ImmGenATAC1219.peak_141               8.59                             1.0   \n",
      "ImmGenATAC1219.peak_145              12.91                             1.0   \n",
      "ImmGenATAC1219.peak_146              25.12                             1.0   \n",
      "ImmGenATAC1219.peak_157              14.85                             1.0   \n",
      "ImmGenATAC1219.peak_158              45.65                             1.0   \n",
      "\n",
      "                            TSS   genes.within.100Kb LTHSC.34-.BM  \\\n",
      "ImmGenATAC1219.peakID                                               \n",
      "ImmGenATAC1219.peak_21     Xkr4                 Xkr4     0.271312   \n",
      "ImmGenATAC1219.peak_22      NaN                 Xkr4     2.180315   \n",
      "ImmGenATAC1219.peak_85      NaN            Rp1,Sox17     1.680462   \n",
      "ImmGenATAC1219.peak_86      NaN            Rp1,Sox17     0.271312   \n",
      "ImmGenATAC1219.peak_140  Mrpl15  Mrpl15,Lypla1,Tcea1     2.587638   \n",
      "ImmGenATAC1219.peak_141     NaN  Mrpl15,Lypla1,Tcea1     2.587638   \n",
      "ImmGenATAC1219.peak_145     NaN  Mrpl15,Lypla1,Tcea1     3.193778   \n",
      "ImmGenATAC1219.peak_146  Lypla1  Mrpl15,Lypla1,Tcea1     3.991613   \n",
      "ImmGenATAC1219.peak_157     NaN  Mrpl15,Lypla1,Tcea1     3.825924   \n",
      "ImmGenATAC1219.peak_158   Tcea1  Mrpl15,Lypla1,Tcea1     5.888653   \n",
      "\n",
      "                        LTHSC.34+.BM STHSC.150-.BM  ...       var        sd  \\\n",
      "ImmGenATAC1219.peakID                               ...                       \n",
      "ImmGenATAC1219.peak_21      1.482083      1.442282  ...  0.301824  0.549385   \n",
      "ImmGenATAC1219.peak_22      0.847423      0.525201  ...  0.381503   0.61766   \n",
      "ImmGenATAC1219.peak_85      1.735359      2.310912  ...  0.423036  0.650412   \n",
      "ImmGenATAC1219.peak_86      1.735359      0.928022  ...  0.322921  0.568261   \n",
      "ImmGenATAC1219.peak_140     3.429832      2.455242  ...  0.283326  0.532284   \n",
      "ImmGenATAC1219.peak_141     1.984891      2.455242  ...  0.244114  0.494079   \n",
      "ImmGenATAC1219.peak_145     4.437257      2.310912  ...  0.202775  0.450306   \n",
      "ImmGenATAC1219.peak_146     4.437257      3.225477  ...  0.289681   0.53822   \n",
      "ImmGenATAC1219.peak_157     4.004058      3.559852  ...  0.275607  0.524983   \n",
      "ImmGenATAC1219.peak_158     6.125999      5.409826  ...  0.131987  0.363301   \n",
      "\n",
      "                        variability       min       max     range  skewness  \\\n",
      "ImmGenATAC1219.peakID                                                         \n",
      "ImmGenATAC1219.peak_21     0.647858  0.068793  3.228378  3.159585  1.050744   \n",
      "ImmGenATAC1219.peak_22     0.709743  0.068634  4.592076  4.523442  2.625407   \n",
      "ImmGenATAC1219.peak_85     0.407268  0.314882  3.190593  2.875711  0.440147   \n",
      "ImmGenATAC1219.peak_86     0.547874  0.082892  3.986299  3.903407  1.657317   \n",
      "ImmGenATAC1219.peak_140    0.138429  2.455242  4.838735  2.383494 -0.478549   \n",
      "ImmGenATAC1219.peak_141    0.165457  1.912342  3.967909  2.055568 -0.121257   \n",
      "ImmGenATAC1219.peak_145    0.132649  2.290421  4.474457  2.184036  0.115919   \n",
      "ImmGenATAC1219.peak_146    0.132833  2.359696  5.123257   2.76356 -0.442818   \n",
      "ImmGenATAC1219.peak_157    0.145995  2.400971  5.267046  2.866076  0.309829   \n",
      "ImmGenATAC1219.peak_158    0.068117  4.299076  6.125999  1.826923 -0.241549   \n",
      "\n",
      "                        region_type TSS_bin gene_context  \n",
      "ImmGenATAC1219.peakID                                     \n",
      "ImmGenATAC1219.peak_21     Promoter   0-300        genic  \n",
      "ImmGenATAC1219.peak_22     Promoter   0-300   downstream  \n",
      "ImmGenATAC1219.peak_85     Promoter   0-300        genic  \n",
      "ImmGenATAC1219.peak_86     Promoter   0-300   downstream  \n",
      "ImmGenATAC1219.peak_140    Promoter   0-300        genic  \n",
      "ImmGenATAC1219.peak_141    Promoter   0-300   downstream  \n",
      "ImmGenATAC1219.peak_145    Promoter   0-300     upstream  \n",
      "ImmGenATAC1219.peak_146    Promoter   0-300        genic  \n",
      "ImmGenATAC1219.peak_157    Promoter   0-300     upstream  \n",
      "ImmGenATAC1219.peak_158    Promoter   0-300        genic  \n",
      "\n",
      "[10 rows x 111 columns]\n"
     ]
    }
   ],
   "source": [
    "#print(promoters['genes.within.100Kb'])\n",
    "#print(promoters.head())\n",
    "promoters=promoters.T\n",
    "print(promoters.index)\n",
    "print(promoters.head(10))\n"
   ]
  },
  {
   "cell_type": "code",
   "execution_count": 58,
   "id": "b0c8bae1",
   "metadata": {},
   "outputs": [],
   "source": [
    "rows = []\n",
    "\n",
    "for idx, row in promoters.iterrows():\n",
    "    gene_list = str(row['genes.within.100Kb']).split(',')  # aufteilen\n",
    "    for gene in gene_list:\n",
    "        gene = gene.strip()\n",
    "        new_row = row.copy()\n",
    "        new_row['gene'] = gene\n",
    "        rows.append(new_row)\n",
    "\n",
    "promoters_genes_df = pd.DataFrame(rows)\n",
    "promoters_genes_df = promoters_genes_df.drop(columns=['genes.within.100Kb'])  # alte Spalte raus\n"
   ]
  },
  {
   "cell_type": "code",
   "execution_count": 48,
   "id": "4fbdc581",
   "metadata": {},
   "outputs": [
    {
     "ename": "KeyError",
     "evalue": "'genes.within.100Kb'",
     "output_type": "error",
     "traceback": [
      "\u001b[31m---------------------------------------------------------------------------\u001b[39m",
      "\u001b[31mKeyError\u001b[39m                                  Traceback (most recent call last)",
      "\u001b[36mFile \u001b[39m\u001b[32md:\\Uni\\4. Semester\\Bioinfo\\abT-gdT-cells-Team3\\abT-gdT-cells-Team3\\.venv\\Lib\\site-packages\\pandas\\core\\indexes\\base.py:3805\u001b[39m, in \u001b[36mIndex.get_loc\u001b[39m\u001b[34m(self, key)\u001b[39m\n\u001b[32m   3804\u001b[39m \u001b[38;5;28;01mtry\u001b[39;00m:\n\u001b[32m-> \u001b[39m\u001b[32m3805\u001b[39m     \u001b[38;5;28;01mreturn\u001b[39;00m \u001b[38;5;28;43mself\u001b[39;49m\u001b[43m.\u001b[49m\u001b[43m_engine\u001b[49m\u001b[43m.\u001b[49m\u001b[43mget_loc\u001b[49m\u001b[43m(\u001b[49m\u001b[43mcasted_key\u001b[49m\u001b[43m)\u001b[49m\n\u001b[32m   3806\u001b[39m \u001b[38;5;28;01mexcept\u001b[39;00m \u001b[38;5;167;01mKeyError\u001b[39;00m \u001b[38;5;28;01mas\u001b[39;00m err:\n",
      "\u001b[36mFile \u001b[39m\u001b[32mindex.pyx:167\u001b[39m, in \u001b[36mpandas._libs.index.IndexEngine.get_loc\u001b[39m\u001b[34m()\u001b[39m\n",
      "\u001b[36mFile \u001b[39m\u001b[32mindex.pyx:196\u001b[39m, in \u001b[36mpandas._libs.index.IndexEngine.get_loc\u001b[39m\u001b[34m()\u001b[39m\n",
      "\u001b[36mFile \u001b[39m\u001b[32mpandas\\\\_libs\\\\hashtable_class_helper.pxi:7081\u001b[39m, in \u001b[36mpandas._libs.hashtable.PyObjectHashTable.get_item\u001b[39m\u001b[34m()\u001b[39m\n",
      "\u001b[36mFile \u001b[39m\u001b[32mpandas\\\\_libs\\\\hashtable_class_helper.pxi:7089\u001b[39m, in \u001b[36mpandas._libs.hashtable.PyObjectHashTable.get_item\u001b[39m\u001b[34m()\u001b[39m\n",
      "\u001b[31mKeyError\u001b[39m: 'genes.within.100Kb'",
      "\nThe above exception was the direct cause of the following exception:\n",
      "\u001b[31mKeyError\u001b[39m                                  Traceback (most recent call last)",
      "\u001b[36mCell\u001b[39m\u001b[36m \u001b[39m\u001b[32mIn[48]\u001b[39m\u001b[32m, line 15\u001b[39m\n\u001b[32m     12\u001b[39m atac_values = promoters[peak]\n\u001b[32m     14\u001b[39m \u001b[38;5;66;03m# Hole die Gene, die mit dem Peak assoziiert sind\u001b[39;00m\n\u001b[32m---> \u001b[39m\u001b[32m15\u001b[39m gene_list = \u001b[43mpromoters\u001b[49m\u001b[43m[\u001b[49m\u001b[33;43m'\u001b[39;49m\u001b[33;43mgenes.within.100Kb\u001b[39;49m\u001b[33;43m'\u001b[39;49m\u001b[43m]\u001b[49m.dropna().apply(\u001b[38;5;28;01mlambda\u001b[39;00m x: x.split(\u001b[33m'\u001b[39m\u001b[33m,\u001b[39m\u001b[33m'\u001b[39m))\n\u001b[32m     17\u001b[39m \u001b[38;5;66;03m# Wir gehen Zelle für Zelle durch\u001b[39;00m\n\u001b[32m     18\u001b[39m \u001b[38;5;28;01mfor\u001b[39;00m gene_set \u001b[38;5;129;01min\u001b[39;00m gene_list.unique():\n",
      "\u001b[36mFile \u001b[39m\u001b[32md:\\Uni\\4. Semester\\Bioinfo\\abT-gdT-cells-Team3\\abT-gdT-cells-Team3\\.venv\\Lib\\site-packages\\pandas\\core\\frame.py:4102\u001b[39m, in \u001b[36mDataFrame.__getitem__\u001b[39m\u001b[34m(self, key)\u001b[39m\n\u001b[32m   4100\u001b[39m \u001b[38;5;28;01mif\u001b[39;00m \u001b[38;5;28mself\u001b[39m.columns.nlevels > \u001b[32m1\u001b[39m:\n\u001b[32m   4101\u001b[39m     \u001b[38;5;28;01mreturn\u001b[39;00m \u001b[38;5;28mself\u001b[39m._getitem_multilevel(key)\n\u001b[32m-> \u001b[39m\u001b[32m4102\u001b[39m indexer = \u001b[38;5;28;43mself\u001b[39;49m\u001b[43m.\u001b[49m\u001b[43mcolumns\u001b[49m\u001b[43m.\u001b[49m\u001b[43mget_loc\u001b[49m\u001b[43m(\u001b[49m\u001b[43mkey\u001b[49m\u001b[43m)\u001b[49m\n\u001b[32m   4103\u001b[39m \u001b[38;5;28;01mif\u001b[39;00m is_integer(indexer):\n\u001b[32m   4104\u001b[39m     indexer = [indexer]\n",
      "\u001b[36mFile \u001b[39m\u001b[32md:\\Uni\\4. Semester\\Bioinfo\\abT-gdT-cells-Team3\\abT-gdT-cells-Team3\\.venv\\Lib\\site-packages\\pandas\\core\\indexes\\base.py:3812\u001b[39m, in \u001b[36mIndex.get_loc\u001b[39m\u001b[34m(self, key)\u001b[39m\n\u001b[32m   3807\u001b[39m     \u001b[38;5;28;01mif\u001b[39;00m \u001b[38;5;28misinstance\u001b[39m(casted_key, \u001b[38;5;28mslice\u001b[39m) \u001b[38;5;129;01mor\u001b[39;00m (\n\u001b[32m   3808\u001b[39m         \u001b[38;5;28misinstance\u001b[39m(casted_key, abc.Iterable)\n\u001b[32m   3809\u001b[39m         \u001b[38;5;129;01mand\u001b[39;00m \u001b[38;5;28many\u001b[39m(\u001b[38;5;28misinstance\u001b[39m(x, \u001b[38;5;28mslice\u001b[39m) \u001b[38;5;28;01mfor\u001b[39;00m x \u001b[38;5;129;01min\u001b[39;00m casted_key)\n\u001b[32m   3810\u001b[39m     ):\n\u001b[32m   3811\u001b[39m         \u001b[38;5;28;01mraise\u001b[39;00m InvalidIndexError(key)\n\u001b[32m-> \u001b[39m\u001b[32m3812\u001b[39m     \u001b[38;5;28;01mraise\u001b[39;00m \u001b[38;5;167;01mKeyError\u001b[39;00m(key) \u001b[38;5;28;01mfrom\u001b[39;00m\u001b[38;5;250m \u001b[39m\u001b[34;01merr\u001b[39;00m\n\u001b[32m   3813\u001b[39m \u001b[38;5;28;01mexcept\u001b[39;00m \u001b[38;5;167;01mTypeError\u001b[39;00m:\n\u001b[32m   3814\u001b[39m     \u001b[38;5;66;03m# If we have a listlike key, _check_indexing_error will raise\u001b[39;00m\n\u001b[32m   3815\u001b[39m     \u001b[38;5;66;03m#  InvalidIndexError. Otherwise we fall through and re-raise\u001b[39;00m\n\u001b[32m   3816\u001b[39m     \u001b[38;5;66;03m#  the TypeError.\u001b[39;00m\n\u001b[32m   3817\u001b[39m     \u001b[38;5;28mself\u001b[39m._check_indexing_error(key)\n",
      "\u001b[31mKeyError\u001b[39m: 'genes.within.100Kb'"
     ]
    }
   ],
   "source": [
    "from scipy.stats import pearsonr\n",
    "import pandas as pd\n",
    "\n",
    "results = []\n",
    "\n",
    "# Hole alle ATAC-Peak-Spalten (außer der Gene-Spalte)\n",
    "peak_columns = [col for col in promoters.columns if col != 'genes.within.100Kb']\n",
    "\n",
    "# Iteriere über alle ATAC-Peaks\n",
    "for peak in peak_columns:\n",
    "    # Hole ATAC-Werte für alle Zellen\n",
    "    atac_values = promoters[peak]\n",
    "\n",
    "    # Hole die Gene, die mit dem Peak assoziiert sind\n",
    "    gene_list = promoters['genes.within.100Kb'].dropna().apply(lambda x: x.split(','))\n",
    "\n",
    "    # Wir gehen Zelle für Zelle durch\n",
    "    for gene_set in gene_list.unique():\n",
    "        for gene in gene_set:\n",
    "            gene = gene.strip()\n",
    "            if gene not in rna_df.columns:\n",
    "                continue\n",
    "\n",
    "            # Hole RNA-Werte für dieses Gen\n",
    "            rna_values = rna_df[gene]\n",
    "\n",
    "            # Gemeinsame Zellen für beide Werte\n",
    "            common_cells = atac_values.index.intersection(rna_values.index)\n",
    "\n",
    "            # Hole ATAC & RNA Werte\n",
    "            atac_vals = atac_values.loc[common_cells]\n",
    "            rna_vals = rna_values.loc[common_cells]\n",
    "\n",
    "            # Prüfe auf gültige Länge\n",
    "            if len(atac_vals.dropna()) >= 3 and len(rna_vals.dropna()) >= 3:\n",
    "                r, p = pearsonr(atac_vals, rna_vals)\n",
    "                results.append({\n",
    "                    'peak': peak,\n",
    "                    'gene': gene,\n",
    "                    'correlation': r,\n",
    "                    'p_value': p,\n",
    "                    'n_cells': len(common_cells)\n",
    "                })\n",
    "\n",
    "# Ergebnis als DataFrame\n",
    "cor_df = pd.DataFrame(results)\n",
    "cor_df = cor_df.sort_values(by='correlation', ascending=False)\n",
    "\n",
    "# Beispiel-Ausgabe\n",
    "print(cor_df.head())"
   ]
  },
  {
   "cell_type": "code",
   "execution_count": 43,
   "id": "04ff4aa3",
   "metadata": {},
   "outputs": [
    {
     "name": "stdout",
     "output_type": "stream",
     "text": [
      "Anzahl Gene in beiden Datensätzen: 435\n",
      "Beispiele gemeinsamer Gene: ['Hspa13', 'D1Ertd622e', 'Nipbl', 'Med30', 'Ufm1', 'Pkn2', 'Rgs3', 'Ccnl1', 'Raly', 'Impad1']\n"
     ]
    },
    {
     "ename": "ValueError",
     "evalue": "`x` and `y` must have the same length along `axis`.",
     "output_type": "error",
     "traceback": [
      "\u001b[31m---------------------------------------------------------------------------\u001b[39m",
      "\u001b[31mValueError\u001b[39m                                Traceback (most recent call last)",
      "\u001b[32m~\\AppData\\Local\\Temp\\ipykernel_2672\\1004930773.py\u001b[39m in \u001b[36m?\u001b[39m\u001b[34m()\u001b[39m\n\u001b[32m     21\u001b[39m     \u001b[38;5;28;01mif\u001b[39;00m peak_id \u001b[38;5;28;01min\u001b[39;00m promoters.index \u001b[38;5;28;01mand\u001b[39;00m gene \u001b[38;5;28;01min\u001b[39;00m rna_df.index:\n\u001b[32m     22\u001b[39m         atac_values = promoters.loc[peak_id]\n\u001b[32m     23\u001b[39m         rna_values= rna_df.loc[gene]\n\u001b[32m     24\u001b[39m \n\u001b[32m---> \u001b[39m\u001b[32m25\u001b[39m         r, p=pearsonr(atac_values, rna_values)\n\u001b[32m     26\u001b[39m \n\u001b[32m     27\u001b[39m         results.append({\n\u001b[32m     28\u001b[39m             \u001b[33m'peak_id'\u001b[39m: peak_id,\n",
      "\u001b[32md:\\Uni\\4. Semester\\Bioinfo\\abT-gdT-cells-Team3\\abT-gdT-cells-Team3\\.venv\\Lib\\site-packages\\scipy\\stats\\_stats_py.py\u001b[39m in \u001b[36m?\u001b[39m\u001b[34m(x, y, alternative, method, axis)\u001b[39m\n\u001b[32m   4545\u001b[39m     axis = axis_int\n\u001b[32m   4546\u001b[39m \n\u001b[32m   4547\u001b[39m     n = x.shape[axis]\n\u001b[32m   4548\u001b[39m     \u001b[38;5;28;01mif\u001b[39;00m n != y.shape[axis]:\n\u001b[32m-> \u001b[39m\u001b[32m4549\u001b[39m         \u001b[38;5;28;01mraise\u001b[39;00m ValueError(\u001b[33m'`x` and `y` must have the same length along `axis`.'\u001b[39m)\n\u001b[32m   4550\u001b[39m \n\u001b[32m   4551\u001b[39m     \u001b[38;5;28;01mif\u001b[39;00m n < \u001b[32m2\u001b[39m:\n\u001b[32m   4552\u001b[39m         \u001b[38;5;28;01mraise\u001b[39;00m ValueError(\u001b[33m'`x` and `y` must have length at least 2.'\u001b[39m)\n",
      "\u001b[31mValueError\u001b[39m: `x` and `y` must have the same length along `axis`."
     ]
    }
   ],
   "source": [
    "from scipy.stats import pearsonr\n",
    "results=[]\n",
    "gene=row['genes.within.100Kb']\n",
    "\n",
    "genes_in_promoters = set(promoters['genes.within.100Kb'])\n",
    "\n",
    "# Gene aus rna_df (Index)\n",
    "genes_in_rna = set(rna_df.index)\n",
    "\n",
    "# Gemeinsame Gene (Schnittmenge)\n",
    "common_genes = genes_in_promoters.intersection(genes_in_rna)\n",
    "\n",
    "\n",
    "print(f\"Anzahl Gene in beiden Datensätzen: {len(common_genes)}\")\n",
    "print(\"Beispiele gemeinsamer Gene:\", list(common_genes)[:10])\n",
    "\n",
    "\n",
    "for peak_id, row in promoters.iterrows():\n",
    "    #peak_id=row['ImmGenATAC1219.peakID']\n",
    "    gene=row['genes.within.100Kb']\n",
    "    if peak_id in promoters.index and gene in rna_df.index:\n",
    "        atac_values = promoters.loc[peak_id]\n",
    "        rna_values= rna_df.loc[gene]\n",
    "\n",
    "        r, p=pearsonr(atac_values, rna_values)\n",
    "\n",
    "        results.append({\n",
    "            'peak_id': peak_id,\n",
    "            'gene_name': gene,\n",
    "            'correlation': r,\n",
    "            'p_value': p\n",
    "        })"
   ]
  },
  {
   "cell_type": "code",
   "execution_count": 40,
   "id": "ae8e9124",
   "metadata": {},
   "outputs": [
    {
     "name": "stdout",
     "output_type": "stream",
     "text": [
      "Empty DataFrame\n",
      "Columns: []\n",
      "Index: []\n"
     ]
    }
   ],
   "source": [
    "corr_df=pd.DataFrame(results)\n",
    "print(corr_df.head())"
   ]
  },
  {
   "cell_type": "code",
   "execution_count": 5,
   "id": "c090eaa3",
   "metadata": {},
   "outputs": [
    {
     "name": "stdout",
     "output_type": "stream",
     "text": [
      "ATAC_scores columns:\n",
      "['LTHSC.34-.BM', 'LTHSC.34+.BM', 'STHSC.150-.BM', 'MPP4.135+.BM', 'proB.CLP.BM', 'proB.FrA.BM', 'proB.FrBC.BM', 'preB.FrD.BM', 'B.FrE.BM', 'B1b.PC', 'B.T1.Sp', 'B.T2.Sp', 'B.T3.Sp', 'B.Sp', 'B.Fem.Sp', 'B.MZ.Sp', 'B.Fo.Sp', 'B.mem.Sp', 'B.GC.CB.Sp', 'B.GC.CC.Sp', 'B.PB.Sp', 'B.PC.Sp', 'B.PC.BM', 'preT.DN1.Th', 'preT.DN2a.Th', 'preT.DN2b.Th', 'preT.DN3.Th', 'T.DN4.Th', 'T.ISP.Th', 'T.DP.Th', 'T.4.Th', 'T.8.Th', 'T.4.Nve.Sp', 'T.4.Nve.Fem.Sp', 'T.8.Nve.Sp', 'T.4.Sp.aCD3+CD40.18hr', 'Treg.4.FP3+.Nrplo.Co', 'Treg.4.25hi.Sp', 'T8.TN.P14.Sp', 'T8.IEL.LCMV.d7.SI', 'T8.TE.LCMV.d7.Sp', 'T8.MP.LCMV.d7.Sp', 'T8.Tcm.LCMV.d180.Sp', 'T8.Tem.LCMV.d180.Sp', 'NKT.Sp', 'NKT.Sp.LPS.3hr', 'NKT.Sp.LPS.18hr', 'NKT.Sp.LPS.3d', 'Tgd.g2+d17.24a+.Th', 'Tgd.g2+d17.LN', 'Tgd.g2+d1.24a+.Th', 'Tgd.g2+d1.LN', 'Tgd.g1.1+d1.24a+.Th', 'Tgd.g1.1+d1.LN', 'Tgd.Sp', 'NK.27+11b-.BM', 'NK.27+11b+.BM', 'NK.27-11b+.BM', 'NK.27+11b-.Sp', 'NK.27+11b+.Sp', 'NK.27-11b+.Sp', 'ILC2.SI', 'ILC3.NKp46-CCR6-.SI', 'ILC3.NKp46+.SI', 'ILC3.CCR6+.SI', 'MPP3.48+.BM', 'GN.BM', 'GN.Sp', 'GN.Thio.PC', 'Mo.6C+II-.Bl', 'Mo.6C-II-.Bl', 'MF.pIC.Alv.Lu', 'MF.226+II+480lo.PC', 'MF.ICAM+480hi.PC', 'MF.RP.Sp', 'MF.LP.SI', 'MF.Alv.Lu', 'MF.microglia.CNS', 'MF.PC', 'MF.Fem.PC', 'DC.4+.Sp', 'DC.8+.Sp', 'DC.pDC.Sp', 'DC.103+11b+.SI', 'DC.103+11b-.SI', 'FRC.SLN', 'IAP.SLN', 'BEC.SLN', 'LEC.SLN', 'Ep.MEChi.Th']\n",
      "RNA columns:\n",
      "['LTHSC.34-.BM', 'LTHSC.34+.BM', 'STHSC.150-.BM', 'MPP4.135+.BM', 'proB.CLP.BM', 'proB.FrA.BM', 'proB.FrBC.BM', 'B.FrE.BM', 'B1b.PC', 'B.T1.Sp', 'B.T2.Sp', 'B.T3.Sp', 'B.Sp', 'B.Fem.Sp', 'B.MZ.Sp', 'B.Fo.Sp', 'B.mem.Sp', 'B.GC.CB.Sp', 'B.GC.CC.Sp', 'B.PB.Sp', 'B.PC.Sp', 'B.PC.BM', 'preT.DN1.Th', 'preT.DN2a.Th', 'preT.DN2b.Th', 'preT.DN3.Th', 'T.DN4.Th', 'T.ISP.Th', 'T.DP.Th', 'T.4.Th', 'T.8.Th', 'T.4.Nve.Sp', 'T.4.Nve.Fem.Sp', 'T.8.Nve.Sp', 'T.4.Sp.aCD3+CD40.18hr', 'Treg.4.FP3+.Nrplo.Co', 'Treg.4.25hi.Sp', 'T8.TN.P14.Sp', 'T8.IEL.LCMV.d7.Gut', 'T8.TE.LCMV.d7.Sp', 'T8.MP.LCMV.d7.Sp', 'T8.Tcm.LCMV.d180.Sp', 'T8.Tem.LCMV.d180.Sp', 'NKT.Sp', 'NKT.Sp.LPS.3hr', 'NKT.Sp.LPS.18hr', 'NKT.Sp.LPS.3d', 'Tgd.g2+d17.24a+.Th', 'Tgd.g2+d17.LN', 'Tgd.g2+d1.24a+.Th', 'Tgd.g2+d1.LN', 'Tgd.g1.1+d1.24a+.Th', 'Tgd.g1.1+d1.LN', 'Tgd.Sp', 'NK.27+11b-.BM', 'NK.27+11b+.BM', 'NK.27-11b+.BM', 'NK.27+11b-.Sp', 'NK.27+11b+.Sp', 'NK.27-11b+.Sp', 'ILC2.SI', 'ILC3.NKp46-CCR6-.SI', 'ILC3.NKp46+.SI', 'ILC3.CCR6+.SI', 'MPP3.48+.BM', 'GN.BM', 'GN.Sp', 'GN.Thio.PC', 'Mo.6C+II-.Bl', 'Mo.6C-II-.Bl', 'MF.pIC.Alv.Lu', 'MF.226+II+480lo.PC', 'MF.ICAM+480hi.PC', 'MF.RP.Sp', 'MF.Alv.Lu', 'MF.microglia.CNS', 'MF.PC', 'MF.Fem.PC', 'DC.4+.Sp', 'DC.8+.Sp', 'DC.pDC.Sp', 'FRC.SLN', 'IAP.SLN', 'BEC.SLN', 'LEC.SLN', 'Ep.MEChi.Th']\n",
      "Gemeinsame Spalten: {'ILC3.NKp46+.SI', 'GN.Sp', 'T.DP.Th', 'T8.Tcm.LCMV.d180.Sp', 'NK.27-11b+.BM', 'ILC3.CCR6+.SI', 'B.GC.CC.Sp', 'T.ISP.Th', 'B.GC.CB.Sp', 'T.DN4.Th', 'NKT.Sp.LPS.18hr', 'NK.27+11b+.Sp', 'NK.27+11b+.BM', 'proB.FrA.BM', 'MF.ICAM+480hi.PC', 'MF.PC', 'B1b.PC', 'Mo.6C-II-.Bl', 'B.PB.Sp', 'NKT.Sp', 'GN.Thio.PC', 'B.PC.BM', 'NK.27+11b-.Sp', 'preT.DN2a.Th', 'Treg.4.FP3+.Nrplo.Co', 'MF.microglia.CNS', 'GN.BM', 'NK.27-11b+.Sp', 'Tgd.g2+d1.24a+.Th', 'B.MZ.Sp', 'LEC.SLN', 'Mo.6C+II-.Bl', 'preT.DN1.Th', 'MF.226+II+480lo.PC', 'MF.RP.Sp', 'T.4.Nve.Fem.Sp', 'LTHSC.34-.BM', 'ILC2.SI', 'B.FrE.BM', 'Tgd.g1.1+d1.24a+.Th', 'T.4.Sp.aCD3+CD40.18hr', 'NKT.Sp.LPS.3d', 'proB.CLP.BM', 'FRC.SLN', 'Tgd.g1.1+d1.LN', 'DC.pDC.Sp', 'proB.FrBC.BM', 'Tgd.g2+d17.24a+.Th', 'B.PC.Sp', 'Tgd.Sp', 'MPP3.48+.BM', 'Treg.4.25hi.Sp', 'ILC3.NKp46-CCR6-.SI', 'B.mem.Sp', 'T8.Tem.LCMV.d180.Sp', 'T8.TN.P14.Sp', 'B.T2.Sp', 'B.T3.Sp', 'Ep.MEChi.Th', 'MF.Fem.PC', 'MF.pIC.Alv.Lu', 'BEC.SLN', 'T.8.Nve.Sp', 'B.Sp', 'Tgd.g2+d1.LN', 'IAP.SLN', 'DC.4+.Sp', 'LTHSC.34+.BM', 'Tgd.g2+d17.LN', 'B.T1.Sp', 'B.Fem.Sp', 'T.4.Th', 'T8.MP.LCMV.d7.Sp', 'T8.TE.LCMV.d7.Sp', 'NKT.Sp.LPS.3hr', 'T.4.Nve.Sp', 'DC.8+.Sp', 'MF.Alv.Lu', 'preT.DN3.Th', 'NK.27+11b-.BM', 'T.8.Th', 'MPP4.135+.BM', 'B.Fo.Sp', 'preT.DN2b.Th', 'STHSC.150-.BM'}\n",
      "ATAC ohne RNA: {'MF.LP.SI', 'DC.103+11b+.SI', 'DC.103+11b-.SI', 'preB.FrD.BM', 'T8.IEL.LCMV.d7.SI'}\n",
      "RNA ohne ATAC: {'T8.IEL.LCMV.d7.Gut'}\n"
     ]
    }
   ],
   "source": [
    "print(\"ATAC_scores columns:\")\n",
    "print(list(ATAC_scores.columns))\n",
    "print(\"RNA columns:\")\n",
    "print(list(RNA.columns))\n",
    "\n",
    "gemeinsame_spalten = set(ATAC_scores.columns) & set(RNA.columns)\n",
    "print(\"Gemeinsame Spalten:\", gemeinsame_spalten)\n",
    "print(\"ATAC ohne RNA:\", set(ATAC_scores.columns) - set(RNA.columns))\n",
    "print(\"RNA ohne ATAC:\", set(RNA.columns) - set(ATAC_scores.columns))"
   ]
  },
  {
   "cell_type": "code",
   "execution_count": 41,
   "id": "f1adba30",
   "metadata": {},
   "outputs": [
    {
     "name": "stdout",
     "output_type": "stream",
     "text": [
      "Anzahl Gene in beiden Datensätzen: 435\n",
      "Beispiele gemeinsamer Gene: ['Hspa13', 'D1Ertd622e', 'Nipbl', 'Med30', 'Ufm1', 'Pkn2', 'Rgs3', 'Ccnl1', 'Raly', 'Impad1']\n"
     ]
    },
    {
     "ename": "NameError",
     "evalue": "name 'pearsonr' is not defined",
     "output_type": "error",
     "traceback": [
      "\u001b[31m---------------------------------------------------------------------------\u001b[39m",
      "\u001b[31mNameError\u001b[39m                                 Traceback (most recent call last)",
      "\u001b[36mCell\u001b[39m\u001b[36m \u001b[39m\u001b[32mIn[41]\u001b[39m\u001b[32m, line 44\u001b[39m\n\u001b[32m     41\u001b[39m     \u001b[38;5;28;01mif\u001b[39;00m atac_signal.isnull().any() \u001b[38;5;129;01mor\u001b[39;00m rna_values.isnull().any():\n\u001b[32m     42\u001b[39m         \u001b[38;5;28;01mcontinue\u001b[39;00m\n\u001b[32m---> \u001b[39m\u001b[32m44\u001b[39m     r, p = \u001b[43mpearsonr\u001b[49m(atac_signal, rna_values)\n\u001b[32m     46\u001b[39m     results.append({\n\u001b[32m     47\u001b[39m         \u001b[33m'\u001b[39m\u001b[33mpeak_id\u001b[39m\u001b[33m'\u001b[39m: peak_id,\n\u001b[32m     48\u001b[39m         \u001b[33m'\u001b[39m\u001b[33mgene_name\u001b[39m\u001b[33m'\u001b[39m: gene,\n\u001b[32m     49\u001b[39m         \u001b[33m'\u001b[39m\u001b[33mcorrelation\u001b[39m\u001b[33m'\u001b[39m: r,\n\u001b[32m     50\u001b[39m         \u001b[33m'\u001b[39m\u001b[33mp_value\u001b[39m\u001b[33m'\u001b[39m: p\n\u001b[32m     51\u001b[39m     })\n\u001b[32m     53\u001b[39m corr_df = pd.DataFrame(results)\n",
      "\u001b[31mNameError\u001b[39m: name 'pearsonr' is not defined"
     ]
    }
   ],
   "source": [
    "results = []\n",
    "\n",
    "# 1. Extrahiere alle Gene aus promoters (kann mehrere pro Peak sein, z.B. 'GeneA;GeneB')\n",
    "genes_in_promoters_raw = promoters['genes.within.100Kb'].dropna().tolist()\n",
    "\n",
    "genes_in_promoters = set()\n",
    "for gstr in genes_in_promoters_raw:\n",
    "    genes_in_promoters.update(gstr.split(';'))\n",
    "\n",
    "genes_in_rna = set(rna_df.index)\n",
    "common_genes = genes_in_promoters.intersection(genes_in_rna)\n",
    "\n",
    "print(f\"Anzahl Gene in beiden Datensätzen: {len(common_genes)}\")\n",
    "print(\"Beispiele gemeinsamer Gene:\", list(common_genes)[:10])\n",
    "\n",
    "# 2. Für jeden Promoter-Peak Korrelation berechnen\n",
    "for peak_id, row in promoters.iterrows():\n",
    "    gene_str = row['genes.within.100Kb']\n",
    "    if pd.isna(gene_str):\n",
    "        continue\n",
    "    \n",
    "    genes_list = gene_str.split(';')\n",
    "    \n",
    "    # Suche erstes Gen aus der Schnittmenge common_genes\n",
    "    gene = None\n",
    "    for g in genes_list:\n",
    "        if g in common_genes:\n",
    "            gene = g\n",
    "            break\n",
    "    if gene is None:\n",
    "        continue\n",
    "    \n",
    "    # Promoter ATAC-Signalwerte (alles außer Annotationen)\n",
    "    # Angenommen, deine Annotationsspalten sind z.B. 'genes.within.100Kb' und andere,\n",
    "    # und die restlichen Spalten sind Proben mit Signalwerten.\n",
    "    # Deshalb hier alle Spalten außer Annotationen filtern:\n",
    "    atac_signal = row.drop(labels=['genes.within.100Kb', 'andere_annot_spalten...'], errors='ignore')\n",
    "    \n",
    "    rna_values = rna_df.loc[gene]\n",
    "    \n",
    "    if atac_signal.isnull().any() or rna_values.isnull().any():\n",
    "        continue\n",
    "    \n",
    "    r, p = pearsonr(atac_signal, rna_values)\n",
    "    \n",
    "    results.append({\n",
    "        'peak_id': peak_id,\n",
    "        'gene_name': gene,\n",
    "        'correlation': r,\n",
    "        'p_value': p\n",
    "    })\n",
    "\n",
    "corr_df = pd.DataFrame(results)\n",
    "print(f\"Korrelationen berechnet für {len(corr_df)} Promoter-Gene Paare\")"
   ]
  },
  {
   "cell_type": "code",
   "execution_count": 6,
   "id": "f7a725cd",
   "metadata": {},
   "outputs": [],
   "source": [
    "def correlate_promoter_atac_rna(ATAC, RNA, ATAC_scores):\n",
    "    # Nur gemeinsame Cell-Typ-Namen verwenden!\n",
    "    gemeinsame_celltypen = [col for col in ATAC_scores.columns if col in RNA.columns]\n",
    "    print(f\"Gemeinsame Celltypen ({len(gemeinsame_celltypen)}):\", gemeinsame_celltypen)\n",
    "    \n",
    "    promoter_peaks = ATAC[ATAC['distance_to_TSS'] <= 2000].copy()\n",
    "    promoter_peaks['main_gene'] = promoter_peaks['nearest_gene']\n",
    "    results = []\n",
    "    for idx, row in promoter_peaks.iterrows():\n",
    "        gene = row['main_gene']\n",
    "        if gene in RNA.index:\n",
    "            atac_vec = row[gemeinsame_celltypen].values.astype(float)\n",
    "            rna_vec = RNA.loc[gene, gemeinsame_celltypen].values.astype(float)\n",
    "            if not (np.isnan(atac_vec).any() or np.isnan(rna_vec).any()):\n",
    "                r, p = scipy.stats.pearsonr(atac_vec, rna_vec)\n",
    "                results.append({'peak_id': idx, 'gene': gene, 'r': r, 'p': p})\n",
    "    print(f\"Anzahl berechnete Korrelationen: {len(results)}\")\n",
    "    return pd.DataFrame(results)"
   ]
  },
  {
   "cell_type": "code",
   "execution_count": 8,
   "id": "eb49e411",
   "metadata": {},
   "outputs": [
    {
     "ename": "KeyError",
     "evalue": "'distance_to_TSS'",
     "output_type": "error",
     "traceback": [
      "\u001b[31m---------------------------------------------------------------------------\u001b[39m",
      "\u001b[31mKeyError\u001b[39m                                  Traceback (most recent call last)",
      "\u001b[36mFile \u001b[39m\u001b[32md:\\Uni\\4. Semester\\Bioinfo\\abT-gdT-cells-Team3\\abT-gdT-cells-Team3\\.venv\\Lib\\site-packages\\pandas\\core\\indexes\\base.py:3805\u001b[39m, in \u001b[36mIndex.get_loc\u001b[39m\u001b[34m(self, key)\u001b[39m\n\u001b[32m   3804\u001b[39m \u001b[38;5;28;01mtry\u001b[39;00m:\n\u001b[32m-> \u001b[39m\u001b[32m3805\u001b[39m     \u001b[38;5;28;01mreturn\u001b[39;00m \u001b[38;5;28;43mself\u001b[39;49m\u001b[43m.\u001b[49m\u001b[43m_engine\u001b[49m\u001b[43m.\u001b[49m\u001b[43mget_loc\u001b[49m\u001b[43m(\u001b[49m\u001b[43mcasted_key\u001b[49m\u001b[43m)\u001b[49m\n\u001b[32m   3806\u001b[39m \u001b[38;5;28;01mexcept\u001b[39;00m \u001b[38;5;167;01mKeyError\u001b[39;00m \u001b[38;5;28;01mas\u001b[39;00m err:\n",
      "\u001b[36mFile \u001b[39m\u001b[32mindex.pyx:167\u001b[39m, in \u001b[36mpandas._libs.index.IndexEngine.get_loc\u001b[39m\u001b[34m()\u001b[39m\n",
      "\u001b[36mFile \u001b[39m\u001b[32mindex.pyx:196\u001b[39m, in \u001b[36mpandas._libs.index.IndexEngine.get_loc\u001b[39m\u001b[34m()\u001b[39m\n",
      "\u001b[36mFile \u001b[39m\u001b[32mpandas\\\\_libs\\\\hashtable_class_helper.pxi:7081\u001b[39m, in \u001b[36mpandas._libs.hashtable.PyObjectHashTable.get_item\u001b[39m\u001b[34m()\u001b[39m\n",
      "\u001b[36mFile \u001b[39m\u001b[32mpandas\\\\_libs\\\\hashtable_class_helper.pxi:7089\u001b[39m, in \u001b[36mpandas._libs.hashtable.PyObjectHashTable.get_item\u001b[39m\u001b[34m()\u001b[39m\n",
      "\u001b[31mKeyError\u001b[39m: 'distance_to_TSS'",
      "\nThe above exception was the direct cause of the following exception:\n",
      "\u001b[31mKeyError\u001b[39m                                  Traceback (most recent call last)",
      "\u001b[36mCell\u001b[39m\u001b[36m \u001b[39m\u001b[32mIn[8]\u001b[39m\u001b[32m, line 1\u001b[39m\n\u001b[32m----> \u001b[39m\u001b[32m1\u001b[39m \u001b[38;5;28mprint\u001b[39m(\u001b[43mATAC\u001b[49m\u001b[43m[\u001b[49m\u001b[33;43m'\u001b[39;49m\u001b[33;43mdistance_to_TSS\u001b[39;49m\u001b[33;43m'\u001b[39;49m\u001b[43m]\u001b[49m)\n",
      "\u001b[36mFile \u001b[39m\u001b[32md:\\Uni\\4. Semester\\Bioinfo\\abT-gdT-cells-Team3\\abT-gdT-cells-Team3\\.venv\\Lib\\site-packages\\pandas\\core\\frame.py:4102\u001b[39m, in \u001b[36mDataFrame.__getitem__\u001b[39m\u001b[34m(self, key)\u001b[39m\n\u001b[32m   4100\u001b[39m \u001b[38;5;28;01mif\u001b[39;00m \u001b[38;5;28mself\u001b[39m.columns.nlevels > \u001b[32m1\u001b[39m:\n\u001b[32m   4101\u001b[39m     \u001b[38;5;28;01mreturn\u001b[39;00m \u001b[38;5;28mself\u001b[39m._getitem_multilevel(key)\n\u001b[32m-> \u001b[39m\u001b[32m4102\u001b[39m indexer = \u001b[38;5;28;43mself\u001b[39;49m\u001b[43m.\u001b[49m\u001b[43mcolumns\u001b[49m\u001b[43m.\u001b[49m\u001b[43mget_loc\u001b[49m\u001b[43m(\u001b[49m\u001b[43mkey\u001b[49m\u001b[43m)\u001b[49m\n\u001b[32m   4103\u001b[39m \u001b[38;5;28;01mif\u001b[39;00m is_integer(indexer):\n\u001b[32m   4104\u001b[39m     indexer = [indexer]\n",
      "\u001b[36mFile \u001b[39m\u001b[32md:\\Uni\\4. Semester\\Bioinfo\\abT-gdT-cells-Team3\\abT-gdT-cells-Team3\\.venv\\Lib\\site-packages\\pandas\\core\\indexes\\base.py:3812\u001b[39m, in \u001b[36mIndex.get_loc\u001b[39m\u001b[34m(self, key)\u001b[39m\n\u001b[32m   3807\u001b[39m     \u001b[38;5;28;01mif\u001b[39;00m \u001b[38;5;28misinstance\u001b[39m(casted_key, \u001b[38;5;28mslice\u001b[39m) \u001b[38;5;129;01mor\u001b[39;00m (\n\u001b[32m   3808\u001b[39m         \u001b[38;5;28misinstance\u001b[39m(casted_key, abc.Iterable)\n\u001b[32m   3809\u001b[39m         \u001b[38;5;129;01mand\u001b[39;00m \u001b[38;5;28many\u001b[39m(\u001b[38;5;28misinstance\u001b[39m(x, \u001b[38;5;28mslice\u001b[39m) \u001b[38;5;28;01mfor\u001b[39;00m x \u001b[38;5;129;01min\u001b[39;00m casted_key)\n\u001b[32m   3810\u001b[39m     ):\n\u001b[32m   3811\u001b[39m         \u001b[38;5;28;01mraise\u001b[39;00m InvalidIndexError(key)\n\u001b[32m-> \u001b[39m\u001b[32m3812\u001b[39m     \u001b[38;5;28;01mraise\u001b[39;00m \u001b[38;5;167;01mKeyError\u001b[39;00m(key) \u001b[38;5;28;01mfrom\u001b[39;00m\u001b[38;5;250m \u001b[39m\u001b[34;01merr\u001b[39;00m\n\u001b[32m   3813\u001b[39m \u001b[38;5;28;01mexcept\u001b[39;00m \u001b[38;5;167;01mTypeError\u001b[39;00m:\n\u001b[32m   3814\u001b[39m     \u001b[38;5;66;03m# If we have a listlike key, _check_indexing_error will raise\u001b[39;00m\n\u001b[32m   3815\u001b[39m     \u001b[38;5;66;03m#  InvalidIndexError. Otherwise we fall through and re-raise\u001b[39;00m\n\u001b[32m   3816\u001b[39m     \u001b[38;5;66;03m#  the TypeError.\u001b[39;00m\n\u001b[32m   3817\u001b[39m     \u001b[38;5;28mself\u001b[39m._check_indexing_error(key)\n",
      "\u001b[31mKeyError\u001b[39m: 'distance_to_TSS'"
     ]
    }
   ],
   "source": [
    "print(ATAC['distance_to_TSS'])"
   ]
  },
  {
   "cell_type": "code",
   "execution_count": 7,
   "id": "7feefc9c",
   "metadata": {},
   "outputs": [
    {
     "name": "stdout",
     "output_type": "stream",
     "text": [
      "Gemeinsame Celltypen (85): ['LTHSC.34-.BM', 'LTHSC.34+.BM', 'STHSC.150-.BM', 'MPP4.135+.BM', 'proB.CLP.BM', 'proB.FrA.BM', 'proB.FrBC.BM', 'B.FrE.BM', 'B1b.PC', 'B.T1.Sp', 'B.T2.Sp', 'B.T3.Sp', 'B.Sp', 'B.Fem.Sp', 'B.MZ.Sp', 'B.Fo.Sp', 'B.mem.Sp', 'B.GC.CB.Sp', 'B.GC.CC.Sp', 'B.PB.Sp', 'B.PC.Sp', 'B.PC.BM', 'preT.DN1.Th', 'preT.DN2a.Th', 'preT.DN2b.Th', 'preT.DN3.Th', 'T.DN4.Th', 'T.ISP.Th', 'T.DP.Th', 'T.4.Th', 'T.8.Th', 'T.4.Nve.Sp', 'T.4.Nve.Fem.Sp', 'T.8.Nve.Sp', 'T.4.Sp.aCD3+CD40.18hr', 'Treg.4.FP3+.Nrplo.Co', 'Treg.4.25hi.Sp', 'T8.TN.P14.Sp', 'T8.TE.LCMV.d7.Sp', 'T8.MP.LCMV.d7.Sp', 'T8.Tcm.LCMV.d180.Sp', 'T8.Tem.LCMV.d180.Sp', 'NKT.Sp', 'NKT.Sp.LPS.3hr', 'NKT.Sp.LPS.18hr', 'NKT.Sp.LPS.3d', 'Tgd.g2+d17.24a+.Th', 'Tgd.g2+d17.LN', 'Tgd.g2+d1.24a+.Th', 'Tgd.g2+d1.LN', 'Tgd.g1.1+d1.24a+.Th', 'Tgd.g1.1+d1.LN', 'Tgd.Sp', 'NK.27+11b-.BM', 'NK.27+11b+.BM', 'NK.27-11b+.BM', 'NK.27+11b-.Sp', 'NK.27+11b+.Sp', 'NK.27-11b+.Sp', 'ILC2.SI', 'ILC3.NKp46-CCR6-.SI', 'ILC3.NKp46+.SI', 'ILC3.CCR6+.SI', 'MPP3.48+.BM', 'GN.BM', 'GN.Sp', 'GN.Thio.PC', 'Mo.6C+II-.Bl', 'Mo.6C-II-.Bl', 'MF.pIC.Alv.Lu', 'MF.226+II+480lo.PC', 'MF.ICAM+480hi.PC', 'MF.RP.Sp', 'MF.Alv.Lu', 'MF.microglia.CNS', 'MF.PC', 'MF.Fem.PC', 'DC.4+.Sp', 'DC.8+.Sp', 'DC.pDC.Sp', 'FRC.SLN', 'IAP.SLN', 'BEC.SLN', 'LEC.SLN', 'Ep.MEChi.Th']\n",
      "Anzahl berechnete Korrelationen: 326\n",
      "Index(['peak_id', 'gene', 'r', 'p'], dtype='object')\n",
      "0        ImmGenATAC1219.peak_1294\n",
      "1       ImmGenATAC1219.peak_10185\n",
      "2       ImmGenATAC1219.peak_12574\n",
      "3       ImmGenATAC1219.peak_13422\n",
      "4       ImmGenATAC1219.peak_13423\n",
      "                  ...            \n",
      "321    ImmGenATAC1219.peak_497401\n",
      "322    ImmGenATAC1219.peak_498323\n",
      "323    ImmGenATAC1219.peak_499404\n",
      "324    ImmGenATAC1219.peak_501153\n",
      "325    ImmGenATAC1219.peak_501346\n",
      "Name: peak_id, Length: 326, dtype: object\n"
     ]
    }
   ],
   "source": [
    "cor_df = correlate_promoter_atac_rna(ATAC_dis[ATAC_dis.index.isin(ATAC_top)], RNA, ATAC_scores)\n",
    "print(cor_df.columns)\n",
    "print(cor_df['peak_id'])"
   ]
  },
  {
   "cell_type": "code",
   "execution_count": 10,
   "id": "54d3def3",
   "metadata": {},
   "outputs": [],
   "source": [
    "gene_df=exons.copy()\n",
    "gene_df['TSS'] = np.where(gene_df['Strand'] == '+', gene_df['Transcription Start'], gene_df['Transcription End'])"
   ]
  },
  {
   "cell_type": "code",
   "execution_count": 3,
   "id": "a118f563",
   "metadata": {},
   "outputs": [
    {
     "ename": "KeyError",
     "evalue": "'ImmGenATAC1219.peakID'",
     "output_type": "error",
     "traceback": [
      "\u001b[31m---------------------------------------------------------------------------\u001b[39m",
      "\u001b[31mKeyError\u001b[39m                                  Traceback (most recent call last)",
      "\u001b[36mFile \u001b[39m\u001b[32md:\\Uni\\4. Semester\\Bioinfo\\abT-gdT-cells-Team3\\abT-gdT-cells-Team3\\.venv\\Lib\\site-packages\\pandas\\core\\indexes\\base.py:3805\u001b[39m, in \u001b[36mIndex.get_loc\u001b[39m\u001b[34m(self, key)\u001b[39m\n\u001b[32m   3804\u001b[39m \u001b[38;5;28;01mtry\u001b[39;00m:\n\u001b[32m-> \u001b[39m\u001b[32m3805\u001b[39m     \u001b[38;5;28;01mreturn\u001b[39;00m \u001b[38;5;28;43mself\u001b[39;49m\u001b[43m.\u001b[49m\u001b[43m_engine\u001b[49m\u001b[43m.\u001b[49m\u001b[43mget_loc\u001b[49m\u001b[43m(\u001b[49m\u001b[43mcasted_key\u001b[49m\u001b[43m)\u001b[49m\n\u001b[32m   3806\u001b[39m \u001b[38;5;28;01mexcept\u001b[39;00m \u001b[38;5;167;01mKeyError\u001b[39;00m \u001b[38;5;28;01mas\u001b[39;00m err:\n",
      "\u001b[36mFile \u001b[39m\u001b[32mindex.pyx:167\u001b[39m, in \u001b[36mpandas._libs.index.IndexEngine.get_loc\u001b[39m\u001b[34m()\u001b[39m\n",
      "\u001b[36mFile \u001b[39m\u001b[32mindex.pyx:196\u001b[39m, in \u001b[36mpandas._libs.index.IndexEngine.get_loc\u001b[39m\u001b[34m()\u001b[39m\n",
      "\u001b[36mFile \u001b[39m\u001b[32mpandas\\\\_libs\\\\hashtable_class_helper.pxi:7081\u001b[39m, in \u001b[36mpandas._libs.hashtable.PyObjectHashTable.get_item\u001b[39m\u001b[34m()\u001b[39m\n",
      "\u001b[36mFile \u001b[39m\u001b[32mpandas\\\\_libs\\\\hashtable_class_helper.pxi:7089\u001b[39m, in \u001b[36mpandas._libs.hashtable.PyObjectHashTable.get_item\u001b[39m\u001b[34m()\u001b[39m\n",
      "\u001b[31mKeyError\u001b[39m: 'ImmGenATAC1219.peakID'",
      "\nThe above exception was the direct cause of the following exception:\n",
      "\u001b[31mKeyError\u001b[39m                                  Traceback (most recent call last)",
      "\u001b[36mCell\u001b[39m\u001b[36m \u001b[39m\u001b[32mIn[3]\u001b[39m\u001b[32m, line 34\u001b[39m\n\u001b[32m     30\u001b[39m             tss = gene_row.iloc[\u001b[32m0\u001b[39m][\u001b[33m'\u001b[39m\u001b[33mTranscription End\u001b[39m\u001b[33m'\u001b[39m]\n\u001b[32m     31\u001b[39m             distance = tss - peak_summit\n\u001b[32m     33\u001b[39m         results.append({\n\u001b[32m---> \u001b[39m\u001b[32m34\u001b[39m             \u001b[33m'\u001b[39m\u001b[33mpeak_id\u001b[39m\u001b[33m'\u001b[39m: \u001b[43mpeak\u001b[49m\u001b[43m[\u001b[49m\u001b[33;43m'\u001b[39;49m\u001b[33;43mImmGenATAC1219.peakID\u001b[39;49m\u001b[33;43m'\u001b[39;49m\u001b[43m]\u001b[49m,\n\u001b[32m     35\u001b[39m             \u001b[33m'\u001b[39m\u001b[33mchrom\u001b[39m\u001b[33m'\u001b[39m: peak_chr,\n\u001b[32m     36\u001b[39m             \u001b[33m'\u001b[39m\u001b[33mgene\u001b[39m\u001b[33m'\u001b[39m: gene,\n\u001b[32m     37\u001b[39m             \u001b[33m'\u001b[39m\u001b[33mstrand\u001b[39m\u001b[33m'\u001b[39m: strand,\n\u001b[32m     38\u001b[39m             \u001b[33m'\u001b[39m\u001b[33msummit\u001b[39m\u001b[33m'\u001b[39m: peak_summit,\n\u001b[32m     39\u001b[39m             \u001b[33m'\u001b[39m\u001b[33mtss\u001b[39m\u001b[33m'\u001b[39m: tss,\n\u001b[32m     40\u001b[39m             \u001b[33m'\u001b[39m\u001b[33mdistance_to_TSS\u001b[39m\u001b[33m'\u001b[39m: distance,\n\u001b[32m     41\u001b[39m             \u001b[33m'\u001b[39m\u001b[33mabs_distance\u001b[39m\u001b[33m'\u001b[39m: \u001b[38;5;28mabs\u001b[39m(distance)\n\u001b[32m     42\u001b[39m         })\n\u001b[32m     44\u001b[39m \u001b[38;5;66;03m# Umwandeln in DataFrame\u001b[39;00m\n\u001b[32m     45\u001b[39m dist_df = pd.DataFrame(results)\n",
      "\u001b[36mFile \u001b[39m\u001b[32md:\\Uni\\4. Semester\\Bioinfo\\abT-gdT-cells-Team3\\abT-gdT-cells-Team3\\.venv\\Lib\\site-packages\\pandas\\core\\series.py:1121\u001b[39m, in \u001b[36mSeries.__getitem__\u001b[39m\u001b[34m(self, key)\u001b[39m\n\u001b[32m   1118\u001b[39m     \u001b[38;5;28;01mreturn\u001b[39;00m \u001b[38;5;28mself\u001b[39m._values[key]\n\u001b[32m   1120\u001b[39m \u001b[38;5;28;01melif\u001b[39;00m key_is_scalar:\n\u001b[32m-> \u001b[39m\u001b[32m1121\u001b[39m     \u001b[38;5;28;01mreturn\u001b[39;00m \u001b[38;5;28;43mself\u001b[39;49m\u001b[43m.\u001b[49m\u001b[43m_get_value\u001b[49m\u001b[43m(\u001b[49m\u001b[43mkey\u001b[49m\u001b[43m)\u001b[49m\n\u001b[32m   1123\u001b[39m \u001b[38;5;66;03m# Convert generator to list before going through hashable part\u001b[39;00m\n\u001b[32m   1124\u001b[39m \u001b[38;5;66;03m# (We will iterate through the generator there to check for slices)\u001b[39;00m\n\u001b[32m   1125\u001b[39m \u001b[38;5;28;01mif\u001b[39;00m is_iterator(key):\n",
      "\u001b[36mFile \u001b[39m\u001b[32md:\\Uni\\4. Semester\\Bioinfo\\abT-gdT-cells-Team3\\abT-gdT-cells-Team3\\.venv\\Lib\\site-packages\\pandas\\core\\series.py:1237\u001b[39m, in \u001b[36mSeries._get_value\u001b[39m\u001b[34m(self, label, takeable)\u001b[39m\n\u001b[32m   1234\u001b[39m     \u001b[38;5;28;01mreturn\u001b[39;00m \u001b[38;5;28mself\u001b[39m._values[label]\n\u001b[32m   1236\u001b[39m \u001b[38;5;66;03m# Similar to Index.get_value, but we do not fall back to positional\u001b[39;00m\n\u001b[32m-> \u001b[39m\u001b[32m1237\u001b[39m loc = \u001b[38;5;28;43mself\u001b[39;49m\u001b[43m.\u001b[49m\u001b[43mindex\u001b[49m\u001b[43m.\u001b[49m\u001b[43mget_loc\u001b[49m\u001b[43m(\u001b[49m\u001b[43mlabel\u001b[49m\u001b[43m)\u001b[49m\n\u001b[32m   1239\u001b[39m \u001b[38;5;28;01mif\u001b[39;00m is_integer(loc):\n\u001b[32m   1240\u001b[39m     \u001b[38;5;28;01mreturn\u001b[39;00m \u001b[38;5;28mself\u001b[39m._values[loc]\n",
      "\u001b[36mFile \u001b[39m\u001b[32md:\\Uni\\4. Semester\\Bioinfo\\abT-gdT-cells-Team3\\abT-gdT-cells-Team3\\.venv\\Lib\\site-packages\\pandas\\core\\indexes\\base.py:3812\u001b[39m, in \u001b[36mIndex.get_loc\u001b[39m\u001b[34m(self, key)\u001b[39m\n\u001b[32m   3807\u001b[39m     \u001b[38;5;28;01mif\u001b[39;00m \u001b[38;5;28misinstance\u001b[39m(casted_key, \u001b[38;5;28mslice\u001b[39m) \u001b[38;5;129;01mor\u001b[39;00m (\n\u001b[32m   3808\u001b[39m         \u001b[38;5;28misinstance\u001b[39m(casted_key, abc.Iterable)\n\u001b[32m   3809\u001b[39m         \u001b[38;5;129;01mand\u001b[39;00m \u001b[38;5;28many\u001b[39m(\u001b[38;5;28misinstance\u001b[39m(x, \u001b[38;5;28mslice\u001b[39m) \u001b[38;5;28;01mfor\u001b[39;00m x \u001b[38;5;129;01min\u001b[39;00m casted_key)\n\u001b[32m   3810\u001b[39m     ):\n\u001b[32m   3811\u001b[39m         \u001b[38;5;28;01mraise\u001b[39;00m InvalidIndexError(key)\n\u001b[32m-> \u001b[39m\u001b[32m3812\u001b[39m     \u001b[38;5;28;01mraise\u001b[39;00m \u001b[38;5;167;01mKeyError\u001b[39;00m(key) \u001b[38;5;28;01mfrom\u001b[39;00m\u001b[38;5;250m \u001b[39m\u001b[34;01merr\u001b[39;00m\n\u001b[32m   3813\u001b[39m \u001b[38;5;28;01mexcept\u001b[39;00m \u001b[38;5;167;01mTypeError\u001b[39;00m:\n\u001b[32m   3814\u001b[39m     \u001b[38;5;66;03m# If we have a listlike key, _check_indexing_error will raise\u001b[39;00m\n\u001b[32m   3815\u001b[39m     \u001b[38;5;66;03m#  InvalidIndexError. Otherwise we fall through and re-raise\u001b[39;00m\n\u001b[32m   3816\u001b[39m     \u001b[38;5;66;03m#  the TypeError.\u001b[39;00m\n\u001b[32m   3817\u001b[39m     \u001b[38;5;28mself\u001b[39m._check_indexing_error(key)\n",
      "\u001b[31mKeyError\u001b[39m: 'ImmGenATAC1219.peakID'"
     ]
    }
   ],
   "source": [
    "import pandas as pd\n",
    "\n",
    "# Beispiel: du hast exons.csv und atac.csv eingelesen\n",
    "# exons = pd.read_csv(\"exons.csv\")\n",
    "# ATAC = pd.read_csv(\"atac.csv\")\n",
    "\n",
    "results = []\n",
    "\n",
    "for i, peak in ATAC.iterrows():\n",
    "    peak_chr = peak['chrom']\n",
    "    peak_summit = peak['Summit']\n",
    "    \n",
    "    # Falls mehrere Gene in einem Feld mit Komma getrennt sind\n",
    "    genes = str(peak['genes.within.100Kb']).split(',')\n",
    "    \n",
    "    for gene in genes:\n",
    "        gene = gene.strip()\n",
    "        gene_row = exons[(exons['Genname'] == gene) & (exons['Chromosom'] == peak_chr)]\n",
    "        \n",
    "        if gene_row.empty:\n",
    "            continue\n",
    "        \n",
    "        strand = gene_row.iloc[0]['Strand']\n",
    "        \n",
    "        # TSS je nach Strang\n",
    "        if strand == '+':\n",
    "            tss = gene_row.iloc[0]['Transcription Start']\n",
    "            distance = peak_summit - tss\n",
    "        else:\n",
    "            tss = gene_row.iloc[0]['Transcription End']\n",
    "            distance = tss - peak_summit\n",
    "        \n",
    "        results.append({\n",
    "            'peak_id': peak['ImmGenATAC1219.peakID'],\n",
    "            'chrom': peak_chr,\n",
    "            'gene': gene,\n",
    "            'strand': strand,\n",
    "            'summit': peak_summit,\n",
    "            'tss': tss,\n",
    "            'distance_to_TSS': distance,\n",
    "            'abs_distance': abs(distance)\n",
    "        })\n",
    "\n",
    "# Umwandeln in DataFrame\n",
    "dist_df = pd.DataFrame(results)\n",
    "\n",
    "# Beispiel: nächstgelegene CRE pro Gen\n",
    "closest_CRE_per_gene = dist_df.sort_values(by='abs_distance').groupby('gene').first().reset_index()\n",
    "\n",
    "# Anzeigen\n",
    "print(closest_CRE_per_gene.head())"
   ]
  },
  {
   "cell_type": "code",
   "execution_count": 8,
   "id": "4f6166a3",
   "metadata": {},
   "outputs": [
    {
     "ename": "KeyError",
     "evalue": "'peak_id'",
     "output_type": "error",
     "traceback": [
      "\u001b[31m---------------------------------------------------------------------------\u001b[39m",
      "\u001b[31mKeyError\u001b[39m                                  Traceback (most recent call last)",
      "\u001b[36mFile \u001b[39m\u001b[32md:\\Uni\\4. Semester\\Bioinfo\\abT-gdT-cells-Team3\\abT-gdT-cells-Team3\\.venv\\Lib\\site-packages\\pandas\\core\\indexes\\base.py:3805\u001b[39m, in \u001b[36mIndex.get_loc\u001b[39m\u001b[34m(self, key)\u001b[39m\n\u001b[32m   3804\u001b[39m \u001b[38;5;28;01mtry\u001b[39;00m:\n\u001b[32m-> \u001b[39m\u001b[32m3805\u001b[39m     \u001b[38;5;28;01mreturn\u001b[39;00m \u001b[38;5;28;43mself\u001b[39;49m\u001b[43m.\u001b[49m\u001b[43m_engine\u001b[49m\u001b[43m.\u001b[49m\u001b[43mget_loc\u001b[49m\u001b[43m(\u001b[49m\u001b[43mcasted_key\u001b[49m\u001b[43m)\u001b[49m\n\u001b[32m   3806\u001b[39m \u001b[38;5;28;01mexcept\u001b[39;00m \u001b[38;5;167;01mKeyError\u001b[39;00m \u001b[38;5;28;01mas\u001b[39;00m err:\n",
      "\u001b[36mFile \u001b[39m\u001b[32mindex.pyx:167\u001b[39m, in \u001b[36mpandas._libs.index.IndexEngine.get_loc\u001b[39m\u001b[34m()\u001b[39m\n",
      "\u001b[36mFile \u001b[39m\u001b[32mindex.pyx:196\u001b[39m, in \u001b[36mpandas._libs.index.IndexEngine.get_loc\u001b[39m\u001b[34m()\u001b[39m\n",
      "\u001b[36mFile \u001b[39m\u001b[32mpandas\\\\_libs\\\\hashtable_class_helper.pxi:7081\u001b[39m, in \u001b[36mpandas._libs.hashtable.PyObjectHashTable.get_item\u001b[39m\u001b[34m()\u001b[39m\n",
      "\u001b[36mFile \u001b[39m\u001b[32mpandas\\\\_libs\\\\hashtable_class_helper.pxi:7089\u001b[39m, in \u001b[36mpandas._libs.hashtable.PyObjectHashTable.get_item\u001b[39m\u001b[34m()\u001b[39m\n",
      "\u001b[31mKeyError\u001b[39m: 'peak_id'",
      "\nThe above exception was the direct cause of the following exception:\n",
      "\u001b[31mKeyError\u001b[39m                                  Traceback (most recent call last)",
      "\u001b[36mCell\u001b[39m\u001b[36m \u001b[39m\u001b[32mIn[8]\u001b[39m\u001b[32m, line 20\u001b[39m\n\u001b[32m     17\u001b[39m         tss = row[\u001b[33m'\u001b[39m\u001b[33mTranscription Start\u001b[39m\u001b[33m'\u001b[39m] \u001b[38;5;28;01mif\u001b[39;00m strand == \u001b[33m'\u001b[39m\u001b[33m+\u001b[39m\u001b[33m'\u001b[39m \u001b[38;5;28;01melse\u001b[39;00m row[\u001b[33m'\u001b[39m\u001b[33mTranscription End\u001b[39m\u001b[33m'\u001b[39m]\n\u001b[32m     18\u001b[39m         distance = summit - tss \u001b[38;5;28;01mif\u001b[39;00m strand == \u001b[33m'\u001b[39m\u001b[33m+\u001b[39m\u001b[33m'\u001b[39m \u001b[38;5;28;01melse\u001b[39;00m tss - summit\n\u001b[32m     19\u001b[39m         results.append({\n\u001b[32m---> \u001b[39m\u001b[32m20\u001b[39m             \u001b[33m'\u001b[39m\u001b[33mpeak_id\u001b[39m\u001b[33m'\u001b[39m: \u001b[43mpeak\u001b[49m\u001b[43m[\u001b[49m\u001b[33;43m'\u001b[39;49m\u001b[33;43mpeak_id\u001b[39;49m\u001b[33;43m'\u001b[39;49m\u001b[43m]\u001b[49m,\n\u001b[32m     21\u001b[39m             \u001b[33m'\u001b[39m\u001b[33mgene\u001b[39m\u001b[33m'\u001b[39m: gene,\n\u001b[32m     22\u001b[39m             \u001b[33m'\u001b[39m\u001b[33mchrom\u001b[39m\u001b[33m'\u001b[39m: chrom,\n\u001b[32m     23\u001b[39m             \u001b[33m'\u001b[39m\u001b[33mstrand\u001b[39m\u001b[33m'\u001b[39m: strand,\n\u001b[32m     24\u001b[39m             \u001b[33m'\u001b[39m\u001b[33msummit\u001b[39m\u001b[33m'\u001b[39m: summit,\n\u001b[32m     25\u001b[39m             \u001b[33m'\u001b[39m\u001b[33mtss\u001b[39m\u001b[33m'\u001b[39m: tss,\n\u001b[32m     26\u001b[39m             \u001b[33m'\u001b[39m\u001b[33mdistance_to_TSS\u001b[39m\u001b[33m'\u001b[39m: distance,\n\u001b[32m     27\u001b[39m             \u001b[33m'\u001b[39m\u001b[33mabs_distance\u001b[39m\u001b[33m'\u001b[39m: \u001b[38;5;28mabs\u001b[39m(distance)\n\u001b[32m     28\u001b[39m \n\u001b[32m     29\u001b[39m         })\n\u001b[32m     30\u001b[39m distance_df = pd.DataFrame(results)\n",
      "\u001b[36mFile \u001b[39m\u001b[32md:\\Uni\\4. Semester\\Bioinfo\\abT-gdT-cells-Team3\\abT-gdT-cells-Team3\\.venv\\Lib\\site-packages\\pandas\\core\\series.py:1121\u001b[39m, in \u001b[36mSeries.__getitem__\u001b[39m\u001b[34m(self, key)\u001b[39m\n\u001b[32m   1118\u001b[39m     \u001b[38;5;28;01mreturn\u001b[39;00m \u001b[38;5;28mself\u001b[39m._values[key]\n\u001b[32m   1120\u001b[39m \u001b[38;5;28;01melif\u001b[39;00m key_is_scalar:\n\u001b[32m-> \u001b[39m\u001b[32m1121\u001b[39m     \u001b[38;5;28;01mreturn\u001b[39;00m \u001b[38;5;28;43mself\u001b[39;49m\u001b[43m.\u001b[49m\u001b[43m_get_value\u001b[49m\u001b[43m(\u001b[49m\u001b[43mkey\u001b[49m\u001b[43m)\u001b[49m\n\u001b[32m   1123\u001b[39m \u001b[38;5;66;03m# Convert generator to list before going through hashable part\u001b[39;00m\n\u001b[32m   1124\u001b[39m \u001b[38;5;66;03m# (We will iterate through the generator there to check for slices)\u001b[39;00m\n\u001b[32m   1125\u001b[39m \u001b[38;5;28;01mif\u001b[39;00m is_iterator(key):\n",
      "\u001b[36mFile \u001b[39m\u001b[32md:\\Uni\\4. Semester\\Bioinfo\\abT-gdT-cells-Team3\\abT-gdT-cells-Team3\\.venv\\Lib\\site-packages\\pandas\\core\\series.py:1237\u001b[39m, in \u001b[36mSeries._get_value\u001b[39m\u001b[34m(self, label, takeable)\u001b[39m\n\u001b[32m   1234\u001b[39m     \u001b[38;5;28;01mreturn\u001b[39;00m \u001b[38;5;28mself\u001b[39m._values[label]\n\u001b[32m   1236\u001b[39m \u001b[38;5;66;03m# Similar to Index.get_value, but we do not fall back to positional\u001b[39;00m\n\u001b[32m-> \u001b[39m\u001b[32m1237\u001b[39m loc = \u001b[38;5;28;43mself\u001b[39;49m\u001b[43m.\u001b[49m\u001b[43mindex\u001b[49m\u001b[43m.\u001b[49m\u001b[43mget_loc\u001b[49m\u001b[43m(\u001b[49m\u001b[43mlabel\u001b[49m\u001b[43m)\u001b[49m\n\u001b[32m   1239\u001b[39m \u001b[38;5;28;01mif\u001b[39;00m is_integer(loc):\n\u001b[32m   1240\u001b[39m     \u001b[38;5;28;01mreturn\u001b[39;00m \u001b[38;5;28mself\u001b[39m._values[loc]\n",
      "\u001b[36mFile \u001b[39m\u001b[32md:\\Uni\\4. Semester\\Bioinfo\\abT-gdT-cells-Team3\\abT-gdT-cells-Team3\\.venv\\Lib\\site-packages\\pandas\\core\\indexes\\base.py:3812\u001b[39m, in \u001b[36mIndex.get_loc\u001b[39m\u001b[34m(self, key)\u001b[39m\n\u001b[32m   3807\u001b[39m     \u001b[38;5;28;01mif\u001b[39;00m \u001b[38;5;28misinstance\u001b[39m(casted_key, \u001b[38;5;28mslice\u001b[39m) \u001b[38;5;129;01mor\u001b[39;00m (\n\u001b[32m   3808\u001b[39m         \u001b[38;5;28misinstance\u001b[39m(casted_key, abc.Iterable)\n\u001b[32m   3809\u001b[39m         \u001b[38;5;129;01mand\u001b[39;00m \u001b[38;5;28many\u001b[39m(\u001b[38;5;28misinstance\u001b[39m(x, \u001b[38;5;28mslice\u001b[39m) \u001b[38;5;28;01mfor\u001b[39;00m x \u001b[38;5;129;01min\u001b[39;00m casted_key)\n\u001b[32m   3810\u001b[39m     ):\n\u001b[32m   3811\u001b[39m         \u001b[38;5;28;01mraise\u001b[39;00m InvalidIndexError(key)\n\u001b[32m-> \u001b[39m\u001b[32m3812\u001b[39m     \u001b[38;5;28;01mraise\u001b[39;00m \u001b[38;5;167;01mKeyError\u001b[39;00m(key) \u001b[38;5;28;01mfrom\u001b[39;00m\u001b[38;5;250m \u001b[39m\u001b[34;01merr\u001b[39;00m\n\u001b[32m   3813\u001b[39m \u001b[38;5;28;01mexcept\u001b[39;00m \u001b[38;5;167;01mTypeError\u001b[39;00m:\n\u001b[32m   3814\u001b[39m     \u001b[38;5;66;03m# If we have a listlike key, _check_indexing_error will raise\u001b[39;00m\n\u001b[32m   3815\u001b[39m     \u001b[38;5;66;03m#  InvalidIndexError. Otherwise we fall through and re-raise\u001b[39;00m\n\u001b[32m   3816\u001b[39m     \u001b[38;5;66;03m#  the TypeError.\u001b[39;00m\n\u001b[32m   3817\u001b[39m     \u001b[38;5;28mself\u001b[39m._check_indexing_error(key)\n",
      "\u001b[31mKeyError\u001b[39m: 'peak_id'"
     ]
    }
   ],
   "source": [
    "atac_df=ATAC.copy()\n",
    "results=[]\n",
    "for i, peak in atac_df.iterrows():\n",
    "    chrom = peak['chrom']\n",
    "    summit = peak['Summit']\n",
    "    genes = str(peak['genes.within.100Kb']).split(',')\n",
    "    for gene in genes:\n",
    "        gene = gene.strip()\n",
    "\n",
    "        match = exons[(exons['Genname'] == gene) & (exons['Chromosom'] == chrom)]\n",
    "            \n",
    "        if match.empty:\n",
    "            continue\n",
    "\n",
    "        row = match.iloc[0]\n",
    "        strand = row['Strand']\n",
    "        tss = row['Transcription Start'] if strand == '+' else row['Transcription End']\n",
    "        distance = summit - tss if strand == '+' else tss - summit\n",
    "        results.append({\n",
    "            'peak_id': peak['peak_id'],\n",
    "            'gene': gene,\n",
    "            'chrom': chrom,\n",
    "            'strand': strand,\n",
    "            'summit': summit,\n",
    "            'tss': tss,\n",
    "            'distance_to_TSS': distance,\n",
    "            'abs_distance': abs(distance)\n",
    "\n",
    "        })\n",
    "distance_df = pd.DataFrame(results)"
   ]
  }
 ],
 "metadata": {
  "kernelspec": {
   "display_name": ".venv",
   "language": "python",
   "name": "python3"
  },
  "language_info": {
   "codemirror_mode": {
    "name": "ipython",
    "version": 3
   },
   "file_extension": ".py",
   "mimetype": "text/x-python",
   "name": "python",
   "nbconvert_exporter": "python",
   "pygments_lexer": "ipython3",
   "version": "3.13.3"
  }
 },
 "nbformat": 4,
 "nbformat_minor": 5
}
