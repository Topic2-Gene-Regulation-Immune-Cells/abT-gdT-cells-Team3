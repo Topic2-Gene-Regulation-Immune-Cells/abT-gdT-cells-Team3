{
 "cells": [
  {
   "cell_type": "markdown",
   "metadata": {},
   "source": [
    "### Paths"
   ]
  },
  {
   "cell_type": "code",
   "execution_count": null,
   "metadata": {},
   "outputs": [],
   "source": [
    "# Kaja von Volkmann\n",
    "ATAC_seq_path = \"\"\n",
    "RNA_seq_path = \"\"\n",
    "Transcription_exons_path = \"\"\n",
    "Cell_population_qc_path = \"\"\n",
    "Voluntary_path = \"\""
   ]
  },
  {
   "cell_type": "code",
   "execution_count": null,
   "metadata": {},
   "outputs": [],
   "source": [
    "# Pia Kentschke\n",
    "ATAC_seq_path = \"/Users/piakentschke/Documents/Uni/Data Analysis/ImmGenATAC18_AllOCRsInfo.csv\"\n",
    "RNA_seq_path = \"/Users/piakentschke/Documents/Uni/Data Analysis/RNA-seq_data.csv\"\n",
    "Transcription_exons_path = \"/Users/piakentschke/Documents/Uni/Data Analysis/refFlat.txt\"\n",
    "Cell_population_qc_path = \"/Users/piakentschke/Documents/Uni/Data Analysis/mmc1.xlsx\"\n",
    "Voluntary_path = \"/Users/piakentschke/Documents/Uni/Data Analysis/ImmGenATAC18_AllTFmotifsInOCRs.txt\""
   ]
  },
  {
   "cell_type": "code",
   "execution_count": null,
   "metadata": {},
   "outputs": [],
   "source": [
    "# Helen Mennenoeh\n",
    "ATAC_seq_path = \"\"\n",
    "RNA_seq_path = \"\"\n",
    "Transcription_exons_path = \"\"\n",
    "Cell_population_qc_path = \"\"\n",
    "Voluntary_path = \"\""
   ]
  },
  {
   "cell_type": "code",
   "execution_count": null,
   "metadata": {},
   "outputs": [],
   "source": [
    "# Laila Frisius\n",
    "ATAC_seq_path = \"/Users/laila/github/bioinfo25/Raw_data/ATAC-seq_called-peaks_ImmGenATAC18_AllOCRsInfo.csv\"\n",
    "RNA_seq_path = \"/Users/laila/github/bioinfo25/Raw_data/RNA-seq_mmc2.csv\"\n",
    "Transcription_exons_path = \"/Users/laila/github/bioinfo25/Raw_data/Transkrips-exon_refFlat.txt\"\n",
    "Cell_population_qc_path = \"/Users/laila/github/bioinfo25/Raw_data/cell-populations_qc-matrices_mmc1.xlsx\"\n",
    "Voluntary_path = \"/Users/laila/github/bioinfo25/Raw_data/voluntary_ImmGenATAC18_AllTFmotifsInOCRs.txt\""
   ]
  },
  {
   "cell_type": "markdown",
   "metadata": {},
   "source": [
    "### Packages"
   ]
  },
  {
   "cell_type": "code",
   "execution_count": null,
   "metadata": {},
   "outputs": [],
   "source": [
    "# import of packages\n",
    "import pandas as pd\n",
    "import matplotlib.pyplot as plt\n",
    "import seaborn as sns\n",
    "import numpy as np\n",
    "import scipy.stats\n",
    "import sklearn.manifold as sklm\n",
    "import os"
   ]
  },
  {
   "cell_type": "markdown",
   "metadata": {},
   "source": [
    "### Data Sets"
   ]
  },
  {
   "cell_type": "code",
   "execution_count": null,
   "metadata": {},
   "outputs": [],
   "source": [
    "# Load data sets\n",
    "ATAC_seq = pd.read_csv(ATAC_seq_path, keep_default_na=False)\n",
    "RNA_seq = pd.read_csv(RNA_seq_path)\n",
    "Cell_population_qc = pd.read_excel(Cell_population_qc_path)\n",
    "\n",
    "# Create data subsets\n",
    "col_ATAC_seq_ab_act_gd_T = ['LTHSC.34-.BM', 'LTHSC.34+.BM', 'STHSC.150-.BM', 'MPP4.135+.BM','preT.DN1.Th', 'preT.DN2a.Th', 'preT.DN2b.Th',\n",
    "    'preT.DN3.Th', 'T.DN4.Th', 'T.ISP.Th', 'T.DP.Th', 'T.4.Th', 'T.8.Th',\n",
    "    'T.4.Nve.Sp', 'T.4.Nve.Fem.Sp', 'T.8.Nve.Sp', 'T.4.Sp.aCD3+CD40.18hr',\n",
    "    'Treg.4.FP3+.Nrplo.Co', 'Treg.4.25hi.Sp', 'T8.TN.P14.Sp',\n",
    "    'T8.IEL.LCMV.d7.SI', 'T8.TE.LCMV.d7.Sp', 'T8.MP.LCMV.d7.Sp',\n",
    "    'T8.Tcm.LCMV.d180.Sp', 'T8.Tem.LCMV.d180.Sp', 'NKT.Sp',\n",
    "    'NKT.Sp.LPS.3hr', 'NKT.Sp.LPS.18hr', 'NKT.Sp.LPS.3d',\n",
    "    'Tgd.g2+d17.24a+.Th', 'Tgd.g2+d17.LN', 'Tgd.g2+d1.24a+.Th',\n",
    "    'Tgd.g2+d1.LN', 'Tgd.g1.1+d1.24a+.Th', 'Tgd.g1.1+d1.LN', 'Tgd.Sp']\n",
    "\n",
    "col_ATAC_seq_ab_act_T = ['LTHSC.34-.BM', 'LTHSC.34+.BM', 'STHSC.150-.BM', 'MPP4.135+.BM','preT.DN1.Th', 'preT.DN2a.Th', 'preT.DN2b.Th',\n",
    "    'preT.DN3.Th', 'T.DN4.Th', 'T.ISP.Th', 'T.DP.Th', 'T.4.Th', 'T.8.Th',\n",
    "    'T.4.Nve.Sp', 'T.4.Nve.Fem.Sp', 'T.8.Nve.Sp', 'T.4.Sp.aCD3+CD40.18hr',\n",
    "    'Treg.4.FP3+.Nrplo.Co', 'Treg.4.25hi.Sp', 'T8.TN.P14.Sp',\n",
    "    'T8.IEL.LCMV.d7.SI', 'T8.TE.LCMV.d7.Sp', 'T8.MP.LCMV.d7.Sp',\n",
    "    'T8.Tcm.LCMV.d180.Sp', 'T8.Tem.LCMV.d180.Sp', 'NKT.Sp',\n",
    "    'NKT.Sp.LPS.3hr', 'NKT.Sp.LPS.18hr', 'NKT.Sp.LPS.3d']\n",
    "\n",
    "col_ATAC_seq_gd_T = ['LTHSC.34-.BM', 'LTHSC.34+.BM', 'STHSC.150-.BM', 'MPP4.135+.BM','Tgd.g2+d17.24a+.Th', 'Tgd.g2+d17.LN', 'Tgd.g2+d1.24a+.Th',\n",
    "    'Tgd.g2+d1.LN', 'Tgd.g1.1+d1.24a+.Th', 'Tgd.g1.1+d1.LN', 'Tgd.Sp']\n",
    "\n",
    "col_ATAC_seq_ab_T = ['LTHSC.34-.BM', 'LTHSC.34+.BM', 'STHSC.150-.BM', 'MPP4.135+.BM','preT.DN1.Th', 'preT.DN2a.Th', 'preT.DN2b.Th',\n",
    "    'preT.DN3.Th', 'T.DN4.Th', 'T.ISP.Th', 'T.DP.Th', 'T.4.Th', 'T.8.Th',\n",
    "    'T.4.Nve.Sp', 'T.4.Nve.Fem.Sp', 'T.8.Nve.Sp', 'T.4.Sp.aCD3+CD40.18hr',\n",
    "    'Treg.4.FP3+.Nrplo.Co', 'Treg.4.25hi.Sp']\n",
    "\n",
    "ATAC_seq_ab_act_gd_T = ATAC_seq[col_ATAC_seq_ab_act_gd_T]\n",
    "ATAC_seq_gd_T = ATAC_seq[col_ATAC_seq_gd_T]\n",
    "ATAC_seq_ab_act_T = ATAC_seq[col_ATAC_seq_ab_act_T]\n",
    "ATAC_seq_ab_T = ATAC_seq[col_ATAC_seq_ab_T]"
   ]
  },
  {
   "cell_type": "markdown",
   "metadata": {},
   "source": [
    "###"
   ]
  }
 ],
 "metadata": {
  "language_info": {
   "name": "python"
  }
 },
 "nbformat": 4,
 "nbformat_minor": 2
}
