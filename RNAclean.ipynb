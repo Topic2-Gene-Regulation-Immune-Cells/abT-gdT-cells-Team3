{
 "cells": [
  {
   "cell_type": "code",
   "execution_count": 2,
   "id": "bbbb421c",
   "metadata": {},
   "outputs": [],
   "source": [
    "import pandas as pd\n",
    "import numpy as np\n",
    "import matplotlib.pyplot as p\n",
    "import os"
   ]
  },
  {
   "cell_type": "markdown",
   "id": "0b104920",
   "metadata": {},
   "source": [
    " "
   ]
  },
  {
   "cell_type": "code",
   "execution_count": 3,
   "id": "1704e4f2",
   "metadata": {},
   "outputs": [],
   "source": [
    "data_folder = 'D:\\\\Uni\\\\4. Semester\\\\Bioinfo\\\\datasets'\n",
    "file_name = os.path.join (data_folder, 'processed rna seq data.xlsx')\n",
    "rna_data = pd.read_excel(file_name)\n",
    "#rna_data.head()"
   ]
  },
  {
   "cell_type": "code",
   "execution_count": 4,
   "id": "45817f4f",
   "metadata": {},
   "outputs": [
    {
     "name": "stdout",
     "output_type": "stream",
     "text": [
      "0\n",
      "0\n",
      "Series([], dtype: float64)\n",
      "Series([], dtype: float64)\n"
     ]
    }
   ],
   "source": [
    "print(rna_data.isna().sum().sum())\n",
    "print((rna_data.iloc[:, 1:] < 1).sum().sum())\n",
    "numerical_data=rna_data.iloc[:, 1:]\n",
    "#gesamtsumme berechnen\n",
    "sample_sums=numerical_data.sum(axis=0)\n",
    "low_sum_samples=sample_sums[sample_sums <= 100]\n",
    "print(low_sum_samples)\n",
    "#varianz berechnen\n",
    "sample_variance=numerical_data.var(axis=0)\n",
    "low_variance_samples=sample_variance[sample_variance <= 0.5]\n",
    "print(low_variance_samples)"
   ]
  },
  {
   "cell_type": "markdown",
   "id": "63e0a101",
   "metadata": {},
   "source": [
    "die analyse hat ergeben:  \n",
    "keine NAs  \n",
    "keine Werte unter 1  \n",
    "keine Spalte mit gesamtsumme <= 100  \n",
    "keine spalte mit varianz <= 0.5"
   ]
  },
  {
   "cell_type": "markdown",
   "id": "dbf2307b",
   "metadata": {},
   "source": [
    "### log 2 transformation"
   ]
  },
  {
   "cell_type": "code",
   "execution_count": 5,
   "id": "82e033cb",
   "metadata": {},
   "outputs": [],
   "source": [
    "rna_data_log2=rna_data.copy()\n",
    "rna_data_log2.iloc[:, 1:]=np.log2(rna_data.iloc[:, 1:])"
   ]
  },
  {
   "cell_type": "markdown",
   "id": "abfb9d9e",
   "metadata": {},
   "source": [
    "### PCA"
   ]
  },
  {
   "cell_type": "code",
   "execution_count": null,
   "id": "d41b4d40",
   "metadata": {},
   "outputs": [],
   "source": [
    "#ohne gennamen\n",
    "data=rna_data_log2.iloc[:, 1:]\n",
    "#auswahl der 1000 variablesten gene\n",
    "variances=data.var(axis=1)\n",
    "top_genes=variances.nlargest(1000).index\n",
    "#transponieren\n",
    "data_T=data.T\n",
    "#mittelwertzentrierung?\n",
    "data_centered=data_T-data_T.mean(axis=0)\n",
    "# matrix mit Kovarianz\n",
    "cov_matrix=np.cov(data_centered, rowvar=False)\n",
    "# Eigenwerte und Eigenvektoren\n",
    "eig_vals, eig_vecs=np.linalg.eigh(cov_matrix)\n",
    "# ansteigend sortieren\n",
    "sorted_idx=np.argsort(eig_vals)[::-1]\n",
    "eig_vals=eig_vals[sorted_idx]\n",
    "eig_vecs=eig_vecs[:, sorted_idx]\n",
    "#ersten zwei PCs\n",
    "pc1=data_centered @ eig_vecs[:, 0]\n",
    "pc2=data_centered @ eig_vecs[:, 1]\n",
    "#plot\n",
    "plt.figure(figsize=(8, 6))\n",
    "plt.scatter(pc1, pc2)\n",
    "#achsen labeln\n",
    "for i, sample in enumerate(data_T.index):\n",
    "    plt.text(pc1[i] + 0.2, pc2[i], sample, fontsize=9)\n",
    "\n",
    "plt.xlabel(f\"PC1 ({eig_vals[0]/eig_vals.sum()*100:.1f}%)\")\n",
    "plt.ylabel(f\"PC2 ({eig_vals[1]/eig_vals.sum()*100:.1f}%)\")\n",
    "plt.title(\"PCA der RNA-Seq Samples\")\n",
    "plt.grid(True)\n",
    "plt.tight_layout()\n",
    "plt.show()"
   ]
  },
  {
   "cell_type": "code",
   "execution_count": null,
   "id": "4f03f22c",
   "metadata": {},
   "outputs": [],
   "source": [
    "# variances=rna_data_log2.iloc[:, 1:].vaaaar(axis=1)\n",
    "# top_genes=variances.sort_values(ascending=False).head(1000).index\n",
    "# filtered_data=rna_data_log2.loc[top_genes]\n",
    "# data=filtered_data.iloc[:, 1:]\n",
    "# data_centered=data_T-data_T.mean(axis=0)\n"
   ]
  }
 ],
 "metadata": {
  "kernelspec": {
   "display_name": "base",
   "language": "python",
   "name": "python3"
  },
  "language_info": {
   "codemirror_mode": {
    "name": "ipython",
    "version": 3
   },
   "file_extension": ".py",
   "mimetype": "text/x-python",
   "name": "python",
   "nbconvert_exporter": "python",
   "pygments_lexer": "ipython3",
   "version": "3.13.2"
  }
 },
 "nbformat": 4,
 "nbformat_minor": 5
}
