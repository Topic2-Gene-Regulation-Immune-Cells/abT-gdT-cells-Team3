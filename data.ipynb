{
 "cells": [
  {
   "cell_type": "code",
   "execution_count": null,
   "metadata": {},
   "outputs": [],
   "source": []
  },
  {
   "cell_type": "code",
   "execution_count": 7,
   "metadata": {},
   "outputs": [],
   "source": [
    "# import of packages\n",
    "import pandas as pd\n",
    "\n",
    "# Data paths\n",
    "ATAC_seq_path = \"/Users/laila/github/Bioinfo Projekt 25/Raw data/ATAC-seq_called-peaks_ImmGenATAC18_AllOCRsInfo.csv\"\n",
    "RNA_seq_path = \"/Users/laila/github/Bioinfo Projekt 25/Raw data/RNA-seq_mmc2.csv\"\n",
    "Transcription_exons_path = \"/Users/laila/github/Bioinfo Projekt 25/Raw data/Transkrips-exon_refFlat.txt\"\n",
    "Cell_population_qc_path = \"/Users/laila/github/Bioinfo Projekt 25/Raw data/cell-populations_qc-matrices_mmc1.xlsx\"\n",
    "Voluntary_path = \"/Users/laila/github/Bioinfo Projekt 25/Raw data/voluntary_ImmGenATAC18_AllTFmotifsInOCRs.txt\"\n",
    "\n",
    "# Load data sets\n",
    "ATAC_seq = pd.read_csv(ATAC_seq_path)\n",
    "RNA_seq = pd.read_csv(RNA_seq_path)\n",
    "Cell_population_qc = pd.read_excel(Cell_population_qc_path)\n",
    "\n",
    "# wie txt einlesen, sortierung iwi komisch\n",
    "##Transcription_exons\n",
    "##Voluntary\n",
    "\n",
    "#testi hilfe"
   ]
  },
  {
   "cell_type": "markdown",
   "metadata": {},
   "source": []
  }
 ],
 "metadata": {
  "kernelspec": {
   "display_name": "bioinfo_base",
   "language": "python",
   "name": "python3"
  },
  "language_info": {
   "codemirror_mode": {
    "name": "ipython",
    "version": 3
   },
   "file_extension": ".py",
   "mimetype": "text/x-python",
   "name": "python",
   "nbconvert_exporter": "python",
   "pygments_lexer": "ipython3",
   "version": "3.13.2"
  }
 },
 "nbformat": 4,
 "nbformat_minor": 2
}
