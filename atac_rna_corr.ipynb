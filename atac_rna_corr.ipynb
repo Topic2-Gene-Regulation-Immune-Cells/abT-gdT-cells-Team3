{
 "cells": [
  {
   "cell_type": "code",
   "execution_count": 1,
   "id": "8cf57881",
   "metadata": {},
   "outputs": [],
   "source": [
    "import pandas as pd\n",
    "import numpy as np\n",
    "from scipy.stats import pearsonr\n",
    "import matplotlib.pyplot as plt\n",
    "import os"
   ]
  },
  {
   "cell_type": "code",
   "execution_count": 3,
   "id": "265de3cc",
   "metadata": {},
   "outputs": [
    {
     "ename": "MemoryError",
     "evalue": "Unable to allocate 64.0 KiB for an array with shape (8192,) and data type int64",
     "output_type": "error",
     "traceback": [
      "\u001b[31m---------------------------------------------------------------------------\u001b[39m",
      "\u001b[31mMemoryError\u001b[39m                               Traceback (most recent call last)",
      "\u001b[36mCell\u001b[39m\u001b[36m \u001b[39m\u001b[32mIn[3]\u001b[39m\u001b[32m, line 5\u001b[39m\n\u001b[32m      3\u001b[39m importlib.reload(functions)\n\u001b[32m      4\u001b[39m functions.set_user(\u001b[33m'\u001b[39m\u001b[33mKaja\u001b[39m\u001b[33m'\u001b[39m)\n\u001b[32m----> \u001b[39m\u001b[32m5\u001b[39m data = \u001b[43mfunctions\u001b[49m\u001b[43m.\u001b[49m\u001b[43mcall_data_clean\u001b[49m\u001b[43m(\u001b[49m\u001b[43mp_threshold\u001b[49m\u001b[43m=\u001b[49m\u001b[32;43m1.3\u001b[39;49m\u001b[43m)\u001b[49m\n",
      "\u001b[36mFile \u001b[39m\u001b[32md:\\Uni\\4. Semester\\Bioinfo\\abT-gdT-cells-Team3\\abT-gdT-cells-Team3\\functions.py:51\u001b[39m, in \u001b[36mcall_data_clean\u001b[39m\u001b[34m(p_threshold, qc_thresholds, normalization)\u001b[39m\n\u001b[32m     48\u001b[39m     Voluntary_path = \u001b[33mr\u001b[39m\u001b[33m\"\u001b[39m\u001b[33mC:\u001b[39m\u001b[33m\\\u001b[39m\u001b[33mUsers\u001b[39m\u001b[33m\\\u001b[39m\u001b[33mhelen\u001b[39m\u001b[33m\\\u001b[39m\u001b[33mDownloads\u001b[39m\u001b[33m\\\u001b[39m\u001b[33mdatasets\u001b[39m\u001b[33m\\\u001b[39m\u001b[33mImmGenATAC18_AllTFmotifsInOCRs.txt\u001b[39m\u001b[33m\"\u001b[39m\n\u001b[32m     50\u001b[39m \u001b[38;5;66;03m# loading of data sets\u001b[39;00m\n\u001b[32m---> \u001b[39m\u001b[32m51\u001b[39m ATAC_seq = \u001b[43mpd\u001b[49m\u001b[43m.\u001b[49m\u001b[43mread_csv\u001b[49m\u001b[43m(\u001b[49m\u001b[43mATAC_seq_path\u001b[49m\u001b[43m,\u001b[49m\u001b[43m \u001b[49m\u001b[43mheader\u001b[49m\u001b[43m=\u001b[49m\u001b[32;43m0\u001b[39;49m\u001b[43m)\u001b[49m\n\u001b[32m     52\u001b[39m ATAC_seq = ATAC_seq.set_index(\u001b[33m'\u001b[39m\u001b[33mImmGenATAC1219.peakID\u001b[39m\u001b[33m'\u001b[39m)\n\u001b[32m     53\u001b[39m ATAC_copy = ATAC_seq.copy()\n",
      "\u001b[36mFile \u001b[39m\u001b[32md:\\Uni\\4. Semester\\Bioinfo\\abT-gdT-cells-Team3\\abT-gdT-cells-Team3\\.venv\\Lib\\site-packages\\pandas\\io\\parsers\\readers.py:1026\u001b[39m, in \u001b[36mread_csv\u001b[39m\u001b[34m(filepath_or_buffer, sep, delimiter, header, names, index_col, usecols, dtype, engine, converters, true_values, false_values, skipinitialspace, skiprows, skipfooter, nrows, na_values, keep_default_na, na_filter, verbose, skip_blank_lines, parse_dates, infer_datetime_format, keep_date_col, date_parser, date_format, dayfirst, cache_dates, iterator, chunksize, compression, thousands, decimal, lineterminator, quotechar, quoting, doublequote, escapechar, comment, encoding, encoding_errors, dialect, on_bad_lines, delim_whitespace, low_memory, memory_map, float_precision, storage_options, dtype_backend)\u001b[39m\n\u001b[32m   1013\u001b[39m kwds_defaults = _refine_defaults_read(\n\u001b[32m   1014\u001b[39m     dialect,\n\u001b[32m   1015\u001b[39m     delimiter,\n\u001b[32m   (...)\u001b[39m\u001b[32m   1022\u001b[39m     dtype_backend=dtype_backend,\n\u001b[32m   1023\u001b[39m )\n\u001b[32m   1024\u001b[39m kwds.update(kwds_defaults)\n\u001b[32m-> \u001b[39m\u001b[32m1026\u001b[39m \u001b[38;5;28;01mreturn\u001b[39;00m \u001b[43m_read\u001b[49m\u001b[43m(\u001b[49m\u001b[43mfilepath_or_buffer\u001b[49m\u001b[43m,\u001b[49m\u001b[43m \u001b[49m\u001b[43mkwds\u001b[49m\u001b[43m)\u001b[49m\n",
      "\u001b[36mFile \u001b[39m\u001b[32md:\\Uni\\4. Semester\\Bioinfo\\abT-gdT-cells-Team3\\abT-gdT-cells-Team3\\.venv\\Lib\\site-packages\\pandas\\io\\parsers\\readers.py:626\u001b[39m, in \u001b[36m_read\u001b[39m\u001b[34m(filepath_or_buffer, kwds)\u001b[39m\n\u001b[32m    623\u001b[39m     \u001b[38;5;28;01mreturn\u001b[39;00m parser\n\u001b[32m    625\u001b[39m \u001b[38;5;28;01mwith\u001b[39;00m parser:\n\u001b[32m--> \u001b[39m\u001b[32m626\u001b[39m     \u001b[38;5;28;01mreturn\u001b[39;00m \u001b[43mparser\u001b[49m\u001b[43m.\u001b[49m\u001b[43mread\u001b[49m\u001b[43m(\u001b[49m\u001b[43mnrows\u001b[49m\u001b[43m)\u001b[49m\n",
      "\u001b[36mFile \u001b[39m\u001b[32md:\\Uni\\4. Semester\\Bioinfo\\abT-gdT-cells-Team3\\abT-gdT-cells-Team3\\.venv\\Lib\\site-packages\\pandas\\io\\parsers\\readers.py:1923\u001b[39m, in \u001b[36mTextFileReader.read\u001b[39m\u001b[34m(self, nrows)\u001b[39m\n\u001b[32m   1916\u001b[39m nrows = validate_integer(\u001b[33m\"\u001b[39m\u001b[33mnrows\u001b[39m\u001b[33m\"\u001b[39m, nrows)\n\u001b[32m   1917\u001b[39m \u001b[38;5;28;01mtry\u001b[39;00m:\n\u001b[32m   1918\u001b[39m     \u001b[38;5;66;03m# error: \"ParserBase\" has no attribute \"read\"\u001b[39;00m\n\u001b[32m   1919\u001b[39m     (\n\u001b[32m   1920\u001b[39m         index,\n\u001b[32m   1921\u001b[39m         columns,\n\u001b[32m   1922\u001b[39m         col_dict,\n\u001b[32m-> \u001b[39m\u001b[32m1923\u001b[39m     ) = \u001b[38;5;28;43mself\u001b[39;49m\u001b[43m.\u001b[49m\u001b[43m_engine\u001b[49m\u001b[43m.\u001b[49m\u001b[43mread\u001b[49m\u001b[43m(\u001b[49m\u001b[43m  \u001b[49m\u001b[38;5;66;43;03m# type: ignore[attr-defined]\u001b[39;49;00m\n\u001b[32m   1924\u001b[39m \u001b[43m        \u001b[49m\u001b[43mnrows\u001b[49m\n\u001b[32m   1925\u001b[39m \u001b[43m    \u001b[49m\u001b[43m)\u001b[49m\n\u001b[32m   1926\u001b[39m \u001b[38;5;28;01mexcept\u001b[39;00m \u001b[38;5;167;01mException\u001b[39;00m:\n\u001b[32m   1927\u001b[39m     \u001b[38;5;28mself\u001b[39m.close()\n",
      "\u001b[36mFile \u001b[39m\u001b[32md:\\Uni\\4. Semester\\Bioinfo\\abT-gdT-cells-Team3\\abT-gdT-cells-Team3\\.venv\\Lib\\site-packages\\pandas\\io\\parsers\\c_parser_wrapper.py:234\u001b[39m, in \u001b[36mCParserWrapper.read\u001b[39m\u001b[34m(self, nrows)\u001b[39m\n\u001b[32m    232\u001b[39m \u001b[38;5;28;01mtry\u001b[39;00m:\n\u001b[32m    233\u001b[39m     \u001b[38;5;28;01mif\u001b[39;00m \u001b[38;5;28mself\u001b[39m.low_memory:\n\u001b[32m--> \u001b[39m\u001b[32m234\u001b[39m         chunks = \u001b[38;5;28;43mself\u001b[39;49m\u001b[43m.\u001b[49m\u001b[43m_reader\u001b[49m\u001b[43m.\u001b[49m\u001b[43mread_low_memory\u001b[49m\u001b[43m(\u001b[49m\u001b[43mnrows\u001b[49m\u001b[43m)\u001b[49m\n\u001b[32m    235\u001b[39m         \u001b[38;5;66;03m# destructive to chunks\u001b[39;00m\n\u001b[32m    236\u001b[39m         data = _concatenate_chunks(chunks)\n",
      "\u001b[36mFile \u001b[39m\u001b[32mparsers.pyx:838\u001b[39m, in \u001b[36mpandas._libs.parsers.TextReader.read_low_memory\u001b[39m\u001b[34m()\u001b[39m\n",
      "\u001b[36mFile \u001b[39m\u001b[32mparsers.pyx:921\u001b[39m, in \u001b[36mpandas._libs.parsers.TextReader._read_rows\u001b[39m\u001b[34m()\u001b[39m\n",
      "\u001b[36mFile \u001b[39m\u001b[32mparsers.pyx:1066\u001b[39m, in \u001b[36mpandas._libs.parsers.TextReader._convert_column_data\u001b[39m\u001b[34m()\u001b[39m\n",
      "\u001b[36mFile \u001b[39m\u001b[32mparsers.pyx:1120\u001b[39m, in \u001b[36mpandas._libs.parsers.TextReader._convert_tokens\u001b[39m\u001b[34m()\u001b[39m\n",
      "\u001b[36mFile \u001b[39m\u001b[32mparsers.pyx:1222\u001b[39m, in \u001b[36mpandas._libs.parsers.TextReader._convert_with_dtype\u001b[39m\u001b[34m()\u001b[39m\n",
      "\u001b[36mFile \u001b[39m\u001b[32mparsers.pyx:1833\u001b[39m, in \u001b[36mpandas._libs.parsers._try_int64\u001b[39m\u001b[34m()\u001b[39m\n",
      "\u001b[31mMemoryError\u001b[39m: Unable to allocate 64.0 KiB for an array with shape (8192,) and data type int64"
     ]
    }
   ],
   "source": [
    "import importlib\n",
    "import functions\n",
    "importlib.reload(functions)\n",
    "functions.set_user('Kaja')\n",
    "data = functions.call_data_clean(p_threshold=1.3)"
   ]
  },
  {
   "cell_type": "code",
   "execution_count": 3,
   "id": "40bd38f3",
   "metadata": {},
   "outputs": [],
   "source": [
    "ATAC = data['ATAC_seq']\n",
    "RNA = data['RNA_seq']\n",
    "QC = data['QC_metrics']"
   ]
  },
  {
   "cell_type": "code",
   "execution_count": null,
   "id": "880c388d",
   "metadata": {},
   "outputs": [],
   "source": [
    "Transcription_exons_path = \"D:\\\\Uni\\\\4. Semester\\\\Bioinfo\\\\datasets\\\\refFlat.txt\"\n",
    "exons=pd.read_csv(Transcription_exons_path, sep=\"\\t\")\n",
    "exons.columns = [\"Genname\", \"ID\", \"Chromosom\", \"Strand\", \"Transcription Start\", \"Transcription End\", \"CDS_Start\", \"CDS_End\", \n",
    "    \"ExonCount\", \"ExonStarts\", \"ExonEnds\"]\n",
    "\n",
    "print(exons.head())"
   ]
  },
  {
   "cell_type": "code",
   "execution_count": null,
   "id": "d57f6aee",
   "metadata": {},
   "outputs": [],
   "source": [
    "rna_data=RNA.copy() #damit eingabedaten nicht verändert werden\n",
    "rna_data=rna_data.T\n",
    "print(rna_data.head())"
   ]
  },
  {
   "cell_type": "code",
   "execution_count": null,
   "id": "1545d0fa",
   "metadata": {},
   "outputs": [],
   "source": [
    "Schritte:\n",
    "\n",
    "    Nimm ein ATAC-Peak und das zugehörige Gen.\n",
    "\n",
    "    Hole dir ATAC-Werte für alle Zelltypen (Spalten).\n",
    "\n",
    "    Hole dir RNA-Werte für dasselbe Gen in denselben Zelltypen.\n",
    "\n",
    "    Berechne z.B. Pearson-Korrelation."
   ]
  },
  {
   "cell_type": "code",
   "execution_count": 6,
   "id": "c29d0d30",
   "metadata": {},
   "outputs": [
    {
     "ename": "ParserError",
     "evalue": "Error tokenizing data. C error: out of memory",
     "output_type": "error",
     "traceback": [
      "\u001b[31m---------------------------------------------------------------------------\u001b[39m",
      "\u001b[31mParserError\u001b[39m                               Traceback (most recent call last)",
      "\u001b[36mCell\u001b[39m\u001b[36m \u001b[39m\u001b[32mIn[6]\u001b[39m\u001b[32m, line 1\u001b[39m\n\u001b[32m----> \u001b[39m\u001b[32m1\u001b[39m atac_annotated = \u001b[43mpd\u001b[49m\u001b[43m.\u001b[49m\u001b[43mread_csv\u001b[49m\u001b[43m(\u001b[49m\u001b[33;43m\"\u001b[39;49m\u001b[33;43mD:\u001b[39;49m\u001b[38;5;130;43;01m\\\\\u001b[39;49;00m\u001b[33;43mUni\u001b[39;49m\u001b[38;5;130;43;01m\\\\\u001b[39;49;00m\u001b[33;43m4. Semester\u001b[39;49m\u001b[38;5;130;43;01m\\\\\u001b[39;49;00m\u001b[33;43mBioinfo\u001b[39;49m\u001b[38;5;130;43;01m\\\\\u001b[39;49;00m\u001b[33;43mdatasets\u001b[39;49m\u001b[38;5;130;43;01m\\\\\u001b[39;49;00m\u001b[33;43mATAC_dis_annotated.csv\u001b[39;49m\u001b[33;43m\"\u001b[39;49m\u001b[43m)\u001b[49m\n",
      "\u001b[36mFile \u001b[39m\u001b[32md:\\Uni\\4. Semester\\Bioinfo\\abT-gdT-cells-Team3\\abT-gdT-cells-Team3\\.venv\\Lib\\site-packages\\pandas\\io\\parsers\\readers.py:1026\u001b[39m, in \u001b[36mread_csv\u001b[39m\u001b[34m(filepath_or_buffer, sep, delimiter, header, names, index_col, usecols, dtype, engine, converters, true_values, false_values, skipinitialspace, skiprows, skipfooter, nrows, na_values, keep_default_na, na_filter, verbose, skip_blank_lines, parse_dates, infer_datetime_format, keep_date_col, date_parser, date_format, dayfirst, cache_dates, iterator, chunksize, compression, thousands, decimal, lineterminator, quotechar, quoting, doublequote, escapechar, comment, encoding, encoding_errors, dialect, on_bad_lines, delim_whitespace, low_memory, memory_map, float_precision, storage_options, dtype_backend)\u001b[39m\n\u001b[32m   1013\u001b[39m kwds_defaults = _refine_defaults_read(\n\u001b[32m   1014\u001b[39m     dialect,\n\u001b[32m   1015\u001b[39m     delimiter,\n\u001b[32m   (...)\u001b[39m\u001b[32m   1022\u001b[39m     dtype_backend=dtype_backend,\n\u001b[32m   1023\u001b[39m )\n\u001b[32m   1024\u001b[39m kwds.update(kwds_defaults)\n\u001b[32m-> \u001b[39m\u001b[32m1026\u001b[39m \u001b[38;5;28;01mreturn\u001b[39;00m \u001b[43m_read\u001b[49m\u001b[43m(\u001b[49m\u001b[43mfilepath_or_buffer\u001b[49m\u001b[43m,\u001b[49m\u001b[43m \u001b[49m\u001b[43mkwds\u001b[49m\u001b[43m)\u001b[49m\n",
      "\u001b[36mFile \u001b[39m\u001b[32md:\\Uni\\4. Semester\\Bioinfo\\abT-gdT-cells-Team3\\abT-gdT-cells-Team3\\.venv\\Lib\\site-packages\\pandas\\io\\parsers\\readers.py:620\u001b[39m, in \u001b[36m_read\u001b[39m\u001b[34m(filepath_or_buffer, kwds)\u001b[39m\n\u001b[32m    617\u001b[39m _validate_names(kwds.get(\u001b[33m\"\u001b[39m\u001b[33mnames\u001b[39m\u001b[33m\"\u001b[39m, \u001b[38;5;28;01mNone\u001b[39;00m))\n\u001b[32m    619\u001b[39m \u001b[38;5;66;03m# Create the parser.\u001b[39;00m\n\u001b[32m--> \u001b[39m\u001b[32m620\u001b[39m parser = \u001b[43mTextFileReader\u001b[49m\u001b[43m(\u001b[49m\u001b[43mfilepath_or_buffer\u001b[49m\u001b[43m,\u001b[49m\u001b[43m \u001b[49m\u001b[43m*\u001b[49m\u001b[43m*\u001b[49m\u001b[43mkwds\u001b[49m\u001b[43m)\u001b[49m\n\u001b[32m    622\u001b[39m \u001b[38;5;28;01mif\u001b[39;00m chunksize \u001b[38;5;129;01mor\u001b[39;00m iterator:\n\u001b[32m    623\u001b[39m     \u001b[38;5;28;01mreturn\u001b[39;00m parser\n",
      "\u001b[36mFile \u001b[39m\u001b[32md:\\Uni\\4. Semester\\Bioinfo\\abT-gdT-cells-Team3\\abT-gdT-cells-Team3\\.venv\\Lib\\site-packages\\pandas\\io\\parsers\\readers.py:1620\u001b[39m, in \u001b[36mTextFileReader.__init__\u001b[39m\u001b[34m(self, f, engine, **kwds)\u001b[39m\n\u001b[32m   1617\u001b[39m     \u001b[38;5;28mself\u001b[39m.options[\u001b[33m\"\u001b[39m\u001b[33mhas_index_names\u001b[39m\u001b[33m\"\u001b[39m] = kwds[\u001b[33m\"\u001b[39m\u001b[33mhas_index_names\u001b[39m\u001b[33m\"\u001b[39m]\n\u001b[32m   1619\u001b[39m \u001b[38;5;28mself\u001b[39m.handles: IOHandles | \u001b[38;5;28;01mNone\u001b[39;00m = \u001b[38;5;28;01mNone\u001b[39;00m\n\u001b[32m-> \u001b[39m\u001b[32m1620\u001b[39m \u001b[38;5;28mself\u001b[39m._engine = \u001b[38;5;28;43mself\u001b[39;49m\u001b[43m.\u001b[49m\u001b[43m_make_engine\u001b[49m\u001b[43m(\u001b[49m\u001b[43mf\u001b[49m\u001b[43m,\u001b[49m\u001b[43m \u001b[49m\u001b[38;5;28;43mself\u001b[39;49m\u001b[43m.\u001b[49m\u001b[43mengine\u001b[49m\u001b[43m)\u001b[49m\n",
      "\u001b[36mFile \u001b[39m\u001b[32md:\\Uni\\4. Semester\\Bioinfo\\abT-gdT-cells-Team3\\abT-gdT-cells-Team3\\.venv\\Lib\\site-packages\\pandas\\io\\parsers\\readers.py:1898\u001b[39m, in \u001b[36mTextFileReader._make_engine\u001b[39m\u001b[34m(self, f, engine)\u001b[39m\n\u001b[32m   1895\u001b[39m     \u001b[38;5;28;01mraise\u001b[39;00m \u001b[38;5;167;01mValueError\u001b[39;00m(msg)\n\u001b[32m   1897\u001b[39m \u001b[38;5;28;01mtry\u001b[39;00m:\n\u001b[32m-> \u001b[39m\u001b[32m1898\u001b[39m     \u001b[38;5;28;01mreturn\u001b[39;00m \u001b[43mmapping\u001b[49m\u001b[43m[\u001b[49m\u001b[43mengine\u001b[49m\u001b[43m]\u001b[49m\u001b[43m(\u001b[49m\u001b[43mf\u001b[49m\u001b[43m,\u001b[49m\u001b[43m \u001b[49m\u001b[43m*\u001b[49m\u001b[43m*\u001b[49m\u001b[38;5;28;43mself\u001b[39;49m\u001b[43m.\u001b[49m\u001b[43moptions\u001b[49m\u001b[43m)\u001b[49m\n\u001b[32m   1899\u001b[39m \u001b[38;5;28;01mexcept\u001b[39;00m \u001b[38;5;167;01mException\u001b[39;00m:\n\u001b[32m   1900\u001b[39m     \u001b[38;5;28;01mif\u001b[39;00m \u001b[38;5;28mself\u001b[39m.handles \u001b[38;5;129;01mis\u001b[39;00m \u001b[38;5;129;01mnot\u001b[39;00m \u001b[38;5;28;01mNone\u001b[39;00m:\n",
      "\u001b[36mFile \u001b[39m\u001b[32md:\\Uni\\4. Semester\\Bioinfo\\abT-gdT-cells-Team3\\abT-gdT-cells-Team3\\.venv\\Lib\\site-packages\\pandas\\io\\parsers\\c_parser_wrapper.py:93\u001b[39m, in \u001b[36mCParserWrapper.__init__\u001b[39m\u001b[34m(self, src, **kwds)\u001b[39m\n\u001b[32m     90\u001b[39m \u001b[38;5;28;01mif\u001b[39;00m kwds[\u001b[33m\"\u001b[39m\u001b[33mdtype_backend\u001b[39m\u001b[33m\"\u001b[39m] == \u001b[33m\"\u001b[39m\u001b[33mpyarrow\u001b[39m\u001b[33m\"\u001b[39m:\n\u001b[32m     91\u001b[39m     \u001b[38;5;66;03m# Fail here loudly instead of in cython after reading\u001b[39;00m\n\u001b[32m     92\u001b[39m     import_optional_dependency(\u001b[33m\"\u001b[39m\u001b[33mpyarrow\u001b[39m\u001b[33m\"\u001b[39m)\n\u001b[32m---> \u001b[39m\u001b[32m93\u001b[39m \u001b[38;5;28mself\u001b[39m._reader = \u001b[43mparsers\u001b[49m\u001b[43m.\u001b[49m\u001b[43mTextReader\u001b[49m\u001b[43m(\u001b[49m\u001b[43msrc\u001b[49m\u001b[43m,\u001b[49m\u001b[43m \u001b[49m\u001b[43m*\u001b[49m\u001b[43m*\u001b[49m\u001b[43mkwds\u001b[49m\u001b[43m)\u001b[49m\n\u001b[32m     95\u001b[39m \u001b[38;5;28mself\u001b[39m.unnamed_cols = \u001b[38;5;28mself\u001b[39m._reader.unnamed_cols\n\u001b[32m     97\u001b[39m \u001b[38;5;66;03m# error: Cannot determine type of 'names'\u001b[39;00m\n",
      "\u001b[36mFile \u001b[39m\u001b[32mparsers.pyx:574\u001b[39m, in \u001b[36mpandas._libs.parsers.TextReader.__cinit__\u001b[39m\u001b[34m()\u001b[39m\n",
      "\u001b[36mFile \u001b[39m\u001b[32mparsers.pyx:663\u001b[39m, in \u001b[36mpandas._libs.parsers.TextReader._get_header\u001b[39m\u001b[34m()\u001b[39m\n",
      "\u001b[36mFile \u001b[39m\u001b[32mparsers.pyx:874\u001b[39m, in \u001b[36mpandas._libs.parsers.TextReader._tokenize_rows\u001b[39m\u001b[34m()\u001b[39m\n",
      "\u001b[36mFile \u001b[39m\u001b[32mparsers.pyx:891\u001b[39m, in \u001b[36mpandas._libs.parsers.TextReader._check_tokenize_status\u001b[39m\u001b[34m()\u001b[39m\n",
      "\u001b[36mFile \u001b[39m\u001b[32mparsers.pyx:2061\u001b[39m, in \u001b[36mpandas._libs.parsers.raise_parser_error\u001b[39m\u001b[34m()\u001b[39m\n",
      "\u001b[31mParserError\u001b[39m: Error tokenizing data. C error: out of memory"
     ]
    }
   ],
   "source": [
    "atac_annotated = pd.read_csv(\"D:\\\\Uni\\\\4. Semester\\\\Bioinfo\\\\datasets\\\\ATAC_dis_annotated.csv\")"
   ]
  },
  {
   "cell_type": "code",
   "execution_count": 8,
   "id": "aa377590",
   "metadata": {},
   "outputs": [
    {
     "name": "stdout",
     "output_type": "stream",
     "text": [
      "RangeIndex(start=0, stop=512590, step=1)\n",
      "   ImmGenATAC1219.peakID chrom   Summit  mm10.60way.phastCons_scores  \\\n",
      "0  ImmGenATAC1219.peak_1  chr1  3020786                         0.00   \n",
      "1  ImmGenATAC1219.peak_2  chr1  3087226                         0.00   \n",
      "2  ImmGenATAC1219.peak_3  chr1  3120109                         0.07   \n",
      "3  ImmGenATAC1219.peak_4  chr1  3121485                         0.15   \n",
      "4  ImmGenATAC1219.peak_5  chr1  3372787                         0.03   \n",
      "\n",
      "   _-log10_bestPvalue  Included.in.systematic.analysis  TSS  \\\n",
      "0                0.56                              NaN  NaN   \n",
      "1                0.50                              NaN  NaN   \n",
      "2               10.80                              1.0  NaN   \n",
      "3                3.02                              1.0  NaN   \n",
      "4                1.31                              NaN  NaN   \n",
      "\n",
      "  genes.within.100Kb  LTHSC.34-.BM  LTHSC.34+.BM  ...       var        sd  \\\n",
      "0                NaN      0.271312      0.428712  ...  0.165813  0.407201   \n",
      "1                NaN      0.271312      0.847423  ...  0.141103  0.375637   \n",
      "2                NaN      1.131567      0.068653  ...  0.409753  0.640120   \n",
      "3                NaN      0.271312      0.068653  ...  0.181010  0.425453   \n",
      "4                NaN      0.271312      0.068653  ...  0.127097  0.356506   \n",
      "\n",
      "   variability       min       max     range  skewness  region_type  TSS_bin  \\\n",
      "0     0.754483  0.068554  1.826570  1.758017  0.939303     Enhancer     >20k   \n",
      "1     0.766608  0.068630  1.541715  1.473084  0.839625     Enhancer     >20k   \n",
      "2     1.379892  0.068626  4.997333  4.928707  4.570317     Enhancer     >20k   \n",
      "3     0.990038  0.068653  2.924184  2.855531  2.714369     Enhancer     >20k   \n",
      "4     0.755765  0.068653  1.677193  1.608541  0.888782     Enhancer     >20k   \n",
      "\n",
      "   gene_context  \n",
      "0      upstream  \n",
      "1      upstream  \n",
      "2      upstream  \n",
      "3      upstream  \n",
      "4         genic  \n",
      "\n",
      "[5 rows x 112 columns]\n"
     ]
    }
   ],
   "source": [
    "# atac_annotated.head()\n",
    "# atac_annotated['nearest_gene']\n",
    "print(atac_annotated.index)\n",
    "print(atac_annotated.head())"
   ]
  },
  {
   "cell_type": "code",
   "execution_count": 5,
   "id": "e2b959aa",
   "metadata": {},
   "outputs": [
    {
     "ename": "NameError",
     "evalue": "name 'atac_annotated' is not defined",
     "output_type": "error",
     "traceback": [
      "\u001b[31m---------------------------------------------------------------------------\u001b[39m",
      "\u001b[31mNameError\u001b[39m                                 Traceback (most recent call last)",
      "\u001b[36mCell\u001b[39m\u001b[36m \u001b[39m\u001b[32mIn[5]\u001b[39m\u001b[32m, line 1\u001b[39m\n\u001b[32m----> \u001b[39m\u001b[32m1\u001b[39m \u001b[38;5;28mprint\u001b[39m(\u001b[43matac_annotated\u001b[49m.columns)\n",
      "\u001b[31mNameError\u001b[39m: name 'atac_annotated' is not defined"
     ]
    }
   ],
   "source": [
    "print(atac_annotated.columns)"
   ]
  },
  {
   "cell_type": "code",
   "execution_count": 4,
   "id": "9527905f",
   "metadata": {},
   "outputs": [
    {
     "ename": "NameError",
     "evalue": "name 'atac_annotated' is not defined",
     "output_type": "error",
     "traceback": [
      "\u001b[31m---------------------------------------------------------------------------\u001b[39m",
      "\u001b[31mNameError\u001b[39m                                 Traceback (most recent call last)",
      "\u001b[36mCell\u001b[39m\u001b[36m \u001b[39m\u001b[32mIn[4]\u001b[39m\u001b[32m, line 1\u001b[39m\n\u001b[32m----> \u001b[39m\u001b[32m1\u001b[39m \u001b[38;5;28mprint\u001b[39m(\u001b[43matac_annotated\u001b[49m[\u001b[33m'\u001b[39m\u001b[33mdistance_to_TSS\u001b[39m\u001b[33m'\u001b[39m])\n",
      "\u001b[31mNameError\u001b[39m: name 'atac_annotated' is not defined"
     ]
    }
   ],
   "source": [
    "print(atac_annotated['distance_to_TSS'])"
   ]
  },
  {
   "cell_type": "code",
   "execution_count": null,
   "id": "c6f08371",
   "metadata": {},
   "outputs": [],
   "source": [
    "atac_annotated = atac_annotated.copy()\n",
    "atac_annotated=atac_annotated.T\n",
    "#print(atac_annotated.head())\n",
    "atac_annotated.set_index(atac_annotated.columns[0], inplace=True)\n",
    "print(atac_annotated.index)\n",
    "print(atac_annotated.head())\n",
    "rna_data = RNA.copy()\n",
    "rna_data=rna_data.T\n",
    "print(rna_data.index)\n",
    "\n",
    "nearest_gene_name=atac_annotated['nearest_gene']\n",
    "\n",
    "gemeinsame_zelltypen = list((atac_annotated.index).intersection(rna_data.index))\n",
    "\n",
    "print(f\"Anzahl gemeinsamer Zelltypen: {len(gemeinsame_zelltypen)}\")\n",
    "print(\"Gemeinsame Zelltypen (Beispiel):\", list(gemeinsame_zelltypen)[:10])\n",
    "\n",
    "# Zelltypen, die nur in einem der DataFrames vorkommen\n",
    "print(\"\\nZelltypen nur in ATAC:\", list(set(atac_annotated.index) - set(rna_data.index))[:10])\n",
    "print(\"Zelltypen nur in QC:\", list(set(rna_data.index) - set(atac_annotated.index))[:10])\n",
    "\n",
    "\n",
    "#r, p_values = pearsonr(atac_annotated, rna_data)"
   ]
  },
  {
   "cell_type": "code",
   "execution_count": 13,
   "id": "3da03848",
   "metadata": {},
   "outputs": [],
   "source": [
    "import pandas as pd\n",
    "from scipy.stats import pearsonr\n",
    "import numpy as np\n",
    "\n",
    "def correlate_atac_with_rna(atac_df, rna_df, gene_column=\"nearest_gene\"):\n",
    "    \"\"\"\n",
    "    Für jeden Peak mit bekanntem Gen wird die Pearson-Korrelation zwischen ATAC und RNA berechnet.\n",
    "    \n",
    "    Parameters:\n",
    "    atac_df: DataFrame mit Peaks als Zeilen, Zelltypen als Spalten, und einer Spalte mit Genname (z.B. 'nearest_gene')\n",
    "    rna_df: DataFrame mit Genen als Zeilen (Index), Zelltypen als Spalten (müssen mit ATAC übereinstimmen)\n",
    "    gene_column: Name der Spalte in atac_df, die das zugehörige Gen enthält\n",
    "    \n",
    "    Returns:\n",
    "    korrelationen_df: DataFrame mit peak_id, zugehörigem Gen, r (Korrelation), p-Wert\n",
    "    \"\"\"\n",
    "    \n",
    "    # Zelltyp-Spalten extrahieren (nur numerische, keine Strings wie nearest_gene)\n",
    "    celltypes = atac_df.select_dtypes(include=[np.number]).columns\n",
    "    print(f\"Verwendete Zelltypen: {list(celltypes)}\")\n",
    "    \n",
    "    results = []\n",
    "    \n",
    "    for idx, row in atac_df.iterrows():\n",
    "        gene = row[gene_column]\n",
    "        if pd.isna(gene) or gene not in rna_df.index:\n",
    "            continue\n",
    "        \n",
    "        atac_values = row[celltypes].values\n",
    "        rna_values = rna_df.loc[gene, celltypes].values\n",
    "        \n",
    "        # Prüfe auf NaNs oder konstante Werte\n",
    "        if np.isnan(atac_values).any() or np.isnan(rna_values).any():\n",
    "            continue\n",
    "        if np.std(atac_values) == 0 or np.std(rna_values) == 0:\n",
    "            continue\n",
    "        \n",
    "        r, p = pearsonr(atac_values, rna_values)\n",
    "        \n",
    "        results.append({\n",
    "            \"peak_id\": idx,\n",
    "            \"gene\": gene,\n",
    "            \"r\": r,\n",
    "            \"p_value\": p\n",
    "        })\n",
    "    \n",
    "    korrelationen_df = pd.DataFrame(results)\n",
    "    return korrelationen_df\n"
   ]
  },
  {
   "cell_type": "code",
   "execution_count": 6,
   "id": "f4131699",
   "metadata": {},
   "outputs": [
    {
     "ename": "SyntaxError",
     "evalue": "invalid syntax (3678462444.py, line 1)",
     "output_type": "error",
     "traceback": [
      "  \u001b[36mCell\u001b[39m\u001b[36m \u001b[39m\u001b[32mIn[6]\u001b[39m\u001b[32m, line 1\u001b[39m\n\u001b[31m    \u001b[39m\u001b[31mkorrelation rna und atac\u001b[39m\n                ^\n\u001b[31mSyntaxError\u001b[39m\u001b[31m:\u001b[39m invalid syntax\n"
     ]
    }
   ],
   "source": [
    "korrelation rna und atac\n",
    "distance to Tss\n",
    "je kleiner distanz desto höher korrelation?\n",
    "korreliere abstand mit expression und rna mit peaks\n",
    "größe der rna atac korrelaiton gegen distance\n",
    "haben alle promotoren einen hohen korrelationswert bei atac Rna\n",
    "je näher dran desto stärker wirkt der promotor?\n",
    "korrelieren manche promotoren mit mehreren genen, auch die nicht in der nähe liegen\n",
    "filtern nach großer korrelation und großer abstand\n",
    "welche werte woher und welches format"
   ]
  },
  {
   "cell_type": "code",
   "execution_count": 15,
   "id": "c3ee4463",
   "metadata": {},
   "outputs": [
    {
     "name": "stdout",
     "output_type": "stream",
     "text": [
      "Verwendete Zelltypen: ['Summit', 'mm10.60way.phastCons_scores', '_-log10_bestPvalue', 'Included.in.systematic.analysis', 'LTHSC.34-.BM', 'LTHSC.34+.BM', 'STHSC.150-.BM', 'MPP4.135+.BM', 'proB.CLP.BM', 'proB.FrA.BM', 'proB.FrBC.BM', 'preB.FrD.BM', 'B.FrE.BM', 'B1b.PC', 'B.T1.Sp', 'B.T2.Sp', 'B.T3.Sp', 'B.Sp', 'B.Fem.Sp', 'B.MZ.Sp', 'B.Fo.Sp', 'B.mem.Sp', 'B.GC.CB.Sp', 'B.GC.CC.Sp', 'B.PB.Sp', 'B.PC.Sp', 'B.PC.BM', 'preT.DN1.Th', 'preT.DN2a.Th', 'preT.DN2b.Th', 'preT.DN3.Th', 'T.DN4.Th', 'T.ISP.Th', 'T.DP.Th', 'T.4.Th', 'T.8.Th', 'T.4.Nve.Sp', 'T.4.Nve.Fem.Sp', 'T.8.Nve.Sp', 'T.4.Sp.aCD3+CD40.18hr', 'Treg.4.FP3+.Nrplo.Co', 'Treg.4.25hi.Sp', 'T8.TN.P14.Sp', 'T8.IEL.LCMV.d7.SI', 'T8.TE.LCMV.d7.Sp', 'T8.MP.LCMV.d7.Sp', 'T8.Tcm.LCMV.d180.Sp', 'T8.Tem.LCMV.d180.Sp', 'NKT.Sp', 'NKT.Sp.LPS.3hr', 'NKT.Sp.LPS.18hr', 'NKT.Sp.LPS.3d', 'Tgd.g2+d17.24a+.Th', 'Tgd.g2+d17.LN', 'Tgd.g2+d1.24a+.Th', 'Tgd.g2+d1.LN', 'Tgd.g1.1+d1.24a+.Th', 'Tgd.g1.1+d1.LN', 'Tgd.Sp', 'NK.27+11b-.BM', 'NK.27+11b+.BM', 'NK.27-11b+.BM', 'NK.27+11b-.Sp', 'NK.27+11b+.Sp', 'NK.27-11b+.Sp', 'ILC2.SI', 'ILC3.NKp46-CCR6-.SI', 'ILC3.NKp46+.SI', 'ILC3.CCR6+.SI', 'MPP3.48+.BM', 'GN.BM', 'GN.Sp', 'GN.Thio.PC', 'Mo.6C+II-.Bl', 'Mo.6C-II-.Bl', 'MF.pIC.Alv.Lu', 'MF.226+II+480lo.PC', 'MF.ICAM+480hi.PC', 'MF.RP.Sp', 'MF.LP.SI', 'MF.Alv.Lu', 'MF.microglia.CNS', 'MF.PC', 'MF.Fem.PC', 'DC.4+.Sp', 'DC.8+.Sp', 'DC.pDC.Sp', 'DC.103+11b+.SI', 'DC.103+11b-.SI', 'FRC.SLN', 'IAP.SLN', 'BEC.SLN', 'LEC.SLN', 'Ep.MEChi.Th', 'distance_to_TSS', 'mean', 'median', 'var', 'sd', 'variability', 'min', 'max', 'range', 'skewness']\n"
     ]
    },
    {
     "ename": "KeyError",
     "evalue": "\"['Summit', 'mm10.60way.phastCons_scores', '_-log10_bestPvalue', 'Included.in.systematic.analysis', 'preB.FrD.BM', 'T8.IEL.LCMV.d7.SI', 'MF.LP.SI', 'DC.103+11b+.SI', 'DC.103+11b-.SI', 'distance_to_TSS', 'mean', 'median', 'var', 'sd', 'variability', 'min', 'max', 'range', 'skewness'] not in index\"",
     "output_type": "error",
     "traceback": [
      "\u001b[31m---------------------------------------------------------------------------\u001b[39m",
      "\u001b[31mKeyError\u001b[39m                                  Traceback (most recent call last)",
      "\u001b[36mCell\u001b[39m\u001b[36m \u001b[39m\u001b[32mIn[15]\u001b[39m\u001b[32m, line 1\u001b[39m\n\u001b[32m----> \u001b[39m\u001b[32m1\u001b[39m \u001b[43mcorrelate_atac_with_rna\u001b[49m\u001b[43m(\u001b[49m\u001b[43matac_df\u001b[49m\u001b[43m=\u001b[49m\u001b[43mdf\u001b[49m\u001b[43m,\u001b[49m\u001b[43m \u001b[49m\u001b[43mrna_df\u001b[49m\u001b[43m=\u001b[49m\u001b[43mRNA\u001b[49m\u001b[43m,\u001b[49m\u001b[43m \u001b[49m\u001b[43mgene_column\u001b[49m\u001b[43m=\u001b[49m\u001b[33;43m\"\u001b[39;49m\u001b[33;43mnearest_gene\u001b[39;49m\u001b[33;43m\"\u001b[39;49m\u001b[43m)\u001b[49m\n",
      "\u001b[36mCell\u001b[39m\u001b[36m \u001b[39m\u001b[32mIn[13]\u001b[39m\u001b[32m, line 30\u001b[39m, in \u001b[36mcorrelate_atac_with_rna\u001b[39m\u001b[34m(atac_df, rna_df, gene_column)\u001b[39m\n\u001b[32m     27\u001b[39m     \u001b[38;5;28;01mcontinue\u001b[39;00m\n\u001b[32m     29\u001b[39m atac_values = row[celltypes].values\n\u001b[32m---> \u001b[39m\u001b[32m30\u001b[39m rna_values = \u001b[43mrna_df\u001b[49m\u001b[43m.\u001b[49m\u001b[43mloc\u001b[49m\u001b[43m[\u001b[49m\u001b[43mgene\u001b[49m\u001b[43m,\u001b[49m\u001b[43m \u001b[49m\u001b[43mcelltypes\u001b[49m\u001b[43m]\u001b[49m.values\n\u001b[32m     32\u001b[39m \u001b[38;5;66;03m# Prüfe auf NaNs oder konstante Werte\u001b[39;00m\n\u001b[32m     33\u001b[39m \u001b[38;5;28;01mif\u001b[39;00m np.isnan(atac_values).any() \u001b[38;5;129;01mor\u001b[39;00m np.isnan(rna_values).any():\n",
      "\u001b[36mFile \u001b[39m\u001b[32md:\\Uni\\4. Semester\\Bioinfo\\abT-gdT-cells-Team3\\abT-gdT-cells-Team3\\.venv\\Lib\\site-packages\\pandas\\core\\indexing.py:1184\u001b[39m, in \u001b[36m_LocationIndexer.__getitem__\u001b[39m\u001b[34m(self, key)\u001b[39m\n\u001b[32m   1182\u001b[39m     \u001b[38;5;28;01mif\u001b[39;00m \u001b[38;5;28mself\u001b[39m._is_scalar_access(key):\n\u001b[32m   1183\u001b[39m         \u001b[38;5;28;01mreturn\u001b[39;00m \u001b[38;5;28mself\u001b[39m.obj._get_value(*key, takeable=\u001b[38;5;28mself\u001b[39m._takeable)\n\u001b[32m-> \u001b[39m\u001b[32m1184\u001b[39m     \u001b[38;5;28;01mreturn\u001b[39;00m \u001b[38;5;28;43mself\u001b[39;49m\u001b[43m.\u001b[49m\u001b[43m_getitem_tuple\u001b[49m\u001b[43m(\u001b[49m\u001b[43mkey\u001b[49m\u001b[43m)\u001b[49m\n\u001b[32m   1185\u001b[39m \u001b[38;5;28;01melse\u001b[39;00m:\n\u001b[32m   1186\u001b[39m     \u001b[38;5;66;03m# we by definition only have the 0th axis\u001b[39;00m\n\u001b[32m   1187\u001b[39m     axis = \u001b[38;5;28mself\u001b[39m.axis \u001b[38;5;129;01mor\u001b[39;00m \u001b[32m0\u001b[39m\n",
      "\u001b[36mFile \u001b[39m\u001b[32md:\\Uni\\4. Semester\\Bioinfo\\abT-gdT-cells-Team3\\abT-gdT-cells-Team3\\.venv\\Lib\\site-packages\\pandas\\core\\indexing.py:1368\u001b[39m, in \u001b[36m_LocIndexer._getitem_tuple\u001b[39m\u001b[34m(self, tup)\u001b[39m\n\u001b[32m   1366\u001b[39m \u001b[38;5;28;01mwith\u001b[39;00m suppress(IndexingError):\n\u001b[32m   1367\u001b[39m     tup = \u001b[38;5;28mself\u001b[39m._expand_ellipsis(tup)\n\u001b[32m-> \u001b[39m\u001b[32m1368\u001b[39m     \u001b[38;5;28;01mreturn\u001b[39;00m \u001b[38;5;28;43mself\u001b[39;49m\u001b[43m.\u001b[49m\u001b[43m_getitem_lowerdim\u001b[49m\u001b[43m(\u001b[49m\u001b[43mtup\u001b[49m\u001b[43m)\u001b[49m\n\u001b[32m   1370\u001b[39m \u001b[38;5;66;03m# no multi-index, so validate all of the indexers\u001b[39;00m\n\u001b[32m   1371\u001b[39m tup = \u001b[38;5;28mself\u001b[39m._validate_tuple_indexer(tup)\n",
      "\u001b[36mFile \u001b[39m\u001b[32md:\\Uni\\4. Semester\\Bioinfo\\abT-gdT-cells-Team3\\abT-gdT-cells-Team3\\.venv\\Lib\\site-packages\\pandas\\core\\indexing.py:1089\u001b[39m, in \u001b[36m_LocationIndexer._getitem_lowerdim\u001b[39m\u001b[34m(self, tup)\u001b[39m\n\u001b[32m   1087\u001b[39m             \u001b[38;5;28;01mreturn\u001b[39;00m section\n\u001b[32m   1088\u001b[39m         \u001b[38;5;66;03m# This is an elided recursive call to iloc/loc\u001b[39;00m\n\u001b[32m-> \u001b[39m\u001b[32m1089\u001b[39m         \u001b[38;5;28;01mreturn\u001b[39;00m \u001b[38;5;28;43mgetattr\u001b[39;49m\u001b[43m(\u001b[49m\u001b[43msection\u001b[49m\u001b[43m,\u001b[49m\u001b[43m \u001b[49m\u001b[38;5;28;43mself\u001b[39;49m\u001b[43m.\u001b[49m\u001b[43mname\u001b[49m\u001b[43m)\u001b[49m\u001b[43m[\u001b[49m\u001b[43mnew_key\u001b[49m\u001b[43m]\u001b[49m\n\u001b[32m   1091\u001b[39m \u001b[38;5;28;01mraise\u001b[39;00m IndexingError(\u001b[33m\"\u001b[39m\u001b[33mnot applicable\u001b[39m\u001b[33m\"\u001b[39m)\n",
      "\u001b[36mFile \u001b[39m\u001b[32md:\\Uni\\4. Semester\\Bioinfo\\abT-gdT-cells-Team3\\abT-gdT-cells-Team3\\.venv\\Lib\\site-packages\\pandas\\core\\indexing.py:1191\u001b[39m, in \u001b[36m_LocationIndexer.__getitem__\u001b[39m\u001b[34m(self, key)\u001b[39m\n\u001b[32m   1189\u001b[39m maybe_callable = com.apply_if_callable(key, \u001b[38;5;28mself\u001b[39m.obj)\n\u001b[32m   1190\u001b[39m maybe_callable = \u001b[38;5;28mself\u001b[39m._check_deprecated_callable_usage(key, maybe_callable)\n\u001b[32m-> \u001b[39m\u001b[32m1191\u001b[39m \u001b[38;5;28;01mreturn\u001b[39;00m \u001b[38;5;28;43mself\u001b[39;49m\u001b[43m.\u001b[49m\u001b[43m_getitem_axis\u001b[49m\u001b[43m(\u001b[49m\u001b[43mmaybe_callable\u001b[49m\u001b[43m,\u001b[49m\u001b[43m \u001b[49m\u001b[43maxis\u001b[49m\u001b[43m=\u001b[49m\u001b[43maxis\u001b[49m\u001b[43m)\u001b[49m\n",
      "\u001b[36mFile \u001b[39m\u001b[32md:\\Uni\\4. Semester\\Bioinfo\\abT-gdT-cells-Team3\\abT-gdT-cells-Team3\\.venv\\Lib\\site-packages\\pandas\\core\\indexing.py:1420\u001b[39m, in \u001b[36m_LocIndexer._getitem_axis\u001b[39m\u001b[34m(self, key, axis)\u001b[39m\n\u001b[32m   1417\u001b[39m     \u001b[38;5;28;01mif\u001b[39;00m \u001b[38;5;28mhasattr\u001b[39m(key, \u001b[33m\"\u001b[39m\u001b[33mndim\u001b[39m\u001b[33m\"\u001b[39m) \u001b[38;5;129;01mand\u001b[39;00m key.ndim > \u001b[32m1\u001b[39m:\n\u001b[32m   1418\u001b[39m         \u001b[38;5;28;01mraise\u001b[39;00m \u001b[38;5;167;01mValueError\u001b[39;00m(\u001b[33m\"\u001b[39m\u001b[33mCannot index with multidimensional key\u001b[39m\u001b[33m\"\u001b[39m)\n\u001b[32m-> \u001b[39m\u001b[32m1420\u001b[39m     \u001b[38;5;28;01mreturn\u001b[39;00m \u001b[38;5;28;43mself\u001b[39;49m\u001b[43m.\u001b[49m\u001b[43m_getitem_iterable\u001b[49m\u001b[43m(\u001b[49m\u001b[43mkey\u001b[49m\u001b[43m,\u001b[49m\u001b[43m \u001b[49m\u001b[43maxis\u001b[49m\u001b[43m=\u001b[49m\u001b[43maxis\u001b[49m\u001b[43m)\u001b[49m\n\u001b[32m   1422\u001b[39m \u001b[38;5;66;03m# nested tuple slicing\u001b[39;00m\n\u001b[32m   1423\u001b[39m \u001b[38;5;28;01mif\u001b[39;00m is_nested_tuple(key, labels):\n",
      "\u001b[36mFile \u001b[39m\u001b[32md:\\Uni\\4. Semester\\Bioinfo\\abT-gdT-cells-Team3\\abT-gdT-cells-Team3\\.venv\\Lib\\site-packages\\pandas\\core\\indexing.py:1360\u001b[39m, in \u001b[36m_LocIndexer._getitem_iterable\u001b[39m\u001b[34m(self, key, axis)\u001b[39m\n\u001b[32m   1357\u001b[39m \u001b[38;5;28mself\u001b[39m._validate_key(key, axis)\n\u001b[32m   1359\u001b[39m \u001b[38;5;66;03m# A collection of keys\u001b[39;00m\n\u001b[32m-> \u001b[39m\u001b[32m1360\u001b[39m keyarr, indexer = \u001b[38;5;28;43mself\u001b[39;49m\u001b[43m.\u001b[49m\u001b[43m_get_listlike_indexer\u001b[49m\u001b[43m(\u001b[49m\u001b[43mkey\u001b[49m\u001b[43m,\u001b[49m\u001b[43m \u001b[49m\u001b[43maxis\u001b[49m\u001b[43m)\u001b[49m\n\u001b[32m   1361\u001b[39m \u001b[38;5;28;01mreturn\u001b[39;00m \u001b[38;5;28mself\u001b[39m.obj._reindex_with_indexers(\n\u001b[32m   1362\u001b[39m     {axis: [keyarr, indexer]}, copy=\u001b[38;5;28;01mTrue\u001b[39;00m, allow_dups=\u001b[38;5;28;01mTrue\u001b[39;00m\n\u001b[32m   1363\u001b[39m )\n",
      "\u001b[36mFile \u001b[39m\u001b[32md:\\Uni\\4. Semester\\Bioinfo\\abT-gdT-cells-Team3\\abT-gdT-cells-Team3\\.venv\\Lib\\site-packages\\pandas\\core\\indexing.py:1558\u001b[39m, in \u001b[36m_LocIndexer._get_listlike_indexer\u001b[39m\u001b[34m(self, key, axis)\u001b[39m\n\u001b[32m   1555\u001b[39m ax = \u001b[38;5;28mself\u001b[39m.obj._get_axis(axis)\n\u001b[32m   1556\u001b[39m axis_name = \u001b[38;5;28mself\u001b[39m.obj._get_axis_name(axis)\n\u001b[32m-> \u001b[39m\u001b[32m1558\u001b[39m keyarr, indexer = \u001b[43max\u001b[49m\u001b[43m.\u001b[49m\u001b[43m_get_indexer_strict\u001b[49m\u001b[43m(\u001b[49m\u001b[43mkey\u001b[49m\u001b[43m,\u001b[49m\u001b[43m \u001b[49m\u001b[43maxis_name\u001b[49m\u001b[43m)\u001b[49m\n\u001b[32m   1560\u001b[39m \u001b[38;5;28;01mreturn\u001b[39;00m keyarr, indexer\n",
      "\u001b[36mFile \u001b[39m\u001b[32md:\\Uni\\4. Semester\\Bioinfo\\abT-gdT-cells-Team3\\abT-gdT-cells-Team3\\.venv\\Lib\\site-packages\\pandas\\core\\indexes\\base.py:6200\u001b[39m, in \u001b[36mIndex._get_indexer_strict\u001b[39m\u001b[34m(self, key, axis_name)\u001b[39m\n\u001b[32m   6197\u001b[39m \u001b[38;5;28;01melse\u001b[39;00m:\n\u001b[32m   6198\u001b[39m     keyarr, indexer, new_indexer = \u001b[38;5;28mself\u001b[39m._reindex_non_unique(keyarr)\n\u001b[32m-> \u001b[39m\u001b[32m6200\u001b[39m \u001b[38;5;28;43mself\u001b[39;49m\u001b[43m.\u001b[49m\u001b[43m_raise_if_missing\u001b[49m\u001b[43m(\u001b[49m\u001b[43mkeyarr\u001b[49m\u001b[43m,\u001b[49m\u001b[43m \u001b[49m\u001b[43mindexer\u001b[49m\u001b[43m,\u001b[49m\u001b[43m \u001b[49m\u001b[43maxis_name\u001b[49m\u001b[43m)\u001b[49m\n\u001b[32m   6202\u001b[39m keyarr = \u001b[38;5;28mself\u001b[39m.take(indexer)\n\u001b[32m   6203\u001b[39m \u001b[38;5;28;01mif\u001b[39;00m \u001b[38;5;28misinstance\u001b[39m(key, Index):\n\u001b[32m   6204\u001b[39m     \u001b[38;5;66;03m# GH 42790 - Preserve name from an Index\u001b[39;00m\n",
      "\u001b[36mFile \u001b[39m\u001b[32md:\\Uni\\4. Semester\\Bioinfo\\abT-gdT-cells-Team3\\abT-gdT-cells-Team3\\.venv\\Lib\\site-packages\\pandas\\core\\indexes\\base.py:6252\u001b[39m, in \u001b[36mIndex._raise_if_missing\u001b[39m\u001b[34m(self, key, indexer, axis_name)\u001b[39m\n\u001b[32m   6249\u001b[39m     \u001b[38;5;28;01mraise\u001b[39;00m \u001b[38;5;167;01mKeyError\u001b[39;00m(\u001b[33mf\u001b[39m\u001b[33m\"\u001b[39m\u001b[33mNone of [\u001b[39m\u001b[38;5;132;01m{\u001b[39;00mkey\u001b[38;5;132;01m}\u001b[39;00m\u001b[33m] are in the [\u001b[39m\u001b[38;5;132;01m{\u001b[39;00maxis_name\u001b[38;5;132;01m}\u001b[39;00m\u001b[33m]\u001b[39m\u001b[33m\"\u001b[39m)\n\u001b[32m   6251\u001b[39m not_found = \u001b[38;5;28mlist\u001b[39m(ensure_index(key)[missing_mask.nonzero()[\u001b[32m0\u001b[39m]].unique())\n\u001b[32m-> \u001b[39m\u001b[32m6252\u001b[39m \u001b[38;5;28;01mraise\u001b[39;00m \u001b[38;5;167;01mKeyError\u001b[39;00m(\u001b[33mf\u001b[39m\u001b[33m\"\u001b[39m\u001b[38;5;132;01m{\u001b[39;00mnot_found\u001b[38;5;132;01m}\u001b[39;00m\u001b[33m not in index\u001b[39m\u001b[33m\"\u001b[39m)\n",
      "\u001b[31mKeyError\u001b[39m: \"['Summit', 'mm10.60way.phastCons_scores', '_-log10_bestPvalue', 'Included.in.systematic.analysis', 'preB.FrD.BM', 'T8.IEL.LCMV.d7.SI', 'MF.LP.SI', 'DC.103+11b+.SI', 'DC.103+11b-.SI', 'distance_to_TSS', 'mean', 'median', 'var', 'sd', 'variability', 'min', 'max', 'range', 'skewness'] not in index\""
     ]
    }
   ],
   "source": [
    "correlate_atac_with_rna(atac_df=df, rna_df=RNA, gene_column=\"nearest_gene\")"
   ]
  },
  {
   "cell_type": "code",
   "execution_count": 9,
   "id": "1a163cf9",
   "metadata": {},
   "outputs": [
    {
     "name": "stdout",
     "output_type": "stream",
     "text": [
      "Index(['LTHSC.34-.BM', 'LTHSC.34+.BM', 'STHSC.150-.BM', 'MPP4.135+.BM',\n",
      "       'proB.CLP.BM', 'proB.FrA.BM', 'proB.FrBC.BM', 'B.FrE.BM', 'B1b.PC',\n",
      "       'B.T1.Sp', 'B.T2.Sp', 'B.T3.Sp', 'B.Sp', 'B.Fem.Sp', 'B.MZ.Sp',\n",
      "       'B.Fo.Sp', 'B.mem.Sp', 'B.GC.CB.Sp', 'B.GC.CC.Sp', 'B.PB.Sp', 'B.PC.Sp',\n",
      "       'B.PC.BM', 'preT.DN1.Th', 'preT.DN2a.Th', 'preT.DN2b.Th', 'preT.DN3.Th',\n",
      "       'T.DN4.Th', 'T.ISP.Th', 'T.DP.Th', 'T.4.Th', 'T.8.Th', 'T.4.Nve.Sp',\n",
      "       'T.4.Nve.Fem.Sp', 'T.8.Nve.Sp', 'T.4.Sp.aCD3+CD40.18hr',\n",
      "       'Treg.4.FP3+.Nrplo.Co', 'Treg.4.25hi.Sp', 'T8.TN.P14.Sp',\n",
      "       'T8.IEL.LCMV.d7.Gut', 'T8.TE.LCMV.d7.Sp', 'T8.MP.LCMV.d7.Sp',\n",
      "       'T8.Tcm.LCMV.d180.Sp', 'T8.Tem.LCMV.d180.Sp', 'NKT.Sp',\n",
      "       'NKT.Sp.LPS.3hr', 'NKT.Sp.LPS.18hr', 'NKT.Sp.LPS.3d',\n",
      "       'Tgd.g2+d17.24a+.Th', 'Tgd.g2+d17.LN', 'Tgd.g2+d1.24a+.Th',\n",
      "       'Tgd.g2+d1.LN', 'Tgd.g1.1+d1.24a+.Th', 'Tgd.g1.1+d1.LN', 'Tgd.Sp',\n",
      "       'NK.27+11b-.BM', 'NK.27+11b+.BM', 'NK.27-11b+.BM', 'NK.27+11b-.Sp',\n",
      "       'NK.27+11b+.Sp', 'NK.27-11b+.Sp', 'ILC2.SI', 'ILC3.NKp46-CCR6-.SI',\n",
      "       'ILC3.NKp46+.SI', 'ILC3.CCR6+.SI', 'MPP3.48+.BM', 'GN.BM', 'GN.Sp',\n",
      "       'GN.Thio.PC', 'Mo.6C+II-.Bl', 'Mo.6C-II-.Bl', 'MF.pIC.Alv.Lu',\n",
      "       'MF.226+II+480lo.PC', 'MF.ICAM+480hi.PC', 'MF.RP.Sp', 'MF.Alv.Lu',\n",
      "       'MF.microglia.CNS', 'MF.PC', 'MF.Fem.PC', 'DC.4+.Sp', 'DC.8+.Sp',\n",
      "       'DC.pDC.Sp', 'FRC.SLN', 'IAP.SLN', 'BEC.SLN', 'LEC.SLN', 'Ep.MEChi.Th'],\n",
      "      dtype='object')\n",
      "Index(['LTHSC.34-.BM', 'LTHSC.34+.BM', 'STHSC.150-.BM', 'MPP4.135+.BM',\n",
      "       'proB.CLP.BM', 'proB.FrA.BM', 'proB.FrBC.BM', 'B.FrE.BM', 'B1b.PC',\n",
      "       'B.T1.Sp', 'B.T2.Sp', 'B.T3.Sp', 'B.Sp', 'B.Fem.Sp', 'B.MZ.Sp',\n",
      "       'B.Fo.Sp', 'B.mem.Sp', 'B.GC.CB.Sp', 'B.GC.CC.Sp', 'B.PB.Sp', 'B.PC.Sp',\n",
      "       'B.PC.BM', 'preT.DN1.Th', 'preT.DN2a.Th', 'preT.DN2b.Th', 'preT.DN3.Th',\n",
      "       'T.DN4.Th', 'T.ISP.Th', 'T.DP.Th', 'T.4.Th', 'T.8.Th', 'T.4.Nve.Sp',\n",
      "       'T.4.Nve.Fem.Sp', 'T.8.Nve.Sp', 'T.4.Sp.aCD3+CD40.18hr',\n",
      "       'Treg.4.FP3+.Nrplo.Co', 'Treg.4.25hi.Sp', 'T8.TN.P14.Sp',\n",
      "       'T8.IEL.LCMV.d7.Gut', 'T8.TE.LCMV.d7.Sp', 'T8.MP.LCMV.d7.Sp',\n",
      "       'T8.Tcm.LCMV.d180.Sp', 'T8.Tem.LCMV.d180.Sp', 'NKT.Sp',\n",
      "       'NKT.Sp.LPS.3hr', 'NKT.Sp.LPS.18hr', 'NKT.Sp.LPS.3d',\n",
      "       'Tgd.g2+d17.24a+.Th', 'Tgd.g2+d17.LN', 'Tgd.g2+d1.24a+.Th',\n",
      "       'Tgd.g2+d1.LN', 'Tgd.g1.1+d1.24a+.Th', 'Tgd.g1.1+d1.LN', 'Tgd.Sp',\n",
      "       'NK.27+11b-.BM', 'NK.27+11b+.BM', 'NK.27-11b+.BM', 'NK.27+11b-.Sp',\n",
      "       'NK.27+11b+.Sp', 'NK.27-11b+.Sp', 'ILC2.SI', 'ILC3.NKp46-CCR6-.SI',\n",
      "       'ILC3.NKp46+.SI', 'ILC3.CCR6+.SI', 'MPP3.48+.BM', 'GN.BM', 'GN.Sp',\n",
      "       'GN.Thio.PC', 'Mo.6C+II-.Bl', 'Mo.6C-II-.Bl', 'MF.pIC.Alv.Lu',\n",
      "       'MF.226+II+480lo.PC', 'MF.ICAM+480hi.PC', 'MF.RP.Sp', 'MF.Alv.Lu',\n",
      "       'MF.microglia.CNS', 'MF.PC', 'MF.Fem.PC', 'DC.4+.Sp', 'DC.8+.Sp',\n",
      "       'DC.pDC.Sp', 'FRC.SLN', 'IAP.SLN', 'BEC.SLN', 'LEC.SLN', 'Ep.MEChi.Th'],\n",
      "      dtype='object')\n",
      "(94, 363046)\n",
      "(86, 6451)\n",
      "               0610007P14Rik  0610009B22Rik  0610009O20Rik  0610010F05Rik  \\\n",
      "LTHSC.34-.BM        7.693863       6.308741       7.406382       6.265552   \n",
      "LTHSC.34+.BM        7.948982       6.318986       7.312212       7.436093   \n",
      "STHSC.150-.BM       7.595628       6.126080       7.294084       6.908770   \n",
      "MPP4.135+.BM        7.681578       6.274600       7.548910       7.455771   \n",
      "proB.CLP.BM         7.575609       6.742621       7.353893       6.775372   \n",
      "\n",
      "               0610010K14Rik  0610012G03Rik  0610030E20Rik  0610037L13Rik  \\\n",
      "LTHSC.34-.BM        7.234254       7.139333       7.656778       6.937223   \n",
      "LTHSC.34+.BM        7.663815       7.277712       7.604689       7.027359   \n",
      "STHSC.150-.BM       7.285670       6.950746       7.905459       7.064215   \n",
      "MPP4.135+.BM        7.338289       7.065491       7.302054       6.828840   \n",
      "proB.CLP.BM         7.586478       7.492894       7.127397       6.426422   \n",
      "\n",
      "               1110004E09Rik  1110004F10Rik  ...    Zswim4    Zswim8  \\\n",
      "LTHSC.34-.BM        6.127657       9.895358  ...  5.349984  5.550078   \n",
      "LTHSC.34+.BM        6.470893       9.959394  ...  5.272991  5.201838   \n",
      "STHSC.150-.BM       6.120127       9.806880  ...  5.528096  5.632716   \n",
      "MPP4.135+.BM        6.194019       9.714640  ...  5.224596  5.575190   \n",
      "proB.CLP.BM         6.134862       9.564541  ...  5.810584  5.721531   \n",
      "\n",
      "                  Zufsp      Zw10     Zwint    Zyg11b        Zyx     Zzef1  \\\n",
      "LTHSC.34-.BM   6.742170  7.033498  8.433011  7.068884  10.074516  7.520544   \n",
      "LTHSC.34+.BM   6.470715  7.142994  8.873581  7.234769   9.967413  7.295411   \n",
      "STHSC.150-.BM  6.854165  7.010358  8.605550  7.434340  10.494566  7.433883   \n",
      "MPP4.135+.BM   6.645743  7.251123  8.754464  7.433421  10.473537  6.920986   \n",
      "proB.CLP.BM    6.650102  7.528355  8.322317  7.057393   9.803972  7.416844   \n",
      "\n",
      "                   Zzz3     l7Rn6  \n",
      "LTHSC.34-.BM   8.088805  6.676449  \n",
      "LTHSC.34+.BM   8.438751  7.195291  \n",
      "STHSC.150-.BM  8.233536  6.823470  \n",
      "MPP4.135+.BM   8.224480  7.143841  \n",
      "proB.CLP.BM    7.880160  7.240419  \n",
      "\n",
      "[5 rows x 6451 columns]\n",
      "Anzahl gemeinsamer Zelltypen: 85\n",
      "Gemeinsame Zelltypen (Beispiel): ['LTHSC.34-.BM', 'LTHSC.34+.BM', 'STHSC.150-.BM', 'MPP4.135+.BM', 'proB.CLP.BM', 'proB.FrA.BM', 'proB.FrBC.BM', 'B.FrE.BM', 'B1b.PC', 'B.T1.Sp']\n",
      "\n",
      "Zelltypen nur in ATAC: ['MF.LP.SI', 'T8.IEL.LCMV.d7.SI', 'preB.FrD.BM', 'Summit', 'Included.in.systematic.analysis', 'DC.103+11b+.SI', 'DC.103+11b-.SI', 'mm10.60way.phastCons_scores', '_-log10_bestPvalue']\n",
      "Zelltypen nur in QC: ['T8.IEL.LCMV.d7.Gut']\n"
     ]
    }
   ],
   "source": [
    "from scipy.stats import pearsonr\n",
    "atac_data=ATAC.copy()\n",
    "\n",
    "    \n",
    "atac_data=atac_data.select_dtypes(include='number')\n",
    "atac_data=atac_data.T\n",
    "#print(atac_data.head())\n",
    "atac_data.drop(['Summit', 'mm10.60way.phastCons_scores', '_-log10_bestPvalue', 'Included.in.systematic.analysis'], axis=0)\n",
    "#print(atac_data.index)\n",
    "#print(atac_data.columns)\n",
    "rna_data=RNA.copy() #damit eingabedaten nicht verändert werden\n",
    "rna_data=rna_data.T\n",
    "print(rna_data.index)\n",
    "#Index festlegen\n",
    "\n",
    "#rna_data.set_index(rna_data.columns[0], inplace=True)\n",
    "print(rna_data.index)\n",
    "# print(qc_data.columns)\n",
    "\n",
    "print(atac_data.shape)\n",
    "print(rna_data.shape)\n",
    "print(rna_data.head())\n",
    "\n",
    "#atac_data.set_index('ImmGenATAC1219.peakID', inplace=True)\n",
    "#atac_data.set_index(atac_data.columns[0], inplace=True)\n",
    "# print(qc_data.index)\n",
    "\n",
    "# print(atac_data.index)\n",
    "\n",
    "# Einheitliche Formatierung der Zelltypen\n",
    "# atac_data.columns = atac_data.columns.astype(str).str.lower().str.replace(\" \", \"\")\n",
    "# qc_data.columns = qc_data.columns.astype(str).str.lower().str.replace(\" \", \"\")\n",
    "\n",
    "#qc_data.index = qc_data.index.astype(str).str.lower().str.replace(\" \", \"\")\n",
    "\n",
    "# Gemeinsame Zelltypen identifizieren\n",
    "#gemeinsame_zelltypen = set(atac_data.index).intersection(qc_data.index)\n",
    "gemeinsame_zelltypen = list((atac_data.index).intersection(rna_data.index))\n",
    "\n",
    "print(f\"Anzahl gemeinsamer Zelltypen: {len(gemeinsame_zelltypen)}\")\n",
    "print(\"Gemeinsame Zelltypen (Beispiel):\", list(gemeinsame_zelltypen)[:10])\n",
    "\n",
    "# Zelltypen, die nur in einem der DataFrames vorkommen\n",
    "print(\"\\nZelltypen nur in ATAC:\", list(set(atac_data.index) - set(rna_data.index))[:10])\n",
    "print(\"Zelltypen nur in QC:\", list(set(rna_data.index) - set(atac_data.index))[:10])\n",
    "\n",
    "# atac_stat=atac_data.mean(axis=1)#.rename('ATAC_stat')\n",
    "\n",
    "\n",
    "# #common_cells = atac_stat.index.intersection(qc_data.index)\n",
    "# atac_vals = atac_stat.loc[gemeinsame_zelltypen]\n",
    "# #print(atac_vals.head(10))\n",
    "# print(atac_vals.shape)\n",
    "\n",
    "# qc_metric_col = 'InputCellNumber'\n",
    "# qc_data_numeric = qc_data.select_dtypes(include='number')\n",
    "# qc_data_grouped = qc_data_numeric.groupby(qc_data.index).mean()\n",
    "# qc_vals = qc_data_grouped.loc[gemeinsame_zelltypen, qc_metric_col]\n",
    "# print(qc_vals.head())\n",
    "# print(qc_vals.shape)\n",
    "# #print(qc_data.index.value_counts())\n",
    "# #print(qc_vals.head(10))\n",
    "# # print(\"ATAC-Werte Länge:\", len(atac_vals))\n",
    "# # print(\"QC-Werte Länge:\", len(qc_vals))\n",
    "# # print(\"Fehlende Werte in QC:\", qc_vals.isna().sum())\n",
    "# # print(\"Fehlende Werte in ATAC:\", atac_vals.isna().sum())\n",
    "\n",
    "# r, p_value=pearsonr(atac_vals, qc_vals)\n",
    "# print(f\"Pearson r = {r:.3f}, p = {p_value:.3g}\")"
   ]
  },
  {
   "cell_type": "code",
   "execution_count": null,
   "id": "1e34e424",
   "metadata": {},
   "outputs": [],
   "source": [
    "cor_df = correlate_promoter_atac_rna(atac_annotated[atac_annotated.index.isin(ATAC_top)], RNA, ATAC_scores)\n",
    "print(cor_df.columns)\n",
    "print(cor_df['peak_id'])"
   ]
  },
  {
   "cell_type": "code",
   "execution_count": null,
   "id": "41d31fd2",
   "metadata": {},
   "outputs": [],
   "source": [
    "heatmap_df = cor_df.pivot(index='gene', columns='peak_id', values='r')\n",
    "\n",
    "plt.figure(figsize=(12, 8))\n",
    "sns.heatmap(heatmap_df, cmap='coolwarm', center=0, vmin=-1, vmax=1)\n",
    "plt.title('Promoter-ATAC-RNA Pearson-Korrelationen')\n",
    "plt.xlabel('Peak-ID')\n",
    "plt.ylabel('Gen')\n",
    "plt.tight_layout()\n",
    "plt.show()"
   ]
  },
  {
   "cell_type": "code",
   "execution_count": 4,
   "id": "f31035b4",
   "metadata": {},
   "outputs": [],
   "source": [
    "def correlate_promoter_atac_rna(ATAC, RNA, ATAC_scores):\n",
    "    # Nur gemeinsame Cell-Typ-Namen verwenden!\n",
    "    gemeinsame_celltypen = [col for col in ATAC_scores.columns if col in RNA.columns]\n",
    "    print(f\"Gemeinsame Celltypen ({len(gemeinsame_celltypen)}):\", gemeinsame_celltypen)\n",
    "    \n",
    "    promoter_peaks = ATAC[ATAC['distance_to_TSS'] <= 2000].copy()\n",
    "    promoter_peaks['main_gene'] = promoter_peaks['nearest_gene']\n",
    "    results = []\n",
    "    for idx, row in promoter_peaks.iterrows():\n",
    "        gene = row['main_gene']\n",
    "        if gene in RNA.index:\n",
    "            atac_vec = row[gemeinsame_celltypen].values.astype(float)\n",
    "            rna_vec = RNA.loc[gene, gemeinsame_celltypen].values.astype(float)\n",
    "            if not (np.isnan(atac_vec).any() or np.isnan(rna_vec).any()):\n",
    "                r, p = scipy.stats.pearsonr(atac_vec, rna_vec)\n",
    "                results.append({'peak_id': idx, 'gene': gene, 'r': r, 'p': p})\n",
    "    print(f\"Anzahl berechnete Korrelationen: {len(results)}\")\n",
    "    return pd.DataFrame(results)"
   ]
  }
 ],
 "metadata": {
  "kernelspec": {
   "display_name": ".venv",
   "language": "python",
   "name": "python3"
  },
  "language_info": {
   "codemirror_mode": {
    "name": "ipython",
    "version": 3
   },
   "file_extension": ".py",
   "mimetype": "text/x-python",
   "name": "python",
   "nbconvert_exporter": "python",
   "pygments_lexer": "ipython3",
   "version": "3.13.3"
  }
 },
 "nbformat": 4,
 "nbformat_minor": 5
}
