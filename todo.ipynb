{
 "cells": [
  {
   "cell_type": "markdown",
   "id": "31f24476",
   "metadata": {},
   "source": [
    "### ToDo Kaja"
   ]
  },
  {
   "cell_type": "markdown",
   "id": "a8d3ebc6",
   "metadata": {},
   "source": [
    "1.1 Interpretation\n",
    "\n",
    "bar von variability für jeden celltype done\n",
    "\n",
    "2.3 interpretieren"
   ]
  },
  {
   "cell_type": "markdown",
   "id": "778331d8",
   "metadata": {},
   "source": [
    "2.3\n",
    "1a schon in final\n",
    "2b\n",
    "3c\n",
    "4d\n",
    "5e\n",
    "6f schon in final\n",
    "7g schon in final\n",
    "\n",
    "immune cells final meine defs und plots ordnen\n",
    "\n",
    "dann biologisiche interpretation"
   ]
  }
 ],
 "metadata": {
  "language_info": {
   "name": "python"
  }
 },
 "nbformat": 4,
 "nbformat_minor": 5
}
