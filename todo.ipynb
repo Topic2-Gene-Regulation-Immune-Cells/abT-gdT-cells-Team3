{
 "cells": [
  {
   "cell_type": "markdown",
   "id": "31f24476",
   "metadata": {},
   "source": [
    "### ToDo Kaja"
   ]
  },
  {
   "cell_type": "markdown",
   "id": "a8d3ebc6",
   "metadata": {},
   "source": [
    "1.1 Interpretation\n",
    "\n",
    "bar von variability für jeden celltype done\n",
    "\n",
    "2.3 interpretieren"
   ]
  },
  {
   "cell_type": "markdown",
   "id": "778331d8",
   "metadata": {},
   "source": []
  }
 ],
 "metadata": {
  "language_info": {
   "name": "python"
  }
 },
 "nbformat": 4,
 "nbformat_minor": 5
}
